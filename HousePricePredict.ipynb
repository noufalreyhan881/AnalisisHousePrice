{
 "cells": [
  {
   "cell_type": "markdown",
   "metadata": {},
   "source": [
    "# i.Perkenalan"
   ]
  },
  {
   "cell_type": "markdown",
   "metadata": {},
   "source": [
    "> Bab pengenalan harus diisi dengan identitas, gambaran besar dataset yang digunakan, dan objective yang ingin dicapai."
   ]
  },
  {
   "cell_type": "markdown",
   "metadata": {},
   "source": [
    "---\n",
    "### ***House Price Predict***\n",
    "\n",
    "***Dataset*** : House price prediction\n",
    "\n",
    "***Tujuan*** : \n",
    "\n",
    "*Project ini dibuat guna mengevaluasi konsep Machine Learning*\n",
    "\n",
    "- Mampu memahami konsep Machine Learning secara keseluruhan.\n",
    "- Mampu mempersiapkan data untuk digunakan dalam model Supervised Learning (Classification atau Regression).\n",
    "- Mampu mengimplementasikan Supervised Learning (Classification atau Regression) dengan data yang dipilih.\n",
    "- Mampu melakukan Hyperparameter Tuning dan Model Improvement.\n",
    "- Mampu melakukan Model Deployment.\n",
    "\n",
    "---"
   ]
  },
  {
   "cell_type": "markdown",
   "metadata": {},
   "source": [
    "---\n",
    "##### ***Latar Belakang***\n",
    "\n",
    "*Pertumbuhan ekonomi yang pesat, urbanisasi, dan peningkatan pendapatan masyarakat telah memberikan dorongan signifikan bagi industri properti di berbagai belahan dunia. Bisnis properti mencakup segala aspek, mulai dari pembangunan perumahan, komersial, hingga properti industri, yang semuanya memiliki dampak signifikan terhadap ekonomi, masyarakat, dan lingkungan.*\n",
    "\n",
    "---"
   ]
  },
  {
   "cell_type": "markdown",
   "metadata": {},
   "source": [
    "---\n",
    "##### ***Problem Statement:***\n",
    "\n",
    "*Pasar properti, memberikan peluang menarik bagi analis data untuk menganalisis dan memprediksi ke mana arah harga properti. Memprediksi harga properti menjadi semakin penting dan berguna. Harga properti merupakan indikator yang baik untuk kondisi pasar secara keseluruhan dan kesehatan ekonomi suatu negara. Semoga saja model ini dapat membantu agen properti dan pembeli untuk mendapat perkiraan harga yang akurat.*\n",
    "\n",
    "---"
   ]
  },
  {
   "cell_type": "markdown",
   "metadata": {},
   "source": [
    "# ii.Import Libraries"
   ]
  },
  {
   "cell_type": "markdown",
   "metadata": {},
   "source": [
    "> Cell pertama pada notebook harus berisi dan hanya berisi semua library yang digunakan dalam project."
   ]
  },
  {
   "cell_type": "code",
   "execution_count": 20,
   "metadata": {},
   "outputs": [
    {
     "name": "stdout",
     "output_type": "stream",
     "text": [
      "Import Libaries Telah Berhasil!\n"
     ]
    }
   ],
   "source": [
    "# Import libraries\n",
    "import pandas as pd\n",
    "import numpy as np\n",
    "import seaborn as sns\n",
    "import matplotlib.pyplot as plt\n",
    "from scipy import stats\n",
    "from scipy.stats import kendalltau\n",
    "import pickle\n",
    "import plotly.express  as px \n",
    "from sklearn.model_selection import train_test_split\n",
    "from sklearn.preprocessing import MinMaxScaler\n",
    "from feature_engine.outliers import Winsorizer , OutlierTrimmer\n",
    "from imblearn.over_sampling import SMOTENC\n",
    "import statsmodels.api as sm\n",
    "from statsmodels.stats.outliers_influence import variance_inflation_factor\n",
    "from sklearn.pipeline import Pipeline\n",
    "from sklearn.compose import ColumnTransformer\n",
    "from sklearn.preprocessing import StandardScaler, OrdinalEncoder,OneHotEncoder\n",
    "from sklearn.neighbors import KNeighborsRegressor\n",
    "from sklearn.svm import SVR\n",
    "from sklearn.ensemble import  AdaBoostRegressor, RandomForestRegressor\n",
    "from sklearn.tree import DecisionTreeRegressor\n",
    "from sklearn.linear_model import LinearRegression\n",
    "from sklearn.model_selection import cross_validate\n",
    "from sklearn.model_selection import RandomizedSearchCV, GridSearchCV\n",
    "from sklearn.metrics import make_scorer, mean_absolute_error, mean_squared_error, mean_squared_log_error, r2_score, mean_absolute_percentage_error\n",
    "from sklearn.svm import SVC\n",
    "from sklearn.metrics import classification_report, confusion_matrix, ConfusionMatrixDisplay, f1_score, accuracy_score, precision_score, recall_score\n",
    "from sklearn.model_selection import cross_val_score\n",
    "from sklearn.linear_model import SGDRegressor\n",
    "from sklearn.datasets import make_regression\n",
    "from sklearn.metrics import mean_squared_error\n",
    "\n",
    "import warnings\n",
    "warnings.filterwarnings('ignore')\n",
    "\n",
    "print(\"Import Libaries Telah Berhasil!\")"
   ]
  },
  {
   "cell_type": "markdown",
   "metadata": {},
   "source": [
    "# iii.Data Loading"
   ]
  },
  {
   "cell_type": "markdown",
   "metadata": {},
   "source": [
    "> Bagian ini berisi proses penyiapan data sebelum dilakukan eksplorasi data lebih lanjut. Proses Data Loading dapat berupa memberi nama baru untuk setiap kolom, mengecek ukuran dataset, dll."
   ]
  },
  {
   "cell_type": "code",
   "execution_count": 2,
   "metadata": {},
   "outputs": [
    {
     "data": {
      "text/html": [
       "<div>\n",
       "<style scoped>\n",
       "    .dataframe tbody tr th:only-of-type {\n",
       "        vertical-align: middle;\n",
       "    }\n",
       "\n",
       "    .dataframe tbody tr th {\n",
       "        vertical-align: top;\n",
       "    }\n",
       "\n",
       "    .dataframe thead th {\n",
       "        text-align: right;\n",
       "    }\n",
       "</style>\n",
       "<table border=\"1\" class=\"dataframe\">\n",
       "  <thead>\n",
       "    <tr style=\"text-align: right;\">\n",
       "      <th></th>\n",
       "      <th>date</th>\n",
       "      <th>price</th>\n",
       "      <th>bedrooms</th>\n",
       "      <th>bathrooms</th>\n",
       "      <th>sqft_living</th>\n",
       "      <th>sqft_lot</th>\n",
       "      <th>floors</th>\n",
       "      <th>waterfront</th>\n",
       "      <th>view</th>\n",
       "      <th>condition</th>\n",
       "      <th>sqft_above</th>\n",
       "      <th>sqft_basement</th>\n",
       "      <th>yr_built</th>\n",
       "      <th>yr_renovated</th>\n",
       "      <th>street</th>\n",
       "      <th>city</th>\n",
       "      <th>statezip</th>\n",
       "      <th>country</th>\n",
       "    </tr>\n",
       "  </thead>\n",
       "  <tbody>\n",
       "    <tr>\n",
       "      <th>0</th>\n",
       "      <td>2014-05-02 00:00:00</td>\n",
       "      <td>3.130000e+05</td>\n",
       "      <td>3.0</td>\n",
       "      <td>1.50</td>\n",
       "      <td>1340</td>\n",
       "      <td>7912</td>\n",
       "      <td>1.5</td>\n",
       "      <td>0</td>\n",
       "      <td>0</td>\n",
       "      <td>3</td>\n",
       "      <td>1340</td>\n",
       "      <td>0</td>\n",
       "      <td>1955</td>\n",
       "      <td>2005</td>\n",
       "      <td>18810 Densmore Ave N</td>\n",
       "      <td>Shoreline</td>\n",
       "      <td>WA 98133</td>\n",
       "      <td>USA</td>\n",
       "    </tr>\n",
       "    <tr>\n",
       "      <th>1</th>\n",
       "      <td>2014-05-02 00:00:00</td>\n",
       "      <td>2.384000e+06</td>\n",
       "      <td>5.0</td>\n",
       "      <td>2.50</td>\n",
       "      <td>3650</td>\n",
       "      <td>9050</td>\n",
       "      <td>2.0</td>\n",
       "      <td>0</td>\n",
       "      <td>4</td>\n",
       "      <td>5</td>\n",
       "      <td>3370</td>\n",
       "      <td>280</td>\n",
       "      <td>1921</td>\n",
       "      <td>0</td>\n",
       "      <td>709 W Blaine St</td>\n",
       "      <td>Seattle</td>\n",
       "      <td>WA 98119</td>\n",
       "      <td>USA</td>\n",
       "    </tr>\n",
       "    <tr>\n",
       "      <th>2</th>\n",
       "      <td>2014-05-02 00:00:00</td>\n",
       "      <td>3.420000e+05</td>\n",
       "      <td>3.0</td>\n",
       "      <td>2.00</td>\n",
       "      <td>1930</td>\n",
       "      <td>11947</td>\n",
       "      <td>1.0</td>\n",
       "      <td>0</td>\n",
       "      <td>0</td>\n",
       "      <td>4</td>\n",
       "      <td>1930</td>\n",
       "      <td>0</td>\n",
       "      <td>1966</td>\n",
       "      <td>0</td>\n",
       "      <td>26206-26214 143rd Ave SE</td>\n",
       "      <td>Kent</td>\n",
       "      <td>WA 98042</td>\n",
       "      <td>USA</td>\n",
       "    </tr>\n",
       "    <tr>\n",
       "      <th>3</th>\n",
       "      <td>2014-05-02 00:00:00</td>\n",
       "      <td>4.200000e+05</td>\n",
       "      <td>3.0</td>\n",
       "      <td>2.25</td>\n",
       "      <td>2000</td>\n",
       "      <td>8030</td>\n",
       "      <td>1.0</td>\n",
       "      <td>0</td>\n",
       "      <td>0</td>\n",
       "      <td>4</td>\n",
       "      <td>1000</td>\n",
       "      <td>1000</td>\n",
       "      <td>1963</td>\n",
       "      <td>0</td>\n",
       "      <td>857 170th Pl NE</td>\n",
       "      <td>Bellevue</td>\n",
       "      <td>WA 98008</td>\n",
       "      <td>USA</td>\n",
       "    </tr>\n",
       "    <tr>\n",
       "      <th>4</th>\n",
       "      <td>2014-05-02 00:00:00</td>\n",
       "      <td>5.500000e+05</td>\n",
       "      <td>4.0</td>\n",
       "      <td>2.50</td>\n",
       "      <td>1940</td>\n",
       "      <td>10500</td>\n",
       "      <td>1.0</td>\n",
       "      <td>0</td>\n",
       "      <td>0</td>\n",
       "      <td>4</td>\n",
       "      <td>1140</td>\n",
       "      <td>800</td>\n",
       "      <td>1976</td>\n",
       "      <td>1992</td>\n",
       "      <td>9105 170th Ave NE</td>\n",
       "      <td>Redmond</td>\n",
       "      <td>WA 98052</td>\n",
       "      <td>USA</td>\n",
       "    </tr>\n",
       "    <tr>\n",
       "      <th>...</th>\n",
       "      <td>...</td>\n",
       "      <td>...</td>\n",
       "      <td>...</td>\n",
       "      <td>...</td>\n",
       "      <td>...</td>\n",
       "      <td>...</td>\n",
       "      <td>...</td>\n",
       "      <td>...</td>\n",
       "      <td>...</td>\n",
       "      <td>...</td>\n",
       "      <td>...</td>\n",
       "      <td>...</td>\n",
       "      <td>...</td>\n",
       "      <td>...</td>\n",
       "      <td>...</td>\n",
       "      <td>...</td>\n",
       "      <td>...</td>\n",
       "      <td>...</td>\n",
       "    </tr>\n",
       "    <tr>\n",
       "      <th>4595</th>\n",
       "      <td>2014-07-09 00:00:00</td>\n",
       "      <td>3.081667e+05</td>\n",
       "      <td>3.0</td>\n",
       "      <td>1.75</td>\n",
       "      <td>1510</td>\n",
       "      <td>6360</td>\n",
       "      <td>1.0</td>\n",
       "      <td>0</td>\n",
       "      <td>0</td>\n",
       "      <td>4</td>\n",
       "      <td>1510</td>\n",
       "      <td>0</td>\n",
       "      <td>1954</td>\n",
       "      <td>1979</td>\n",
       "      <td>501 N 143rd St</td>\n",
       "      <td>Seattle</td>\n",
       "      <td>WA 98133</td>\n",
       "      <td>USA</td>\n",
       "    </tr>\n",
       "    <tr>\n",
       "      <th>4596</th>\n",
       "      <td>2014-07-09 00:00:00</td>\n",
       "      <td>5.343333e+05</td>\n",
       "      <td>3.0</td>\n",
       "      <td>2.50</td>\n",
       "      <td>1460</td>\n",
       "      <td>7573</td>\n",
       "      <td>2.0</td>\n",
       "      <td>0</td>\n",
       "      <td>0</td>\n",
       "      <td>3</td>\n",
       "      <td>1460</td>\n",
       "      <td>0</td>\n",
       "      <td>1983</td>\n",
       "      <td>2009</td>\n",
       "      <td>14855 SE 10th Pl</td>\n",
       "      <td>Bellevue</td>\n",
       "      <td>WA 98007</td>\n",
       "      <td>USA</td>\n",
       "    </tr>\n",
       "    <tr>\n",
       "      <th>4597</th>\n",
       "      <td>2014-07-09 00:00:00</td>\n",
       "      <td>4.169042e+05</td>\n",
       "      <td>3.0</td>\n",
       "      <td>2.50</td>\n",
       "      <td>3010</td>\n",
       "      <td>7014</td>\n",
       "      <td>2.0</td>\n",
       "      <td>0</td>\n",
       "      <td>0</td>\n",
       "      <td>3</td>\n",
       "      <td>3010</td>\n",
       "      <td>0</td>\n",
       "      <td>2009</td>\n",
       "      <td>0</td>\n",
       "      <td>759 Ilwaco Pl NE</td>\n",
       "      <td>Renton</td>\n",
       "      <td>WA 98059</td>\n",
       "      <td>USA</td>\n",
       "    </tr>\n",
       "    <tr>\n",
       "      <th>4598</th>\n",
       "      <td>2014-07-10 00:00:00</td>\n",
       "      <td>2.034000e+05</td>\n",
       "      <td>4.0</td>\n",
       "      <td>2.00</td>\n",
       "      <td>2090</td>\n",
       "      <td>6630</td>\n",
       "      <td>1.0</td>\n",
       "      <td>0</td>\n",
       "      <td>0</td>\n",
       "      <td>3</td>\n",
       "      <td>1070</td>\n",
       "      <td>1020</td>\n",
       "      <td>1974</td>\n",
       "      <td>0</td>\n",
       "      <td>5148 S Creston St</td>\n",
       "      <td>Seattle</td>\n",
       "      <td>WA 98178</td>\n",
       "      <td>USA</td>\n",
       "    </tr>\n",
       "    <tr>\n",
       "      <th>4599</th>\n",
       "      <td>2014-07-10 00:00:00</td>\n",
       "      <td>2.206000e+05</td>\n",
       "      <td>3.0</td>\n",
       "      <td>2.50</td>\n",
       "      <td>1490</td>\n",
       "      <td>8102</td>\n",
       "      <td>2.0</td>\n",
       "      <td>0</td>\n",
       "      <td>0</td>\n",
       "      <td>4</td>\n",
       "      <td>1490</td>\n",
       "      <td>0</td>\n",
       "      <td>1990</td>\n",
       "      <td>0</td>\n",
       "      <td>18717 SE 258th St</td>\n",
       "      <td>Covington</td>\n",
       "      <td>WA 98042</td>\n",
       "      <td>USA</td>\n",
       "    </tr>\n",
       "  </tbody>\n",
       "</table>\n",
       "<p>4600 rows × 18 columns</p>\n",
       "</div>"
      ],
      "text/plain": [
       "                     date         price  bedrooms  bathrooms  sqft_living  \\\n",
       "0     2014-05-02 00:00:00  3.130000e+05       3.0       1.50         1340   \n",
       "1     2014-05-02 00:00:00  2.384000e+06       5.0       2.50         3650   \n",
       "2     2014-05-02 00:00:00  3.420000e+05       3.0       2.00         1930   \n",
       "3     2014-05-02 00:00:00  4.200000e+05       3.0       2.25         2000   \n",
       "4     2014-05-02 00:00:00  5.500000e+05       4.0       2.50         1940   \n",
       "...                   ...           ...       ...        ...          ...   \n",
       "4595  2014-07-09 00:00:00  3.081667e+05       3.0       1.75         1510   \n",
       "4596  2014-07-09 00:00:00  5.343333e+05       3.0       2.50         1460   \n",
       "4597  2014-07-09 00:00:00  4.169042e+05       3.0       2.50         3010   \n",
       "4598  2014-07-10 00:00:00  2.034000e+05       4.0       2.00         2090   \n",
       "4599  2014-07-10 00:00:00  2.206000e+05       3.0       2.50         1490   \n",
       "\n",
       "      sqft_lot  floors  waterfront  view  condition  sqft_above  \\\n",
       "0         7912     1.5           0     0          3        1340   \n",
       "1         9050     2.0           0     4          5        3370   \n",
       "2        11947     1.0           0     0          4        1930   \n",
       "3         8030     1.0           0     0          4        1000   \n",
       "4        10500     1.0           0     0          4        1140   \n",
       "...        ...     ...         ...   ...        ...         ...   \n",
       "4595      6360     1.0           0     0          4        1510   \n",
       "4596      7573     2.0           0     0          3        1460   \n",
       "4597      7014     2.0           0     0          3        3010   \n",
       "4598      6630     1.0           0     0          3        1070   \n",
       "4599      8102     2.0           0     0          4        1490   \n",
       "\n",
       "      sqft_basement  yr_built  yr_renovated                    street  \\\n",
       "0                 0      1955          2005      18810 Densmore Ave N   \n",
       "1               280      1921             0           709 W Blaine St   \n",
       "2                 0      1966             0  26206-26214 143rd Ave SE   \n",
       "3              1000      1963             0           857 170th Pl NE   \n",
       "4               800      1976          1992         9105 170th Ave NE   \n",
       "...             ...       ...           ...                       ...   \n",
       "4595              0      1954          1979            501 N 143rd St   \n",
       "4596              0      1983          2009          14855 SE 10th Pl   \n",
       "4597              0      2009             0          759 Ilwaco Pl NE   \n",
       "4598           1020      1974             0         5148 S Creston St   \n",
       "4599              0      1990             0         18717 SE 258th St   \n",
       "\n",
       "           city  statezip country  \n",
       "0     Shoreline  WA 98133     USA  \n",
       "1       Seattle  WA 98119     USA  \n",
       "2          Kent  WA 98042     USA  \n",
       "3      Bellevue  WA 98008     USA  \n",
       "4       Redmond  WA 98052     USA  \n",
       "...         ...       ...     ...  \n",
       "4595    Seattle  WA 98133     USA  \n",
       "4596   Bellevue  WA 98007     USA  \n",
       "4597     Renton  WA 98059     USA  \n",
       "4598    Seattle  WA 98178     USA  \n",
       "4599  Covington  WA 98042     USA  \n",
       "\n",
       "[4600 rows x 18 columns]"
      ]
     },
     "execution_count": 2,
     "metadata": {},
     "output_type": "execute_result"
    }
   ],
   "source": [
    "# Load data dari CSV\n",
    "df = pd.read_csv('House_Price_Predic.csv')\n",
    "df"
   ]
  },
  {
   "cell_type": "markdown",
   "metadata": {},
   "source": [
    "#### **TABLE DESC:**\n",
    "| No. | Nama Kolom | Deskripsi |\n",
    "|-----|----------- | --------- |\n",
    "| 1 | **Date** | This column contains the date when a particular property transaction occurred. |\n",
    "| 2 | **Price** | This column contains the selling price of the house in question. |\n",
    "| 3 | **Bedrooms** | This column indicates the number of bedrooms in the house. |\n",
    "| 4 | **Bathrooms** | This column shows the number of bathrooms in the house, including both full and half bathrooms. |\n",
    "| 5 | **Sqft_living** | This column represents the total square footage of the living space (interior) of the house. |\n",
    "| 6 | **Sqft_lot** | This column is likely the total square footage of the land or plot on which the house is built. |\n",
    "| 7 | **Floors** | This column indicates the number of floors or levels in the house. |\n",
    "| 8 | **Waterfront** | It's a binary column that could indicate whether the property has a waterfront view or not (e.g., 1 for waterfront, 0 for no waterfront). |\n",
    "| 9 | **View** | This column might describe the level of view the property has, typically on a scale from 0 to 4, with 0 being no view and 4 being an excellent view. |\n",
    "| 10 | **Condition** | This column could represent the overall condition of the property, often rated on a scale from 1 to 5, with 1 being poor and 5 being excellent. |\n",
    "| 11 | **Sqft_above** | This column likely shows the square footage of the interior living space above ground level. |\n",
    "| 12 | **Sqft_basement** | This column should contain the square footage of any basement space in the house. |\n",
    "| 13 | **Yr_built** | This is the year the house was originally built. |\n",
    "| 14 | **Yr_renovated** | If the house has been renovated, this column may contain the year when the renovation took place. |\n",
    "| 15 | **Street** | This column might provide information about the street or address of the property. |\n",
    "| 16 | **City** | It represents the city where the property is located. |\n",
    "| 17 | **Statezip** | This column could contain information about the state and ZIP code of the property. |\n",
    "| 18 | **Country** | In this context, it's likely that all entries are from the same country, so this column may not provide much variation. |"
   ]
  },
  {
   "cell_type": "code",
   "execution_count": 3,
   "metadata": {},
   "outputs": [
    {
     "data": {
      "text/html": [
       "<div>\n",
       "<style scoped>\n",
       "    .dataframe tbody tr th:only-of-type {\n",
       "        vertical-align: middle;\n",
       "    }\n",
       "\n",
       "    .dataframe tbody tr th {\n",
       "        vertical-align: top;\n",
       "    }\n",
       "\n",
       "    .dataframe thead th {\n",
       "        text-align: right;\n",
       "    }\n",
       "</style>\n",
       "<table border=\"1\" class=\"dataframe\">\n",
       "  <thead>\n",
       "    <tr style=\"text-align: right;\">\n",
       "      <th></th>\n",
       "      <th>date</th>\n",
       "      <th>price</th>\n",
       "      <th>bedrooms</th>\n",
       "      <th>bathrooms</th>\n",
       "      <th>sqft_living</th>\n",
       "      <th>sqft_lot</th>\n",
       "      <th>floors</th>\n",
       "      <th>waterfront</th>\n",
       "      <th>view</th>\n",
       "      <th>condition</th>\n",
       "      <th>sqft_above</th>\n",
       "      <th>sqft_basement</th>\n",
       "      <th>yr_built</th>\n",
       "      <th>yr_renovated</th>\n",
       "      <th>street</th>\n",
       "      <th>city</th>\n",
       "      <th>statezip</th>\n",
       "      <th>country</th>\n",
       "    </tr>\n",
       "  </thead>\n",
       "  <tbody>\n",
       "    <tr>\n",
       "      <th>0</th>\n",
       "      <td>2014-05-02 00:00:00</td>\n",
       "      <td>313000.0</td>\n",
       "      <td>3.0</td>\n",
       "      <td>1.50</td>\n",
       "      <td>1340</td>\n",
       "      <td>7912</td>\n",
       "      <td>1.5</td>\n",
       "      <td>0</td>\n",
       "      <td>0</td>\n",
       "      <td>3</td>\n",
       "      <td>1340</td>\n",
       "      <td>0</td>\n",
       "      <td>1955</td>\n",
       "      <td>2005</td>\n",
       "      <td>18810 Densmore Ave N</td>\n",
       "      <td>Shoreline</td>\n",
       "      <td>WA 98133</td>\n",
       "      <td>USA</td>\n",
       "    </tr>\n",
       "    <tr>\n",
       "      <th>1</th>\n",
       "      <td>2014-05-02 00:00:00</td>\n",
       "      <td>2384000.0</td>\n",
       "      <td>5.0</td>\n",
       "      <td>2.50</td>\n",
       "      <td>3650</td>\n",
       "      <td>9050</td>\n",
       "      <td>2.0</td>\n",
       "      <td>0</td>\n",
       "      <td>4</td>\n",
       "      <td>5</td>\n",
       "      <td>3370</td>\n",
       "      <td>280</td>\n",
       "      <td>1921</td>\n",
       "      <td>0</td>\n",
       "      <td>709 W Blaine St</td>\n",
       "      <td>Seattle</td>\n",
       "      <td>WA 98119</td>\n",
       "      <td>USA</td>\n",
       "    </tr>\n",
       "    <tr>\n",
       "      <th>2</th>\n",
       "      <td>2014-05-02 00:00:00</td>\n",
       "      <td>342000.0</td>\n",
       "      <td>3.0</td>\n",
       "      <td>2.00</td>\n",
       "      <td>1930</td>\n",
       "      <td>11947</td>\n",
       "      <td>1.0</td>\n",
       "      <td>0</td>\n",
       "      <td>0</td>\n",
       "      <td>4</td>\n",
       "      <td>1930</td>\n",
       "      <td>0</td>\n",
       "      <td>1966</td>\n",
       "      <td>0</td>\n",
       "      <td>26206-26214 143rd Ave SE</td>\n",
       "      <td>Kent</td>\n",
       "      <td>WA 98042</td>\n",
       "      <td>USA</td>\n",
       "    </tr>\n",
       "    <tr>\n",
       "      <th>3</th>\n",
       "      <td>2014-05-02 00:00:00</td>\n",
       "      <td>420000.0</td>\n",
       "      <td>3.0</td>\n",
       "      <td>2.25</td>\n",
       "      <td>2000</td>\n",
       "      <td>8030</td>\n",
       "      <td>1.0</td>\n",
       "      <td>0</td>\n",
       "      <td>0</td>\n",
       "      <td>4</td>\n",
       "      <td>1000</td>\n",
       "      <td>1000</td>\n",
       "      <td>1963</td>\n",
       "      <td>0</td>\n",
       "      <td>857 170th Pl NE</td>\n",
       "      <td>Bellevue</td>\n",
       "      <td>WA 98008</td>\n",
       "      <td>USA</td>\n",
       "    </tr>\n",
       "    <tr>\n",
       "      <th>4</th>\n",
       "      <td>2014-05-02 00:00:00</td>\n",
       "      <td>550000.0</td>\n",
       "      <td>4.0</td>\n",
       "      <td>2.50</td>\n",
       "      <td>1940</td>\n",
       "      <td>10500</td>\n",
       "      <td>1.0</td>\n",
       "      <td>0</td>\n",
       "      <td>0</td>\n",
       "      <td>4</td>\n",
       "      <td>1140</td>\n",
       "      <td>800</td>\n",
       "      <td>1976</td>\n",
       "      <td>1992</td>\n",
       "      <td>9105 170th Ave NE</td>\n",
       "      <td>Redmond</td>\n",
       "      <td>WA 98052</td>\n",
       "      <td>USA</td>\n",
       "    </tr>\n",
       "    <tr>\n",
       "      <th>5</th>\n",
       "      <td>2014-05-02 00:00:00</td>\n",
       "      <td>490000.0</td>\n",
       "      <td>2.0</td>\n",
       "      <td>1.00</td>\n",
       "      <td>880</td>\n",
       "      <td>6380</td>\n",
       "      <td>1.0</td>\n",
       "      <td>0</td>\n",
       "      <td>0</td>\n",
       "      <td>3</td>\n",
       "      <td>880</td>\n",
       "      <td>0</td>\n",
       "      <td>1938</td>\n",
       "      <td>1994</td>\n",
       "      <td>522 NE 88th St</td>\n",
       "      <td>Seattle</td>\n",
       "      <td>WA 98115</td>\n",
       "      <td>USA</td>\n",
       "    </tr>\n",
       "    <tr>\n",
       "      <th>6</th>\n",
       "      <td>2014-05-02 00:00:00</td>\n",
       "      <td>335000.0</td>\n",
       "      <td>2.0</td>\n",
       "      <td>2.00</td>\n",
       "      <td>1350</td>\n",
       "      <td>2560</td>\n",
       "      <td>1.0</td>\n",
       "      <td>0</td>\n",
       "      <td>0</td>\n",
       "      <td>3</td>\n",
       "      <td>1350</td>\n",
       "      <td>0</td>\n",
       "      <td>1976</td>\n",
       "      <td>0</td>\n",
       "      <td>2616 174th Ave NE</td>\n",
       "      <td>Redmond</td>\n",
       "      <td>WA 98052</td>\n",
       "      <td>USA</td>\n",
       "    </tr>\n",
       "    <tr>\n",
       "      <th>7</th>\n",
       "      <td>2014-05-02 00:00:00</td>\n",
       "      <td>482000.0</td>\n",
       "      <td>4.0</td>\n",
       "      <td>2.50</td>\n",
       "      <td>2710</td>\n",
       "      <td>35868</td>\n",
       "      <td>2.0</td>\n",
       "      <td>0</td>\n",
       "      <td>0</td>\n",
       "      <td>3</td>\n",
       "      <td>2710</td>\n",
       "      <td>0</td>\n",
       "      <td>1989</td>\n",
       "      <td>0</td>\n",
       "      <td>23762 SE 253rd Pl</td>\n",
       "      <td>Maple Valley</td>\n",
       "      <td>WA 98038</td>\n",
       "      <td>USA</td>\n",
       "    </tr>\n",
       "    <tr>\n",
       "      <th>8</th>\n",
       "      <td>2014-05-02 00:00:00</td>\n",
       "      <td>452500.0</td>\n",
       "      <td>3.0</td>\n",
       "      <td>2.50</td>\n",
       "      <td>2430</td>\n",
       "      <td>88426</td>\n",
       "      <td>1.0</td>\n",
       "      <td>0</td>\n",
       "      <td>0</td>\n",
       "      <td>4</td>\n",
       "      <td>1570</td>\n",
       "      <td>860</td>\n",
       "      <td>1985</td>\n",
       "      <td>0</td>\n",
       "      <td>46611-46625 SE 129th St</td>\n",
       "      <td>North Bend</td>\n",
       "      <td>WA 98045</td>\n",
       "      <td>USA</td>\n",
       "    </tr>\n",
       "    <tr>\n",
       "      <th>9</th>\n",
       "      <td>2014-05-02 00:00:00</td>\n",
       "      <td>640000.0</td>\n",
       "      <td>4.0</td>\n",
       "      <td>2.00</td>\n",
       "      <td>1520</td>\n",
       "      <td>6200</td>\n",
       "      <td>1.5</td>\n",
       "      <td>0</td>\n",
       "      <td>0</td>\n",
       "      <td>3</td>\n",
       "      <td>1520</td>\n",
       "      <td>0</td>\n",
       "      <td>1945</td>\n",
       "      <td>2010</td>\n",
       "      <td>6811 55th Ave NE</td>\n",
       "      <td>Seattle</td>\n",
       "      <td>WA 98115</td>\n",
       "      <td>USA</td>\n",
       "    </tr>\n",
       "  </tbody>\n",
       "</table>\n",
       "</div>"
      ],
      "text/plain": [
       "                  date      price  bedrooms  bathrooms  sqft_living  sqft_lot  \\\n",
       "0  2014-05-02 00:00:00   313000.0       3.0       1.50         1340      7912   \n",
       "1  2014-05-02 00:00:00  2384000.0       5.0       2.50         3650      9050   \n",
       "2  2014-05-02 00:00:00   342000.0       3.0       2.00         1930     11947   \n",
       "3  2014-05-02 00:00:00   420000.0       3.0       2.25         2000      8030   \n",
       "4  2014-05-02 00:00:00   550000.0       4.0       2.50         1940     10500   \n",
       "5  2014-05-02 00:00:00   490000.0       2.0       1.00          880      6380   \n",
       "6  2014-05-02 00:00:00   335000.0       2.0       2.00         1350      2560   \n",
       "7  2014-05-02 00:00:00   482000.0       4.0       2.50         2710     35868   \n",
       "8  2014-05-02 00:00:00   452500.0       3.0       2.50         2430     88426   \n",
       "9  2014-05-02 00:00:00   640000.0       4.0       2.00         1520      6200   \n",
       "\n",
       "   floors  waterfront  view  condition  sqft_above  sqft_basement  yr_built  \\\n",
       "0     1.5           0     0          3        1340              0      1955   \n",
       "1     2.0           0     4          5        3370            280      1921   \n",
       "2     1.0           0     0          4        1930              0      1966   \n",
       "3     1.0           0     0          4        1000           1000      1963   \n",
       "4     1.0           0     0          4        1140            800      1976   \n",
       "5     1.0           0     0          3         880              0      1938   \n",
       "6     1.0           0     0          3        1350              0      1976   \n",
       "7     2.0           0     0          3        2710              0      1989   \n",
       "8     1.0           0     0          4        1570            860      1985   \n",
       "9     1.5           0     0          3        1520              0      1945   \n",
       "\n",
       "   yr_renovated                    street          city  statezip country  \n",
       "0          2005      18810 Densmore Ave N     Shoreline  WA 98133     USA  \n",
       "1             0           709 W Blaine St       Seattle  WA 98119     USA  \n",
       "2             0  26206-26214 143rd Ave SE          Kent  WA 98042     USA  \n",
       "3             0           857 170th Pl NE      Bellevue  WA 98008     USA  \n",
       "4          1992         9105 170th Ave NE       Redmond  WA 98052     USA  \n",
       "5          1994            522 NE 88th St       Seattle  WA 98115     USA  \n",
       "6             0         2616 174th Ave NE       Redmond  WA 98052     USA  \n",
       "7             0         23762 SE 253rd Pl  Maple Valley  WA 98038     USA  \n",
       "8             0   46611-46625 SE 129th St    North Bend  WA 98045     USA  \n",
       "9          2010          6811 55th Ave NE       Seattle  WA 98115     USA  "
      ]
     },
     "execution_count": 3,
     "metadata": {},
     "output_type": "execute_result"
    }
   ],
   "source": [
    "# Menampilkan 10 data teratas\n",
    "df.head(10)"
   ]
  },
  {
   "cell_type": "code",
   "execution_count": 4,
   "metadata": {},
   "outputs": [
    {
     "data": {
      "text/html": [
       "<div>\n",
       "<style scoped>\n",
       "    .dataframe tbody tr th:only-of-type {\n",
       "        vertical-align: middle;\n",
       "    }\n",
       "\n",
       "    .dataframe tbody tr th {\n",
       "        vertical-align: top;\n",
       "    }\n",
       "\n",
       "    .dataframe thead th {\n",
       "        text-align: right;\n",
       "    }\n",
       "</style>\n",
       "<table border=\"1\" class=\"dataframe\">\n",
       "  <thead>\n",
       "    <tr style=\"text-align: right;\">\n",
       "      <th></th>\n",
       "      <th>date</th>\n",
       "      <th>price</th>\n",
       "      <th>bedrooms</th>\n",
       "      <th>bathrooms</th>\n",
       "      <th>sqft_living</th>\n",
       "      <th>sqft_lot</th>\n",
       "      <th>floors</th>\n",
       "      <th>waterfront</th>\n",
       "      <th>view</th>\n",
       "      <th>condition</th>\n",
       "      <th>sqft_above</th>\n",
       "      <th>sqft_basement</th>\n",
       "      <th>yr_built</th>\n",
       "      <th>yr_renovated</th>\n",
       "      <th>street</th>\n",
       "      <th>city</th>\n",
       "      <th>statezip</th>\n",
       "      <th>country</th>\n",
       "    </tr>\n",
       "  </thead>\n",
       "  <tbody>\n",
       "    <tr>\n",
       "      <th>4590</th>\n",
       "      <td>2014-07-08 00:00:00</td>\n",
       "      <td>380680.555556</td>\n",
       "      <td>4.0</td>\n",
       "      <td>2.50</td>\n",
       "      <td>2620</td>\n",
       "      <td>8331</td>\n",
       "      <td>2.0</td>\n",
       "      <td>0</td>\n",
       "      <td>0</td>\n",
       "      <td>3</td>\n",
       "      <td>2620</td>\n",
       "      <td>0</td>\n",
       "      <td>1991</td>\n",
       "      <td>0</td>\n",
       "      <td>13602 SE 186th Pl</td>\n",
       "      <td>Renton</td>\n",
       "      <td>WA 98058</td>\n",
       "      <td>USA</td>\n",
       "    </tr>\n",
       "    <tr>\n",
       "      <th>4591</th>\n",
       "      <td>2014-07-08 00:00:00</td>\n",
       "      <td>396166.666667</td>\n",
       "      <td>3.0</td>\n",
       "      <td>1.75</td>\n",
       "      <td>1880</td>\n",
       "      <td>5752</td>\n",
       "      <td>1.0</td>\n",
       "      <td>0</td>\n",
       "      <td>0</td>\n",
       "      <td>4</td>\n",
       "      <td>940</td>\n",
       "      <td>940</td>\n",
       "      <td>1945</td>\n",
       "      <td>0</td>\n",
       "      <td>3529 SW Webster St</td>\n",
       "      <td>Seattle</td>\n",
       "      <td>WA 98126</td>\n",
       "      <td>USA</td>\n",
       "    </tr>\n",
       "    <tr>\n",
       "      <th>4592</th>\n",
       "      <td>2014-07-08 00:00:00</td>\n",
       "      <td>252980.000000</td>\n",
       "      <td>4.0</td>\n",
       "      <td>2.50</td>\n",
       "      <td>2530</td>\n",
       "      <td>8169</td>\n",
       "      <td>2.0</td>\n",
       "      <td>0</td>\n",
       "      <td>0</td>\n",
       "      <td>3</td>\n",
       "      <td>2530</td>\n",
       "      <td>0</td>\n",
       "      <td>1993</td>\n",
       "      <td>0</td>\n",
       "      <td>37654 18th Pl S</td>\n",
       "      <td>Federal Way</td>\n",
       "      <td>WA 98003</td>\n",
       "      <td>USA</td>\n",
       "    </tr>\n",
       "    <tr>\n",
       "      <th>4593</th>\n",
       "      <td>2014-07-08 00:00:00</td>\n",
       "      <td>289373.307692</td>\n",
       "      <td>3.0</td>\n",
       "      <td>2.50</td>\n",
       "      <td>2538</td>\n",
       "      <td>4600</td>\n",
       "      <td>2.0</td>\n",
       "      <td>0</td>\n",
       "      <td>0</td>\n",
       "      <td>3</td>\n",
       "      <td>2538</td>\n",
       "      <td>0</td>\n",
       "      <td>2013</td>\n",
       "      <td>1923</td>\n",
       "      <td>5703 Charlotte Ave SE</td>\n",
       "      <td>Auburn</td>\n",
       "      <td>WA 98092</td>\n",
       "      <td>USA</td>\n",
       "    </tr>\n",
       "    <tr>\n",
       "      <th>4594</th>\n",
       "      <td>2014-07-09 00:00:00</td>\n",
       "      <td>210614.285714</td>\n",
       "      <td>3.0</td>\n",
       "      <td>2.50</td>\n",
       "      <td>1610</td>\n",
       "      <td>7223</td>\n",
       "      <td>2.0</td>\n",
       "      <td>0</td>\n",
       "      <td>0</td>\n",
       "      <td>3</td>\n",
       "      <td>1610</td>\n",
       "      <td>0</td>\n",
       "      <td>1994</td>\n",
       "      <td>0</td>\n",
       "      <td>26306 127th Ave SE</td>\n",
       "      <td>Kent</td>\n",
       "      <td>WA 98030</td>\n",
       "      <td>USA</td>\n",
       "    </tr>\n",
       "    <tr>\n",
       "      <th>4595</th>\n",
       "      <td>2014-07-09 00:00:00</td>\n",
       "      <td>308166.666667</td>\n",
       "      <td>3.0</td>\n",
       "      <td>1.75</td>\n",
       "      <td>1510</td>\n",
       "      <td>6360</td>\n",
       "      <td>1.0</td>\n",
       "      <td>0</td>\n",
       "      <td>0</td>\n",
       "      <td>4</td>\n",
       "      <td>1510</td>\n",
       "      <td>0</td>\n",
       "      <td>1954</td>\n",
       "      <td>1979</td>\n",
       "      <td>501 N 143rd St</td>\n",
       "      <td>Seattle</td>\n",
       "      <td>WA 98133</td>\n",
       "      <td>USA</td>\n",
       "    </tr>\n",
       "    <tr>\n",
       "      <th>4596</th>\n",
       "      <td>2014-07-09 00:00:00</td>\n",
       "      <td>534333.333333</td>\n",
       "      <td>3.0</td>\n",
       "      <td>2.50</td>\n",
       "      <td>1460</td>\n",
       "      <td>7573</td>\n",
       "      <td>2.0</td>\n",
       "      <td>0</td>\n",
       "      <td>0</td>\n",
       "      <td>3</td>\n",
       "      <td>1460</td>\n",
       "      <td>0</td>\n",
       "      <td>1983</td>\n",
       "      <td>2009</td>\n",
       "      <td>14855 SE 10th Pl</td>\n",
       "      <td>Bellevue</td>\n",
       "      <td>WA 98007</td>\n",
       "      <td>USA</td>\n",
       "    </tr>\n",
       "    <tr>\n",
       "      <th>4597</th>\n",
       "      <td>2014-07-09 00:00:00</td>\n",
       "      <td>416904.166667</td>\n",
       "      <td>3.0</td>\n",
       "      <td>2.50</td>\n",
       "      <td>3010</td>\n",
       "      <td>7014</td>\n",
       "      <td>2.0</td>\n",
       "      <td>0</td>\n",
       "      <td>0</td>\n",
       "      <td>3</td>\n",
       "      <td>3010</td>\n",
       "      <td>0</td>\n",
       "      <td>2009</td>\n",
       "      <td>0</td>\n",
       "      <td>759 Ilwaco Pl NE</td>\n",
       "      <td>Renton</td>\n",
       "      <td>WA 98059</td>\n",
       "      <td>USA</td>\n",
       "    </tr>\n",
       "    <tr>\n",
       "      <th>4598</th>\n",
       "      <td>2014-07-10 00:00:00</td>\n",
       "      <td>203400.000000</td>\n",
       "      <td>4.0</td>\n",
       "      <td>2.00</td>\n",
       "      <td>2090</td>\n",
       "      <td>6630</td>\n",
       "      <td>1.0</td>\n",
       "      <td>0</td>\n",
       "      <td>0</td>\n",
       "      <td>3</td>\n",
       "      <td>1070</td>\n",
       "      <td>1020</td>\n",
       "      <td>1974</td>\n",
       "      <td>0</td>\n",
       "      <td>5148 S Creston St</td>\n",
       "      <td>Seattle</td>\n",
       "      <td>WA 98178</td>\n",
       "      <td>USA</td>\n",
       "    </tr>\n",
       "    <tr>\n",
       "      <th>4599</th>\n",
       "      <td>2014-07-10 00:00:00</td>\n",
       "      <td>220600.000000</td>\n",
       "      <td>3.0</td>\n",
       "      <td>2.50</td>\n",
       "      <td>1490</td>\n",
       "      <td>8102</td>\n",
       "      <td>2.0</td>\n",
       "      <td>0</td>\n",
       "      <td>0</td>\n",
       "      <td>4</td>\n",
       "      <td>1490</td>\n",
       "      <td>0</td>\n",
       "      <td>1990</td>\n",
       "      <td>0</td>\n",
       "      <td>18717 SE 258th St</td>\n",
       "      <td>Covington</td>\n",
       "      <td>WA 98042</td>\n",
       "      <td>USA</td>\n",
       "    </tr>\n",
       "  </tbody>\n",
       "</table>\n",
       "</div>"
      ],
      "text/plain": [
       "                     date          price  bedrooms  bathrooms  sqft_living  \\\n",
       "4590  2014-07-08 00:00:00  380680.555556       4.0       2.50         2620   \n",
       "4591  2014-07-08 00:00:00  396166.666667       3.0       1.75         1880   \n",
       "4592  2014-07-08 00:00:00  252980.000000       4.0       2.50         2530   \n",
       "4593  2014-07-08 00:00:00  289373.307692       3.0       2.50         2538   \n",
       "4594  2014-07-09 00:00:00  210614.285714       3.0       2.50         1610   \n",
       "4595  2014-07-09 00:00:00  308166.666667       3.0       1.75         1510   \n",
       "4596  2014-07-09 00:00:00  534333.333333       3.0       2.50         1460   \n",
       "4597  2014-07-09 00:00:00  416904.166667       3.0       2.50         3010   \n",
       "4598  2014-07-10 00:00:00  203400.000000       4.0       2.00         2090   \n",
       "4599  2014-07-10 00:00:00  220600.000000       3.0       2.50         1490   \n",
       "\n",
       "      sqft_lot  floors  waterfront  view  condition  sqft_above  \\\n",
       "4590      8331     2.0           0     0          3        2620   \n",
       "4591      5752     1.0           0     0          4         940   \n",
       "4592      8169     2.0           0     0          3        2530   \n",
       "4593      4600     2.0           0     0          3        2538   \n",
       "4594      7223     2.0           0     0          3        1610   \n",
       "4595      6360     1.0           0     0          4        1510   \n",
       "4596      7573     2.0           0     0          3        1460   \n",
       "4597      7014     2.0           0     0          3        3010   \n",
       "4598      6630     1.0           0     0          3        1070   \n",
       "4599      8102     2.0           0     0          4        1490   \n",
       "\n",
       "      sqft_basement  yr_built  yr_renovated                 street  \\\n",
       "4590              0      1991             0      13602 SE 186th Pl   \n",
       "4591            940      1945             0     3529 SW Webster St   \n",
       "4592              0      1993             0        37654 18th Pl S   \n",
       "4593              0      2013          1923  5703 Charlotte Ave SE   \n",
       "4594              0      1994             0     26306 127th Ave SE   \n",
       "4595              0      1954          1979         501 N 143rd St   \n",
       "4596              0      1983          2009       14855 SE 10th Pl   \n",
       "4597              0      2009             0       759 Ilwaco Pl NE   \n",
       "4598           1020      1974             0      5148 S Creston St   \n",
       "4599              0      1990             0      18717 SE 258th St   \n",
       "\n",
       "             city  statezip country  \n",
       "4590       Renton  WA 98058     USA  \n",
       "4591      Seattle  WA 98126     USA  \n",
       "4592  Federal Way  WA 98003     USA  \n",
       "4593       Auburn  WA 98092     USA  \n",
       "4594         Kent  WA 98030     USA  \n",
       "4595      Seattle  WA 98133     USA  \n",
       "4596     Bellevue  WA 98007     USA  \n",
       "4597       Renton  WA 98059     USA  \n",
       "4598      Seattle  WA 98178     USA  \n",
       "4599    Covington  WA 98042     USA  "
      ]
     },
     "execution_count": 4,
     "metadata": {},
     "output_type": "execute_result"
    }
   ],
   "source": [
    "# Menampilkan 10 data terbawah\n",
    "df.tail(10)"
   ]
  },
  {
   "cell_type": "code",
   "execution_count": 5,
   "metadata": {},
   "outputs": [
    {
     "name": "stdout",
     "output_type": "stream",
     "text": [
      "<class 'pandas.core.frame.DataFrame'>\n",
      "RangeIndex: 4600 entries, 0 to 4599\n",
      "Data columns (total 18 columns):\n",
      " #   Column         Non-Null Count  Dtype  \n",
      "---  ------         --------------  -----  \n",
      " 0   date           4600 non-null   object \n",
      " 1   price          4600 non-null   float64\n",
      " 2   bedrooms       4600 non-null   float64\n",
      " 3   bathrooms      4600 non-null   float64\n",
      " 4   sqft_living    4600 non-null   int64  \n",
      " 5   sqft_lot       4600 non-null   int64  \n",
      " 6   floors         4600 non-null   float64\n",
      " 7   waterfront     4600 non-null   int64  \n",
      " 8   view           4600 non-null   int64  \n",
      " 9   condition      4600 non-null   int64  \n",
      " 10  sqft_above     4600 non-null   int64  \n",
      " 11  sqft_basement  4600 non-null   int64  \n",
      " 12  yr_built       4600 non-null   int64  \n",
      " 13  yr_renovated   4600 non-null   int64  \n",
      " 14  street         4600 non-null   object \n",
      " 15  city           4600 non-null   object \n",
      " 16  statezip       4600 non-null   object \n",
      " 17  country        4600 non-null   object \n",
      "dtypes: float64(4), int64(9), object(5)\n",
      "memory usage: 647.0+ KB\n"
     ]
    }
   ],
   "source": [
    "# Melihat informasi data\n",
    "df.info()"
   ]
  },
  {
   "cell_type": "markdown",
   "metadata": {},
   "source": [
    "*Kesimpulan:*\n",
    "- Data diatas memiliki total 4600 entries\n",
    "- Data diatas memiliki total 16 columns\n",
    "- 4 columns bertipe float\n",
    "- 9 columns bertipe integer\n",
    "- 5 columns bertipe objek\n",
    "- Memory usage sebesar 647.0+ KB"
   ]
  },
  {
   "cell_type": "code",
   "execution_count": 6,
   "metadata": {},
   "outputs": [
    {
     "data": {
      "text/plain": [
       "date             0\n",
       "price            0\n",
       "bedrooms         0\n",
       "bathrooms        0\n",
       "sqft_living      0\n",
       "sqft_lot         0\n",
       "floors           0\n",
       "waterfront       0\n",
       "view             0\n",
       "condition        0\n",
       "sqft_above       0\n",
       "sqft_basement    0\n",
       "yr_built         0\n",
       "yr_renovated     0\n",
       "street           0\n",
       "city             0\n",
       "statezip         0\n",
       "country          0\n",
       "dtype: int64"
      ]
     },
     "execution_count": 6,
     "metadata": {},
     "output_type": "execute_result"
    }
   ],
   "source": [
    "# Mengecek missing value\n",
    "df.isna().sum()"
   ]
  },
  {
   "cell_type": "markdown",
   "metadata": {},
   "source": [
    "*Kesimpulan:*\n",
    "\n",
    "Tidak terdapat missing value dalam dataset ini."
   ]
  },
  {
   "cell_type": "code",
   "execution_count": 7,
   "metadata": {},
   "outputs": [
    {
     "data": {
      "text/plain": [
       "0"
      ]
     },
     "execution_count": 7,
     "metadata": {},
     "output_type": "execute_result"
    }
   ],
   "source": [
    "# Mengecek data duplicate \n",
    "df.duplicated().sum()"
   ]
  },
  {
   "cell_type": "markdown",
   "metadata": {},
   "source": [
    "*Kesimpulan:*\n",
    "\n",
    "Tidak terdapat duplicate data dalam dataset ini."
   ]
  },
  {
   "cell_type": "code",
   "execution_count": 8,
   "metadata": {},
   "outputs": [],
   "source": [
    "# Duplicate Data\n",
    "df_duplicate = df.copy()"
   ]
  },
  {
   "cell_type": "code",
   "execution_count": 9,
   "metadata": {},
   "outputs": [
    {
     "data": {
      "text/html": [
       "<div>\n",
       "<style scoped>\n",
       "    .dataframe tbody tr th:only-of-type {\n",
       "        vertical-align: middle;\n",
       "    }\n",
       "\n",
       "    .dataframe tbody tr th {\n",
       "        vertical-align: top;\n",
       "    }\n",
       "\n",
       "    .dataframe thead th {\n",
       "        text-align: right;\n",
       "    }\n",
       "</style>\n",
       "<table border=\"1\" class=\"dataframe\">\n",
       "  <thead>\n",
       "    <tr style=\"text-align: right;\">\n",
       "      <th></th>\n",
       "      <th>count</th>\n",
       "      <th>mean</th>\n",
       "      <th>std</th>\n",
       "      <th>min</th>\n",
       "      <th>25%</th>\n",
       "      <th>50%</th>\n",
       "      <th>75%</th>\n",
       "      <th>max</th>\n",
       "    </tr>\n",
       "  </thead>\n",
       "  <tbody>\n",
       "    <tr>\n",
       "      <th>price</th>\n",
       "      <td>4600.0</td>\n",
       "      <td>551962.988473</td>\n",
       "      <td>563834.702547</td>\n",
       "      <td>0.0</td>\n",
       "      <td>322875.00</td>\n",
       "      <td>460943.461539</td>\n",
       "      <td>654962.50</td>\n",
       "      <td>26590000.0</td>\n",
       "    </tr>\n",
       "    <tr>\n",
       "      <th>bedrooms</th>\n",
       "      <td>4600.0</td>\n",
       "      <td>3.400870</td>\n",
       "      <td>0.908848</td>\n",
       "      <td>0.0</td>\n",
       "      <td>3.00</td>\n",
       "      <td>3.000000</td>\n",
       "      <td>4.00</td>\n",
       "      <td>9.0</td>\n",
       "    </tr>\n",
       "    <tr>\n",
       "      <th>bathrooms</th>\n",
       "      <td>4600.0</td>\n",
       "      <td>2.160815</td>\n",
       "      <td>0.783781</td>\n",
       "      <td>0.0</td>\n",
       "      <td>1.75</td>\n",
       "      <td>2.250000</td>\n",
       "      <td>2.50</td>\n",
       "      <td>8.0</td>\n",
       "    </tr>\n",
       "    <tr>\n",
       "      <th>sqft_living</th>\n",
       "      <td>4600.0</td>\n",
       "      <td>2139.346957</td>\n",
       "      <td>963.206916</td>\n",
       "      <td>370.0</td>\n",
       "      <td>1460.00</td>\n",
       "      <td>1980.000000</td>\n",
       "      <td>2620.00</td>\n",
       "      <td>13540.0</td>\n",
       "    </tr>\n",
       "    <tr>\n",
       "      <th>sqft_lot</th>\n",
       "      <td>4600.0</td>\n",
       "      <td>14852.516087</td>\n",
       "      <td>35884.436145</td>\n",
       "      <td>638.0</td>\n",
       "      <td>5000.75</td>\n",
       "      <td>7683.000000</td>\n",
       "      <td>11001.25</td>\n",
       "      <td>1074218.0</td>\n",
       "    </tr>\n",
       "    <tr>\n",
       "      <th>floors</th>\n",
       "      <td>4600.0</td>\n",
       "      <td>1.512065</td>\n",
       "      <td>0.538288</td>\n",
       "      <td>1.0</td>\n",
       "      <td>1.00</td>\n",
       "      <td>1.500000</td>\n",
       "      <td>2.00</td>\n",
       "      <td>3.5</td>\n",
       "    </tr>\n",
       "    <tr>\n",
       "      <th>waterfront</th>\n",
       "      <td>4600.0</td>\n",
       "      <td>0.007174</td>\n",
       "      <td>0.084404</td>\n",
       "      <td>0.0</td>\n",
       "      <td>0.00</td>\n",
       "      <td>0.000000</td>\n",
       "      <td>0.00</td>\n",
       "      <td>1.0</td>\n",
       "    </tr>\n",
       "    <tr>\n",
       "      <th>view</th>\n",
       "      <td>4600.0</td>\n",
       "      <td>0.240652</td>\n",
       "      <td>0.778405</td>\n",
       "      <td>0.0</td>\n",
       "      <td>0.00</td>\n",
       "      <td>0.000000</td>\n",
       "      <td>0.00</td>\n",
       "      <td>4.0</td>\n",
       "    </tr>\n",
       "    <tr>\n",
       "      <th>condition</th>\n",
       "      <td>4600.0</td>\n",
       "      <td>3.451739</td>\n",
       "      <td>0.677230</td>\n",
       "      <td>1.0</td>\n",
       "      <td>3.00</td>\n",
       "      <td>3.000000</td>\n",
       "      <td>4.00</td>\n",
       "      <td>5.0</td>\n",
       "    </tr>\n",
       "    <tr>\n",
       "      <th>sqft_above</th>\n",
       "      <td>4600.0</td>\n",
       "      <td>1827.265435</td>\n",
       "      <td>862.168977</td>\n",
       "      <td>370.0</td>\n",
       "      <td>1190.00</td>\n",
       "      <td>1590.000000</td>\n",
       "      <td>2300.00</td>\n",
       "      <td>9410.0</td>\n",
       "    </tr>\n",
       "    <tr>\n",
       "      <th>sqft_basement</th>\n",
       "      <td>4600.0</td>\n",
       "      <td>312.081522</td>\n",
       "      <td>464.137228</td>\n",
       "      <td>0.0</td>\n",
       "      <td>0.00</td>\n",
       "      <td>0.000000</td>\n",
       "      <td>610.00</td>\n",
       "      <td>4820.0</td>\n",
       "    </tr>\n",
       "    <tr>\n",
       "      <th>yr_built</th>\n",
       "      <td>4600.0</td>\n",
       "      <td>1970.786304</td>\n",
       "      <td>29.731848</td>\n",
       "      <td>1900.0</td>\n",
       "      <td>1951.00</td>\n",
       "      <td>1976.000000</td>\n",
       "      <td>1997.00</td>\n",
       "      <td>2014.0</td>\n",
       "    </tr>\n",
       "    <tr>\n",
       "      <th>yr_renovated</th>\n",
       "      <td>4600.0</td>\n",
       "      <td>808.608261</td>\n",
       "      <td>979.414536</td>\n",
       "      <td>0.0</td>\n",
       "      <td>0.00</td>\n",
       "      <td>0.000000</td>\n",
       "      <td>1999.00</td>\n",
       "      <td>2014.0</td>\n",
       "    </tr>\n",
       "  </tbody>\n",
       "</table>\n",
       "</div>"
      ],
      "text/plain": [
       "                count           mean            std     min        25%  \\\n",
       "price          4600.0  551962.988473  563834.702547     0.0  322875.00   \n",
       "bedrooms       4600.0       3.400870       0.908848     0.0       3.00   \n",
       "bathrooms      4600.0       2.160815       0.783781     0.0       1.75   \n",
       "sqft_living    4600.0    2139.346957     963.206916   370.0    1460.00   \n",
       "sqft_lot       4600.0   14852.516087   35884.436145   638.0    5000.75   \n",
       "floors         4600.0       1.512065       0.538288     1.0       1.00   \n",
       "waterfront     4600.0       0.007174       0.084404     0.0       0.00   \n",
       "view           4600.0       0.240652       0.778405     0.0       0.00   \n",
       "condition      4600.0       3.451739       0.677230     1.0       3.00   \n",
       "sqft_above     4600.0    1827.265435     862.168977   370.0    1190.00   \n",
       "sqft_basement  4600.0     312.081522     464.137228     0.0       0.00   \n",
       "yr_built       4600.0    1970.786304      29.731848  1900.0    1951.00   \n",
       "yr_renovated   4600.0     808.608261     979.414536     0.0       0.00   \n",
       "\n",
       "                         50%        75%         max  \n",
       "price          460943.461539  654962.50  26590000.0  \n",
       "bedrooms            3.000000       4.00         9.0  \n",
       "bathrooms           2.250000       2.50         8.0  \n",
       "sqft_living      1980.000000    2620.00     13540.0  \n",
       "sqft_lot         7683.000000   11001.25   1074218.0  \n",
       "floors              1.500000       2.00         3.5  \n",
       "waterfront          0.000000       0.00         1.0  \n",
       "view                0.000000       0.00         4.0  \n",
       "condition           3.000000       4.00         5.0  \n",
       "sqft_above       1590.000000    2300.00      9410.0  \n",
       "sqft_basement       0.000000     610.00      4820.0  \n",
       "yr_built         1976.000000    1997.00      2014.0  \n",
       "yr_renovated        0.000000    1999.00      2014.0  "
      ]
     },
     "execution_count": 9,
     "metadata": {},
     "output_type": "execute_result"
    }
   ],
   "source": [
    "# Melihat deskripsi data\n",
    "df_duplicate.describe().T"
   ]
  },
  {
   "cell_type": "markdown",
   "metadata": {},
   "source": [
    "*kesimpulan:*\n",
    "- **price:** Harga rumah dalam dataset ini. Rata-rata harga rumah adalah sekitar $551,963. Variabilitas harga cukup tinggi, dengan standar deviasi sekitar $563,834. Harga rumah berkisar dari $0 hingga $26,590,000.\n",
    "- **yr_renovated:** Tahun renovasi terakhir rumah. Rata-ratanya adalah sekitar 808.61. Banyak rumah dalam dataset ini tidak pernah mengalami renovasi, ditunjukkan dengan nilai 0. Rumah-rumah yang mengalami renovasi memiliki nilai tahun renovasi berkisar dari 0 hingga 2014.\n",
    "- Ada harga rumah yang 0, terlihat dari kolom min pada 'price' , hal ini akan menimbulkan pertanyaan , maka akan kita cek lebih lanjut pada kolom price."
   ]
  },
  {
   "cell_type": "markdown",
   "metadata": {},
   "source": [
    "**Saya akan menghapus row data rumah yang harganya = 0, karena tidak ada penjelasan mengapa harga rumah bisa menjadi = 0.**"
   ]
  },
  {
   "cell_type": "code",
   "execution_count": 10,
   "metadata": {},
   "outputs": [
    {
     "data": {
      "text/plain": [
       "price\n",
       "300000.0     42\n",
       "400000.0     31\n",
       "600000.0     29\n",
       "440000.0     29\n",
       "450000.0     29\n",
       "             ..\n",
       "325900.0      1\n",
       "684680.0      1\n",
       "609900.0      1\n",
       "1635000.0     1\n",
       "220600.0      1\n",
       "Name: count, Length: 1740, dtype: int64"
      ]
     },
     "execution_count": 10,
     "metadata": {},
     "output_type": "execute_result"
    }
   ],
   "source": [
    "# Menghapus row data rumah dengan harga = 0\n",
    "df_duplicate = df_duplicate.drop(df_duplicate[df_duplicate['price'] == 0].index)\n",
    "df_duplicate['price'].value_counts()"
   ]
  },
  {
   "cell_type": "code",
   "execution_count": 11,
   "metadata": {},
   "outputs": [],
   "source": [
    "# Menambahkan kolom bernama 'house_age' untuk menggambarkan berapa usia rumah tersebut\n",
    "house_age = 2014 - df_duplicate['yr_built']\n",
    "df_duplicate['house_age'] = house_age"
   ]
  },
  {
   "cell_type": "code",
   "execution_count": 12,
   "metadata": {},
   "outputs": [],
   "source": [
    "# Melakukan drop kolom 'yr_built' karena sudah diwakilkan dengan kolom baru 'house_age'\n",
    "df_duplicate.drop(['yr_built'], axis = 1,inplace=True)"
   ]
  },
  {
   "cell_type": "code",
   "execution_count": 13,
   "metadata": {},
   "outputs": [],
   "source": [
    "# Melakukan drop kolom street karena semua nilainya unik dan tidak berpengaruh pada harga rumah\n",
    "df_duplicate.drop(['street'],axis=1,inplace=True)"
   ]
  },
  {
   "cell_type": "code",
   "execution_count": 14,
   "metadata": {},
   "outputs": [],
   "source": [
    "# Melakukan drop date karena tidak ada hubungannya dengan harga rumah\n",
    "df_duplicate.drop(['date'],axis=1,inplace=True)"
   ]
  },
  {
   "cell_type": "code",
   "execution_count": 15,
   "metadata": {},
   "outputs": [],
   "source": [
    "# Melakukan drop kolom country , karena hanya ada 1 unique value yaitu USA.\n",
    "df_duplicate.drop(['country'],axis=1,inplace=True)"
   ]
  },
  {
   "cell_type": "code",
   "execution_count": 16,
   "metadata": {},
   "outputs": [],
   "source": [
    "# Menambah kolom baru renovated , untuk menunjukan apakah rumah pernah direnovasi atau tidak\n",
    "renovated1 = []\n",
    "for i in df_duplicate['yr_renovated']:\n",
    "    if i == 0:\n",
    "        renovated1.append(0)\n",
    "    else:\n",
    "        renovated1.append(1)\n",
    "\n",
    "df_duplicate['renovated'] = renovated1"
   ]
  },
  {
   "cell_type": "code",
   "execution_count": 17,
   "metadata": {},
   "outputs": [],
   "source": [
    "# Melakukan drop kolom yr_renovated , karena sudah diwakilkan dengan kolom renovated yang baru dibuat\n",
    "df_duplicate.drop(['yr_renovated'],axis=1,inplace=True)"
   ]
  },
  {
   "cell_type": "markdown",
   "metadata": {},
   "source": [
    "**Column \"bathrooms\" adalah column jumlah kamar mandi, namus beberapa data ada yang memiliki value desimal. Saya akan membulatkan value desimal tersebut menjadi bilangan bulat, agar menggambarkan jumlah kamar mandi yang sifat nya satuan.**"
   ]
  },
  {
   "cell_type": "code",
   "execution_count": 18,
   "metadata": {},
   "outputs": [
    {
     "data": {
      "text/plain": [
       "bathrooms\n",
       "2.0    2937\n",
       "1.0     756\n",
       "3.0     569\n",
       "4.0     262\n",
       "5.0      16\n",
       "6.0       7\n",
       "0.0       2\n",
       "8.0       1\n",
       "7.0       1\n",
       "Name: count, dtype: int64"
      ]
     },
     "execution_count": 18,
     "metadata": {},
     "output_type": "execute_result"
    }
   ],
   "source": [
    "df_duplicate['bathrooms'] = df_duplicate['bathrooms'].round(0)\n",
    "df_duplicate['floors'] = df_duplicate['floors'].round(0)\n",
    "df_duplicate['bathrooms'].value_counts()"
   ]
  },
  {
   "cell_type": "code",
   "execution_count": 19,
   "metadata": {},
   "outputs": [
    {
     "data": {
      "text/html": [
       "<div>\n",
       "<style scoped>\n",
       "    .dataframe tbody tr th:only-of-type {\n",
       "        vertical-align: middle;\n",
       "    }\n",
       "\n",
       "    .dataframe tbody tr th {\n",
       "        vertical-align: top;\n",
       "    }\n",
       "\n",
       "    .dataframe thead th {\n",
       "        text-align: right;\n",
       "    }\n",
       "</style>\n",
       "<table border=\"1\" class=\"dataframe\">\n",
       "  <thead>\n",
       "    <tr style=\"text-align: right;\">\n",
       "      <th></th>\n",
       "      <th>price</th>\n",
       "      <th>bedrooms</th>\n",
       "      <th>bathrooms</th>\n",
       "      <th>sqft_living</th>\n",
       "      <th>sqft_lot</th>\n",
       "      <th>floors</th>\n",
       "      <th>waterfront</th>\n",
       "      <th>view</th>\n",
       "      <th>condition</th>\n",
       "      <th>sqft_above</th>\n",
       "      <th>sqft_basement</th>\n",
       "      <th>city</th>\n",
       "      <th>statezip</th>\n",
       "      <th>house_age</th>\n",
       "      <th>renovated</th>\n",
       "    </tr>\n",
       "  </thead>\n",
       "  <tbody>\n",
       "    <tr>\n",
       "      <th>0</th>\n",
       "      <td>3.130000e+05</td>\n",
       "      <td>3.0</td>\n",
       "      <td>2.0</td>\n",
       "      <td>1340</td>\n",
       "      <td>7912</td>\n",
       "      <td>2.0</td>\n",
       "      <td>0</td>\n",
       "      <td>0</td>\n",
       "      <td>3</td>\n",
       "      <td>1340</td>\n",
       "      <td>0</td>\n",
       "      <td>Shoreline</td>\n",
       "      <td>WA 98133</td>\n",
       "      <td>59</td>\n",
       "      <td>1</td>\n",
       "    </tr>\n",
       "    <tr>\n",
       "      <th>1</th>\n",
       "      <td>2.384000e+06</td>\n",
       "      <td>5.0</td>\n",
       "      <td>2.0</td>\n",
       "      <td>3650</td>\n",
       "      <td>9050</td>\n",
       "      <td>2.0</td>\n",
       "      <td>0</td>\n",
       "      <td>4</td>\n",
       "      <td>5</td>\n",
       "      <td>3370</td>\n",
       "      <td>280</td>\n",
       "      <td>Seattle</td>\n",
       "      <td>WA 98119</td>\n",
       "      <td>93</td>\n",
       "      <td>0</td>\n",
       "    </tr>\n",
       "    <tr>\n",
       "      <th>2</th>\n",
       "      <td>3.420000e+05</td>\n",
       "      <td>3.0</td>\n",
       "      <td>2.0</td>\n",
       "      <td>1930</td>\n",
       "      <td>11947</td>\n",
       "      <td>1.0</td>\n",
       "      <td>0</td>\n",
       "      <td>0</td>\n",
       "      <td>4</td>\n",
       "      <td>1930</td>\n",
       "      <td>0</td>\n",
       "      <td>Kent</td>\n",
       "      <td>WA 98042</td>\n",
       "      <td>48</td>\n",
       "      <td>0</td>\n",
       "    </tr>\n",
       "    <tr>\n",
       "      <th>3</th>\n",
       "      <td>4.200000e+05</td>\n",
       "      <td>3.0</td>\n",
       "      <td>2.0</td>\n",
       "      <td>2000</td>\n",
       "      <td>8030</td>\n",
       "      <td>1.0</td>\n",
       "      <td>0</td>\n",
       "      <td>0</td>\n",
       "      <td>4</td>\n",
       "      <td>1000</td>\n",
       "      <td>1000</td>\n",
       "      <td>Bellevue</td>\n",
       "      <td>WA 98008</td>\n",
       "      <td>51</td>\n",
       "      <td>0</td>\n",
       "    </tr>\n",
       "    <tr>\n",
       "      <th>4</th>\n",
       "      <td>5.500000e+05</td>\n",
       "      <td>4.0</td>\n",
       "      <td>2.0</td>\n",
       "      <td>1940</td>\n",
       "      <td>10500</td>\n",
       "      <td>1.0</td>\n",
       "      <td>0</td>\n",
       "      <td>0</td>\n",
       "      <td>4</td>\n",
       "      <td>1140</td>\n",
       "      <td>800</td>\n",
       "      <td>Redmond</td>\n",
       "      <td>WA 98052</td>\n",
       "      <td>38</td>\n",
       "      <td>1</td>\n",
       "    </tr>\n",
       "    <tr>\n",
       "      <th>...</th>\n",
       "      <td>...</td>\n",
       "      <td>...</td>\n",
       "      <td>...</td>\n",
       "      <td>...</td>\n",
       "      <td>...</td>\n",
       "      <td>...</td>\n",
       "      <td>...</td>\n",
       "      <td>...</td>\n",
       "      <td>...</td>\n",
       "      <td>...</td>\n",
       "      <td>...</td>\n",
       "      <td>...</td>\n",
       "      <td>...</td>\n",
       "      <td>...</td>\n",
       "      <td>...</td>\n",
       "    </tr>\n",
       "    <tr>\n",
       "      <th>4595</th>\n",
       "      <td>3.081667e+05</td>\n",
       "      <td>3.0</td>\n",
       "      <td>2.0</td>\n",
       "      <td>1510</td>\n",
       "      <td>6360</td>\n",
       "      <td>1.0</td>\n",
       "      <td>0</td>\n",
       "      <td>0</td>\n",
       "      <td>4</td>\n",
       "      <td>1510</td>\n",
       "      <td>0</td>\n",
       "      <td>Seattle</td>\n",
       "      <td>WA 98133</td>\n",
       "      <td>60</td>\n",
       "      <td>1</td>\n",
       "    </tr>\n",
       "    <tr>\n",
       "      <th>4596</th>\n",
       "      <td>5.343333e+05</td>\n",
       "      <td>3.0</td>\n",
       "      <td>2.0</td>\n",
       "      <td>1460</td>\n",
       "      <td>7573</td>\n",
       "      <td>2.0</td>\n",
       "      <td>0</td>\n",
       "      <td>0</td>\n",
       "      <td>3</td>\n",
       "      <td>1460</td>\n",
       "      <td>0</td>\n",
       "      <td>Bellevue</td>\n",
       "      <td>WA 98007</td>\n",
       "      <td>31</td>\n",
       "      <td>1</td>\n",
       "    </tr>\n",
       "    <tr>\n",
       "      <th>4597</th>\n",
       "      <td>4.169042e+05</td>\n",
       "      <td>3.0</td>\n",
       "      <td>2.0</td>\n",
       "      <td>3010</td>\n",
       "      <td>7014</td>\n",
       "      <td>2.0</td>\n",
       "      <td>0</td>\n",
       "      <td>0</td>\n",
       "      <td>3</td>\n",
       "      <td>3010</td>\n",
       "      <td>0</td>\n",
       "      <td>Renton</td>\n",
       "      <td>WA 98059</td>\n",
       "      <td>5</td>\n",
       "      <td>0</td>\n",
       "    </tr>\n",
       "    <tr>\n",
       "      <th>4598</th>\n",
       "      <td>2.034000e+05</td>\n",
       "      <td>4.0</td>\n",
       "      <td>2.0</td>\n",
       "      <td>2090</td>\n",
       "      <td>6630</td>\n",
       "      <td>1.0</td>\n",
       "      <td>0</td>\n",
       "      <td>0</td>\n",
       "      <td>3</td>\n",
       "      <td>1070</td>\n",
       "      <td>1020</td>\n",
       "      <td>Seattle</td>\n",
       "      <td>WA 98178</td>\n",
       "      <td>40</td>\n",
       "      <td>0</td>\n",
       "    </tr>\n",
       "    <tr>\n",
       "      <th>4599</th>\n",
       "      <td>2.206000e+05</td>\n",
       "      <td>3.0</td>\n",
       "      <td>2.0</td>\n",
       "      <td>1490</td>\n",
       "      <td>8102</td>\n",
       "      <td>2.0</td>\n",
       "      <td>0</td>\n",
       "      <td>0</td>\n",
       "      <td>4</td>\n",
       "      <td>1490</td>\n",
       "      <td>0</td>\n",
       "      <td>Covington</td>\n",
       "      <td>WA 98042</td>\n",
       "      <td>24</td>\n",
       "      <td>0</td>\n",
       "    </tr>\n",
       "  </tbody>\n",
       "</table>\n",
       "<p>4551 rows × 15 columns</p>\n",
       "</div>"
      ],
      "text/plain": [
       "             price  bedrooms  bathrooms  sqft_living  sqft_lot  floors  \\\n",
       "0     3.130000e+05       3.0        2.0         1340      7912     2.0   \n",
       "1     2.384000e+06       5.0        2.0         3650      9050     2.0   \n",
       "2     3.420000e+05       3.0        2.0         1930     11947     1.0   \n",
       "3     4.200000e+05       3.0        2.0         2000      8030     1.0   \n",
       "4     5.500000e+05       4.0        2.0         1940     10500     1.0   \n",
       "...            ...       ...        ...          ...       ...     ...   \n",
       "4595  3.081667e+05       3.0        2.0         1510      6360     1.0   \n",
       "4596  5.343333e+05       3.0        2.0         1460      7573     2.0   \n",
       "4597  4.169042e+05       3.0        2.0         3010      7014     2.0   \n",
       "4598  2.034000e+05       4.0        2.0         2090      6630     1.0   \n",
       "4599  2.206000e+05       3.0        2.0         1490      8102     2.0   \n",
       "\n",
       "      waterfront  view  condition  sqft_above  sqft_basement       city  \\\n",
       "0              0     0          3        1340              0  Shoreline   \n",
       "1              0     4          5        3370            280    Seattle   \n",
       "2              0     0          4        1930              0       Kent   \n",
       "3              0     0          4        1000           1000   Bellevue   \n",
       "4              0     0          4        1140            800    Redmond   \n",
       "...          ...   ...        ...         ...            ...        ...   \n",
       "4595           0     0          4        1510              0    Seattle   \n",
       "4596           0     0          3        1460              0   Bellevue   \n",
       "4597           0     0          3        3010              0     Renton   \n",
       "4598           0     0          3        1070           1020    Seattle   \n",
       "4599           0     0          4        1490              0  Covington   \n",
       "\n",
       "      statezip  house_age  renovated  \n",
       "0     WA 98133         59          1  \n",
       "1     WA 98119         93          0  \n",
       "2     WA 98042         48          0  \n",
       "3     WA 98008         51          0  \n",
       "4     WA 98052         38          1  \n",
       "...        ...        ...        ...  \n",
       "4595  WA 98133         60          1  \n",
       "4596  WA 98007         31          1  \n",
       "4597  WA 98059          5          0  \n",
       "4598  WA 98178         40          0  \n",
       "4599  WA 98042         24          0  \n",
       "\n",
       "[4551 rows x 15 columns]"
      ]
     },
     "execution_count": 19,
     "metadata": {},
     "output_type": "execute_result"
    }
   ],
   "source": [
    "df_duplicate"
   ]
  },
  {
   "cell_type": "markdown",
   "metadata": {},
   "source": [
    "# iV.Exploratory Data Analysis (EDA)"
   ]
  },
  {
   "cell_type": "markdown",
   "metadata": {},
   "source": [
    "> Bagian ini berisi explorasi data pada dataset diatas dengan menggunakan query, grouping, visualisasi sederhana, dan lain sebagainya."
   ]
  },
  {
   "cell_type": "markdown",
   "metadata": {},
   "source": [
    "### ***A.Bagaimana Distribusi Harga Pada Data Penjualan?***"
   ]
  },
  {
   "cell_type": "code",
   "execution_count": 87,
   "metadata": {},
   "outputs": [
    {
     "data": {
      "image/png": "[encoded data removed]",
      "text/plain": [
       "<Figure size 640x480 with 1 Axes>"
      ]
     },
     "metadata": {},
     "output_type": "display_data"
    }
   ],
   "source": [
    "sns.distplot(df['price'], hist = False, kde = True,\n",
    "                 kde_kws = {'shade': True, 'linewidth': 3})\n",
    "plt.xlabel(\"count\")\n",
    "plt.ylabel(\"Density\")\n",
    "plt.title(\"Density of price\")\n",
    "plt.legend(\"Price\")\n",
    "plt.show()"
   ]
  },
  {
   "cell_type": "markdown",
   "metadata": {},
   "source": [
    "*Kesimpulan:*\n",
    "- Terlihat harga penjualan rumah di Washington bersifat skewed."
   ]
  },
  {
   "cell_type": "markdown",
   "metadata": {},
   "source": [
    "### ***B.Apakah Rumah Yang Memiliki View Pantai, Memiliki Harga Yang Lebih Tinggi?***"
   ]
  },
  {
   "cell_type": "code",
   "execution_count": 88,
   "metadata": {},
   "outputs": [
    {
     "data": {
      "text/plain": [
       "<Axes: xlabel='waterfront', ylabel='price'>"
      ]
     },
     "execution_count": 88,
     "metadata": {},
     "output_type": "execute_result"
    },
    {
     "data": {
      "image/png": "[encoded data removed]",
      "text/plain": [
       "<Figure size 1000x500 with 1 Axes>"
      ]
     },
     "metadata": {},
     "output_type": "display_data"
    }
   ],
   "source": [
    "sns.set(rc={'figure.figsize':(10,5)})\n",
    "cols = ['brown','purple']\n",
    "sns.barplot(x='waterfront', y='price', palette= cols, data=df)"
   ]
  },
  {
   "cell_type": "markdown",
   "metadata": {},
   "source": [
    "*Kesimpulan:*\n",
    "- Rumah dengan view pantai biasanya harganya jauh lebih tinggi dibanding yang tidak memiliki view pantai"
   ]
  },
  {
   "cell_type": "markdown",
   "metadata": {},
   "source": [
    "### ***C.Adakah Hubungan Antara Tingkat Rumah Dengan Harga?***"
   ]
  },
  {
   "cell_type": "code",
   "execution_count": 89,
   "metadata": {},
   "outputs": [
    {
     "data": {
      "image/png": "[encoded data removed]",
      "text/plain": [
       "<Figure size 1000x500 with 1 Axes>"
      ]
     },
     "metadata": {},
     "output_type": "display_data"
    }
   ],
   "source": [
    "# Membuat scatter plot\n",
    "plt.scatter('sqft_living', 'price', data=df, alpha=0.5)\n",
    "# Menambahkan label sumbu dan judul\n",
    "plt.xlabel('Harga Rumah')\n",
    "plt.ylabel('Tingkat Rumah')\n",
    "plt.title('Tingkat rumah dengan Rata-rata harga rumah')\n",
    "# Menampilkan plot\n",
    "plt.show()"
   ]
  },
  {
   "cell_type": "markdown",
   "metadata": {},
   "source": [
    "*Kesimpulan:*\n",
    "- Terlihat dari ada rumah yang tingkatannya rendah hanya 1 laintai, namun harganya paling mahal , mungkin ini karena rumah tersebut mewah dan sangat luas. Sedangkan ada rumah yang tinggi , namun harganya rendah , mungkin ini karena rumah tersebut tinggi namun sempit dan tidak nyaman dihuni."
   ]
  },
  {
   "cell_type": "markdown",
   "metadata": {},
   "source": [
    "### ***D.3 Kota Teratas Yang Menjual Harga Rumah Dengan Harga Tinggi***"
   ]
  },
  {
   "cell_type": "code",
   "execution_count": 99,
   "metadata": {},
   "outputs": [
    {
     "data": {
      "text/html": [
       "<div>\n",
       "<style scoped>\n",
       "    .dataframe tbody tr th:only-of-type {\n",
       "        vertical-align: middle;\n",
       "    }\n",
       "\n",
       "    .dataframe tbody tr th {\n",
       "        vertical-align: top;\n",
       "    }\n",
       "\n",
       "    .dataframe thead th {\n",
       "        text-align: right;\n",
       "    }\n",
       "</style>\n",
       "<table border=\"1\" class=\"dataframe\">\n",
       "  <thead>\n",
       "    <tr style=\"text-align: right;\">\n",
       "      <th></th>\n",
       "      <th>price</th>\n",
       "    </tr>\n",
       "    <tr>\n",
       "      <th>city</th>\n",
       "      <th></th>\n",
       "    </tr>\n",
       "  </thead>\n",
       "  <tbody>\n",
       "    <tr>\n",
       "      <th>Medina</th>\n",
       "      <td>2.046559e+06</td>\n",
       "    </tr>\n",
       "    <tr>\n",
       "      <th>Clyde Hill</th>\n",
       "      <td>1.321945e+06</td>\n",
       "    </tr>\n",
       "    <tr>\n",
       "      <th>Yarrow Point</th>\n",
       "      <td>1.194838e+06</td>\n",
       "    </tr>\n",
       "  </tbody>\n",
       "</table>\n",
       "</div>"
      ],
      "text/plain": [
       "                     price\n",
       "city                      \n",
       "Medina        2.046559e+06\n",
       "Clyde Hill    1.321945e+06\n",
       "Yarrow Point  1.194838e+06"
      ]
     },
     "execution_count": 99,
     "metadata": {},
     "output_type": "execute_result"
    }
   ],
   "source": [
    "# Menampilkan nilai mean kondisi rumah setiap kota\n",
    "city_price= df.groupby('city')['price'].mean()\n",
    "\n",
    "kondisi_df = pd.DataFrame(city_price)\n",
    "City_mean_price =kondisi_df.sort_values('price',ascending=False)\n",
    "top3city = City_mean_price.head(3)\n",
    "top3city"
   ]
  },
  {
   "cell_type": "code",
   "execution_count": 100,
   "metadata": {},
   "outputs": [
    {
     "data": {
      "image/png": "[encoded data removed]",
      "text/plain": [
       "<Figure size 1000x600 with 1 Axes>"
      ]
     },
     "metadata": {},
     "output_type": "display_data"
    }
   ],
   "source": [
    "top3city.plot(kind='bar', figsize=(10,6))\n",
    "\n",
    "plt.title('3 Kota dengan rata-rata harga rumah tertinggi')\n",
    "plt.ylabel('Mean Price')\n",
    "plt.xlabel('City')\n",
    "# plt.xticks(rotation=0) \n",
    "\n",
    "plt.show()"
   ]
  },
  {
   "cell_type": "markdown",
   "metadata": {},
   "source": [
    "*Kesimpulan:*\n",
    "- Bisa dibilang di daerah tersebut merupakan rumah-rumah mewah dan bagus."
   ]
  },
  {
   "cell_type": "markdown",
   "metadata": {},
   "source": [
    "### ***E.Apakah ada Pengaruh Usia Rumah dengan Harga?***"
   ]
  },
  {
   "cell_type": "code",
   "execution_count": 93,
   "metadata": {},
   "outputs": [
    {
     "data": {
      "text/plain": [
       "<seaborn.axisgrid.FacetGrid at 0x1616c3b0350>"
      ]
     },
     "execution_count": 93,
     "metadata": {},
     "output_type": "execute_result"
    },
    {
     "data": {
      "image/png": "[encoded data removed]",
      "text/plain": [
       "<Figure size 500x500 with 1 Axes>"
      ]
     },
     "metadata": {},
     "output_type": "display_data"
    }
   ],
   "source": [
    "sns.set(rc={'figure.figsize':(10,5)})\n",
    "sns.relplot(kind='line',\n",
    "            x='house_age',\n",
    "            y='price',\n",
    "            data=df_duplicate\n",
    "           )"
   ]
  },
  {
   "cell_type": "markdown",
   "metadata": {},
   "source": [
    "*Kesimpulan:*\n",
    "- Usia rumah tidak menjamin harga rumah. Bisa saja rumah yang sudah tua, namun karena nilai keaslian dan vintage nya menjadi lebih mahal."
   ]
  },
  {
   "cell_type": "markdown",
   "metadata": {},
   "source": [
    "### ***F.Apakah Rumah Yang Pernah Direnovasi Memiliki Tingkat Kondisi Yang Lebih Baik?***"
   ]
  },
  {
   "cell_type": "code",
   "execution_count": 104,
   "metadata": {},
   "outputs": [
    {
     "data": {
      "text/plain": [
       "<Axes: xlabel='renovated', ylabel='condition'>"
      ]
     },
     "execution_count": 104,
     "metadata": {},
     "output_type": "execute_result"
    },
    {
     "data": {
      "image/png": "[encoded data removed]",
      "text/plain": [
       "<Figure size 1000x500 with 1 Axes>"
      ]
     },
     "metadata": {},
     "output_type": "display_data"
    }
   ],
   "source": [
    "sns.set(rc={'figure.figsize':(10,5)})\n",
    "cols = ['green','pink']\n",
    "sns.barplot(x='renovated', y='condition', palette= cols, data=df_duplicate)"
   ]
  },
  {
   "cell_type": "markdown",
   "metadata": {},
   "source": [
    "*Kesimpulan:*\n",
    "- Rumah yang pernah direnovasi memiliki kondisi yang lebih baik. Namun begitu perbedaan kondisinya tidak terlalu jauh dengan yang tidak pernah direnovasi."
   ]
  },
  {
   "cell_type": "markdown",
   "metadata": {},
   "source": [
    "### ***G.Adakah Hubungan Antara Luas Ruang Tamu Dengan Harga?***"
   ]
  },
  {
   "cell_type": "code",
   "execution_count": 94,
   "metadata": {},
   "outputs": [
    {
     "data": {
      "image/png": "[encoded data removed]",
      "text/plain": [
       "<Figure size 1000x500 with 1 Axes>"
      ]
     },
     "metadata": {},
     "output_type": "display_data"
    }
   ],
   "source": [
    "average_purchases = df.groupby('sqft_living')['price'].mean()\n",
    "# Membuat scatter plot\n",
    "plt.scatter(average_purchases.index, average_purchases.values, alpha=0.5)\n",
    "# Menambahkan label sumbu dan judul\n",
    "plt.xlabel('Luas Ruang Tamu (squarefeet)')\n",
    "plt.ylabel('Rata-rata Harga Rumah')\n",
    "plt.title('Rata-rata harga rumah dengan luas ruang tamu')\n",
    "# Menampilkan plot\n",
    "plt.show()"
   ]
  },
  {
   "cell_type": "markdown",
   "metadata": {},
   "source": [
    "*Kesimpulan:*\n",
    "- Dari scatter plot diatas dapat dilihat bahwa ada hubungan dengan trend positif antara harga rumah dengan luas ruang tamu, Artinya semakin besar luas ruang tamu , maka rumahnya juga akan semakin mahal."
   ]
  },
  {
   "cell_type": "markdown",
   "metadata": {},
   "source": [
    "# V.Feature Engineering"
   ]
  },
  {
   "cell_type": "markdown",
   "metadata": {},
   "source": [
    "> Bagian ini berisi proses penyiapan data untuk proses pelatihan model, seperti transformasi data (normalisasi, encoding, dll.), dan proses-proses lain yang dibutuhkan."
   ]
  },
  {
   "cell_type": "markdown",
   "metadata": {},
   "source": [
    "### ***1.Membagi Data Menjadi Numerical Dan Categorical***"
   ]
  },
  {
   "cell_type": "markdown",
   "metadata": {},
   "source": [
    "**Data categorical:** \n",
    "- *Data yang mempresentasikan kategori atau kelompok dan tidak memiliki nilai yang dapat diukur secara numerik.*"
   ]
  },
  {
   "cell_type": "markdown",
   "metadata": {},
   "source": [
    "**Data Numerical:**\n",
    "- *Data numerical mengandung nilai yang dapat diukur atau dihitung secara matematis.*"
   ]
  },
  {
   "cell_type": "code",
   "execution_count": 21,
   "metadata": {},
   "outputs": [],
   "source": [
    "# Divide category columns into cat_cols\n",
    "cat_cols = df_duplicate[['waterfront','view','condition','renovated','city']]\n",
    "# Divide numeric columns into num_cols\n",
    "num_cols = df_duplicate[['bedrooms', 'bathrooms', 'sqft_living','sqft_lot','floors','sqft_above','sqft_basement','house_age']]"
   ]
  },
  {
   "cell_type": "code",
   "execution_count": 22,
   "metadata": {},
   "outputs": [
    {
     "data": {
      "text/html": [
       "<div>\n",
       "<style scoped>\n",
       "    .dataframe tbody tr th:only-of-type {\n",
       "        vertical-align: middle;\n",
       "    }\n",
       "\n",
       "    .dataframe tbody tr th {\n",
       "        vertical-align: top;\n",
       "    }\n",
       "\n",
       "    .dataframe thead th {\n",
       "        text-align: right;\n",
       "    }\n",
       "</style>\n",
       "<table border=\"1\" class=\"dataframe\">\n",
       "  <thead>\n",
       "    <tr style=\"text-align: right;\">\n",
       "      <th></th>\n",
       "      <th>waterfront</th>\n",
       "      <th>view</th>\n",
       "      <th>condition</th>\n",
       "      <th>renovated</th>\n",
       "      <th>city</th>\n",
       "    </tr>\n",
       "  </thead>\n",
       "  <tbody>\n",
       "    <tr>\n",
       "      <th>0</th>\n",
       "      <td>0</td>\n",
       "      <td>0</td>\n",
       "      <td>3</td>\n",
       "      <td>1</td>\n",
       "      <td>Shoreline</td>\n",
       "    </tr>\n",
       "    <tr>\n",
       "      <th>1</th>\n",
       "      <td>0</td>\n",
       "      <td>4</td>\n",
       "      <td>5</td>\n",
       "      <td>0</td>\n",
       "      <td>Seattle</td>\n",
       "    </tr>\n",
       "    <tr>\n",
       "      <th>2</th>\n",
       "      <td>0</td>\n",
       "      <td>0</td>\n",
       "      <td>4</td>\n",
       "      <td>0</td>\n",
       "      <td>Kent</td>\n",
       "    </tr>\n",
       "    <tr>\n",
       "      <th>3</th>\n",
       "      <td>0</td>\n",
       "      <td>0</td>\n",
       "      <td>4</td>\n",
       "      <td>0</td>\n",
       "      <td>Bellevue</td>\n",
       "    </tr>\n",
       "    <tr>\n",
       "      <th>4</th>\n",
       "      <td>0</td>\n",
       "      <td>0</td>\n",
       "      <td>4</td>\n",
       "      <td>1</td>\n",
       "      <td>Redmond</td>\n",
       "    </tr>\n",
       "  </tbody>\n",
       "</table>\n",
       "</div>"
      ],
      "text/plain": [
       "   waterfront  view  condition  renovated       city\n",
       "0           0     0          3          1  Shoreline\n",
       "1           0     4          5          0    Seattle\n",
       "2           0     0          4          0       Kent\n",
       "3           0     0          4          0   Bellevue\n",
       "4           0     0          4          1    Redmond"
      ]
     },
     "execution_count": 22,
     "metadata": {},
     "output_type": "execute_result"
    }
   ],
   "source": [
    "# Show categorical dataframe\n",
    "cat_cols.head()"
   ]
  },
  {
   "cell_type": "code",
   "execution_count": 23,
   "metadata": {},
   "outputs": [
    {
     "data": {
      "text/html": [
       "<div>\n",
       "<style scoped>\n",
       "    .dataframe tbody tr th:only-of-type {\n",
       "        vertical-align: middle;\n",
       "    }\n",
       "\n",
       "    .dataframe tbody tr th {\n",
       "        vertical-align: top;\n",
       "    }\n",
       "\n",
       "    .dataframe thead th {\n",
       "        text-align: right;\n",
       "    }\n",
       "</style>\n",
       "<table border=\"1\" class=\"dataframe\">\n",
       "  <thead>\n",
       "    <tr style=\"text-align: right;\">\n",
       "      <th></th>\n",
       "      <th>bedrooms</th>\n",
       "      <th>bathrooms</th>\n",
       "      <th>sqft_living</th>\n",
       "      <th>sqft_lot</th>\n",
       "      <th>floors</th>\n",
       "      <th>sqft_above</th>\n",
       "      <th>sqft_basement</th>\n",
       "      <th>house_age</th>\n",
       "    </tr>\n",
       "  </thead>\n",
       "  <tbody>\n",
       "    <tr>\n",
       "      <th>0</th>\n",
       "      <td>3.0</td>\n",
       "      <td>2.0</td>\n",
       "      <td>1340</td>\n",
       "      <td>7912</td>\n",
       "      <td>2.0</td>\n",
       "      <td>1340</td>\n",
       "      <td>0</td>\n",
       "      <td>59</td>\n",
       "    </tr>\n",
       "    <tr>\n",
       "      <th>1</th>\n",
       "      <td>5.0</td>\n",
       "      <td>2.0</td>\n",
       "      <td>3650</td>\n",
       "      <td>9050</td>\n",
       "      <td>2.0</td>\n",
       "      <td>3370</td>\n",
       "      <td>280</td>\n",
       "      <td>93</td>\n",
       "    </tr>\n",
       "    <tr>\n",
       "      <th>2</th>\n",
       "      <td>3.0</td>\n",
       "      <td>2.0</td>\n",
       "      <td>1930</td>\n",
       "      <td>11947</td>\n",
       "      <td>1.0</td>\n",
       "      <td>1930</td>\n",
       "      <td>0</td>\n",
       "      <td>48</td>\n",
       "    </tr>\n",
       "    <tr>\n",
       "      <th>3</th>\n",
       "      <td>3.0</td>\n",
       "      <td>2.0</td>\n",
       "      <td>2000</td>\n",
       "      <td>8030</td>\n",
       "      <td>1.0</td>\n",
       "      <td>1000</td>\n",
       "      <td>1000</td>\n",
       "      <td>51</td>\n",
       "    </tr>\n",
       "    <tr>\n",
       "      <th>4</th>\n",
       "      <td>4.0</td>\n",
       "      <td>2.0</td>\n",
       "      <td>1940</td>\n",
       "      <td>10500</td>\n",
       "      <td>1.0</td>\n",
       "      <td>1140</td>\n",
       "      <td>800</td>\n",
       "      <td>38</td>\n",
       "    </tr>\n",
       "  </tbody>\n",
       "</table>\n",
       "</div>"
      ],
      "text/plain": [
       "   bedrooms  bathrooms  sqft_living  sqft_lot  floors  sqft_above  \\\n",
       "0       3.0        2.0         1340      7912     2.0        1340   \n",
       "1       5.0        2.0         3650      9050     2.0        3370   \n",
       "2       3.0        2.0         1930     11947     1.0        1930   \n",
       "3       3.0        2.0         2000      8030     1.0        1000   \n",
       "4       4.0        2.0         1940     10500     1.0        1140   \n",
       "\n",
       "   sqft_basement  house_age  \n",
       "0              0         59  \n",
       "1            280         93  \n",
       "2              0         48  \n",
       "3           1000         51  \n",
       "4            800         38  "
      ]
     },
     "execution_count": 23,
     "metadata": {},
     "output_type": "execute_result"
    }
   ],
   "source": [
    "# Show numerikal dataframe\n",
    "num_cols.head()"
   ]
  },
  {
   "cell_type": "markdown",
   "metadata": {},
   "source": [
    "### ***2.Cardinality Handling***"
   ]
  },
  {
   "cell_type": "code",
   "execution_count": 24,
   "metadata": {},
   "outputs": [
    {
     "name": "stdout",
     "output_type": "stream",
     "text": [
      "Cardinality Column waterfront: 2\n",
      "Cardinality Column view: 5\n",
      "Cardinality Column condition: 5\n",
      "Cardinality Column renovated: 2\n",
      "Cardinality Column city: 44\n"
     ]
    }
   ],
   "source": [
    "# Handling cardinality hanya untuk column categorical\n",
    "for x in cat_cols.columns:\n",
    "    print(f'Cardinality Column {x}:', cat_cols[x].nunique())"
   ]
  },
  {
   "cell_type": "markdown",
   "metadata": {},
   "source": [
    "*Kesimpulan:*\n",
    "- Column \"city\" memiliki Cardinality sebesar 44, yang termasuk high cardinality.\n",
    "- Column \"waterfront\", \"view\", \"condition\", \"renovated\" memiliki cardinality yang rendah, maka mereka termasuk dalam low cardinality."
   ]
  },
  {
   "cell_type": "markdown",
   "metadata": {},
   "source": [
    "##### **A.Handling Cardinality \"city\" Columns**"
   ]
  },
  {
   "cell_type": "code",
   "execution_count": 25,
   "metadata": {},
   "outputs": [
    {
     "data": {
      "text/plain": [
       "array(['Shoreline', 'Seattle', 'Kent', 'Bellevue', 'Redmond',\n",
       "       'Maple Valley', 'North Bend', 'Lake Forest Park', 'Sammamish',\n",
       "       'Auburn', 'Des Moines', 'Bothell', 'Federal Way', 'Kirkland',\n",
       "       'Issaquah', 'Woodinville', 'Normandy Park', 'Fall City', 'Renton',\n",
       "       'Carnation', 'Snoqualmie', 'Duvall', 'Burien', 'Covington',\n",
       "       'Inglewood-Finn Hill', 'Kenmore', 'Newcastle', 'Mercer Island',\n",
       "       'Black Diamond', 'Ravensdale', 'Clyde Hill', 'Algona', 'Skykomish',\n",
       "       'Tukwila', 'Vashon', 'Yarrow Point', 'SeaTac', 'Medina',\n",
       "       'Enumclaw', 'Snoqualmie Pass', 'Pacific', 'Beaux Arts Village',\n",
       "       'Preston', 'Milton'], dtype=object)"
      ]
     },
     "execution_count": 25,
     "metadata": {},
     "output_type": "execute_result"
    }
   ],
   "source": [
    "# Mengecek unique value kolom city\n",
    "cat_cols['city'].unique()"
   ]
  },
  {
   "cell_type": "markdown",
   "metadata": {},
   "source": [
    "*Kesimpulan:*\n",
    "\n",
    "Diatas merupakan nama-nama kota yang terletak pada negara United State of America. Saya akan membagi nama-nama kota di atas berdasarkan letak geografisnya terhadap kota terbesarnya yaitu kota seattle dengan pembagiannya seperti berikut."
   ]
  },
  {
   "cell_type": "markdown",
   "metadata": {},
   "source": [
    "**1.Seattle**:\n",
    "- Seattle\n",
    "\n",
    "**2.Wilayah Timur**\n",
    "- Bellevue\n",
    "- Redmond\n",
    "- Kirkland\n",
    "- Sammamish\n",
    "- Issaquah\n",
    "- Woodinville\n",
    "- Newcastle\n",
    "\n",
    "**3.Seattle Utara**\n",
    "- Shoreline\n",
    "- Lake Forest Park\n",
    "- Kenmore\n",
    "\n",
    "**4.Wilayah Selatan Seattle**\n",
    "- Renton\n",
    "- Kent\n",
    "- Auburn\n",
    "- Des Moines\n",
    "- Federal Way\n",
    "- Burien\n",
    "- Tukwila\n",
    "- SeaTac\n",
    "- Normandy Park\n",
    "\n",
    "**5.Wilayah Barat Daya Seattle**\n",
    "- Mercer Island\n",
    "- Medina\n",
    "- Clyde Hill\n",
    "- Yarrow Point\n",
    "- Beaux Arts Village\n",
    "\n",
    "**6.Wilayah Selatan Pegunungan Cascade**\n",
    "- Black Diamond\n",
    "- Covington\n",
    "- Enumclaw\n",
    "\n",
    "**7.Wilayah Pegunungan Cascade**\n",
    "- Maple Valley\n",
    "- North Bend\n",
    "- Snoqualmie\n",
    "- Duvall\n",
    "- Carnation\n",
    "- Ravensdale\n",
    "- Fall City\n",
    "- Skykomish\n",
    "- Snoqualmie Pass\n",
    "\n",
    "**8.Wilayah Lainnya**\n",
    "- Bothell\n",
    "- Inglewood-Finn Hill\n",
    "- Algona\n",
    "- Vashon\n",
    "- Preston\n",
    "- Milton\n",
    "- Pacific"
   ]
  },
  {
   "cell_type": "code",
   "execution_count": 26,
   "metadata": {},
   "outputs": [],
   "source": [
    "# Membuat fungsi untuk mengubah nama kota ke area\n",
    "def klasifikasi_kota(kota):\n",
    "    if pd.isna(kota):\n",
    "        pass\n",
    "    elif kota in ['Shoreline','Lake Forest Park','Kenmore']:\n",
    "        return 1\n",
    "    elif kota in ['Seattle']:\n",
    "        return 2\n",
    "    elif kota in ['Bellevue','Redmond','Kirkland','Sammamish','Issaquah','Woodinville','Newcastle']:\n",
    "        return 3\n",
    "    elif kota in ['Renton','Kent','Auburn','Des Moines','Federal Way','Burien','Tukwila','SeaTac','Normandy Park']:\n",
    "        return 4\n",
    "    elif kota in ['Mercer Island','Medina','Clyde Hill','Yarrow Point','Beaux Arts Village']:\n",
    "        return 5\n",
    "    elif kota in ['Black Diamond','Covington','Enumclaw']:\n",
    "        return 6\n",
    "    elif kota in ['Maple Valley','North Bend','Snoqualmie','Duvall','Carnation','Ravensdale','Fall City','Skykomish','Snoqualmie Pass']:\n",
    "        return 7\n",
    "    elif kota in ['Bothell','Inglewood-Finn Hill','Algona','Vashon','Preston','Milton','Pacific']:\n",
    "        return 8"
   ]
  },
  {
   "cell_type": "code",
   "execution_count": 27,
   "metadata": {},
   "outputs": [
    {
     "data": {
      "text/plain": [
       "0       1\n",
       "1       2\n",
       "2       4\n",
       "3       3\n",
       "4       3\n",
       "       ..\n",
       "4595    2\n",
       "4596    3\n",
       "4597    4\n",
       "4598    2\n",
       "4599    6\n",
       "Name: area, Length: 4551, dtype: int64"
      ]
     },
     "execution_count": 27,
     "metadata": {},
     "output_type": "execute_result"
    }
   ],
   "source": [
    "# Membuat kolom baru area\n",
    "cat_cols['area'] = cat_cols['city'].apply(klasifikasi_kota)\n",
    "cat_cols['area']"
   ]
  },
  {
   "cell_type": "code",
   "execution_count": 28,
   "metadata": {},
   "outputs": [],
   "source": [
    "# Melihat categorical column yang sudah diperbaharui\n",
    "cat_cols['price'] = df_duplicate['price']"
   ]
  },
  {
   "cell_type": "code",
   "execution_count": 29,
   "metadata": {},
   "outputs": [
    {
     "data": {
      "text/plain": [
       "area\n",
       "2    1561\n",
       "3    1207\n",
       "4     999\n",
       "7     300\n",
       "1     222\n",
       "5     107\n",
       "8      78\n",
       "6      77\n",
       "Name: count, dtype: int64"
      ]
     },
     "execution_count": 29,
     "metadata": {},
     "output_type": "execute_result"
    }
   ],
   "source": [
    "# Melihat jumlah dari unique value column area\n",
    "cat_cols['area'].value_counts()"
   ]
  },
  {
   "cell_type": "code",
   "execution_count": 30,
   "metadata": {},
   "outputs": [],
   "source": [
    "# Menghapus column city karena sudah diwakilkan dengan column area dengan lebih baik (tidak high cardinal)\n",
    "cat_cols.drop(['city'],axis=1,inplace=True)"
   ]
  },
  {
   "cell_type": "markdown",
   "metadata": {},
   "source": [
    "### ***3.Feature Selection***"
   ]
  },
  {
   "cell_type": "code",
   "execution_count": 32,
   "metadata": {},
   "outputs": [],
   "source": [
    "# Membagi column categorical dan numerical\n",
    "cols_num = ['price','bedrooms','bathrooms','sqft_living','sqft_lot','floors','sqft_above','sqft_basement','house_age']\n",
    "cols_cat = ['waterfront','view','condition','city','renovated','area','price']\n"
   ]
  },
  {
   "cell_type": "code",
   "execution_count": 33,
   "metadata": {},
   "outputs": [
    {
     "data": {
      "text/plain": [
       "<Axes: >"
      ]
     },
     "execution_count": 33,
     "metadata": {},
     "output_type": "execute_result"
    },
    {
     "data": {
      "image/png": "[encoded data removed]",
      "text/plain": [
       "<Figure size 2000x2000 with 2 Axes>"
      ]
     },
     "metadata": {},
     "output_type": "display_data"
    }
   ],
   "source": [
    "# Melakukan plot temp_numeric_cols kedalam heatmap\n",
    "plt.figure(figsize=(20,20)) \n",
    "sns.heatmap(df_duplicate[cols_num].corr(method='pearson'),annot=True)"
   ]
  },
  {
   "cell_type": "markdown",
   "metadata": {},
   "source": [
    "*Kesimpulan:*\n",
    "\n",
    "Dapat di lihat dari heatmap correlation di atas, korelasinya cukup besar dengan harga rumah adalah:\n",
    "- bedrooms\n",
    "- bathrooms\n",
    "- sqft_living\n",
    "- floors\n",
    "- sqft_above\n",
    "- sqft_basement"
   ]
  },
  {
   "cell_type": "code",
   "execution_count": 34,
   "metadata": {},
   "outputs": [
    {
     "data": {
      "image/png": "[encoded data removed]",
      "text/plain": [
       "<Figure size 1000x600 with 2 Axes>"
      ]
     },
     "metadata": {},
     "output_type": "display_data"
    }
   ],
   "source": [
    "kendall_corr_matrix = cat_cols.corr(method=lambda x, y: kendalltau(x, y).correlation)\n",
    "\n",
    "plt.figure(figsize=(10, 6))\n",
    "sns.heatmap(kendall_corr_matrix, annot=True, cmap='coolwarm', center=0)\n",
    "plt.title('Kendall tau Correlation Heatmap Categorical columns')\n",
    "plt.show()"
   ]
  },
  {
   "cell_type": "markdown",
   "metadata": {},
   "source": [
    "*Kesimpulan:*\n",
    "\n",
    "Dapat dilihat dari heatmap correlation diatas, column categorical dengan target \"price\" dipilih beberapa feature dengan korelasi tertinggi:\n",
    "- area \n",
    "- view\n",
    "- conditioon"
   ]
  },
  {
   "cell_type": "markdown",
   "metadata": {},
   "source": [
    "**Jadi, feature yang dipilih untuk dimasukan kedalam model adalah:**\n",
    "- **Area** yang berbentuk Categorical\n",
    "- **View** yang berbentuk Categorical\n",
    "- **Condition** yang berbentuk Categorical\n",
    "- **Bedrooms** yang berbentuk Numerical\n",
    "- **Bathrooms** yang berbentuk Numerical\n",
    "- **Sqft_living** yang berbentuk Numerical\n",
    "- **Floors** yang berbentuk Numerical\n",
    "- **Sqft_above** yang berbentuk Numerical\n",
    "- **Sqft_basement** yang berbentuk Numerical"
   ]
  },
  {
   "cell_type": "code",
   "execution_count": 36,
   "metadata": {},
   "outputs": [
    {
     "data": {
      "text/html": [
       "<div>\n",
       "<style scoped>\n",
       "    .dataframe tbody tr th:only-of-type {\n",
       "        vertical-align: middle;\n",
       "    }\n",
       "\n",
       "    .dataframe tbody tr th {\n",
       "        vertical-align: top;\n",
       "    }\n",
       "\n",
       "    .dataframe thead th {\n",
       "        text-align: right;\n",
       "    }\n",
       "</style>\n",
       "<table border=\"1\" class=\"dataframe\">\n",
       "  <thead>\n",
       "    <tr style=\"text-align: right;\">\n",
       "      <th></th>\n",
       "      <th>price</th>\n",
       "      <th>view</th>\n",
       "      <th>bedrooms</th>\n",
       "      <th>bathrooms</th>\n",
       "      <th>sqft_living</th>\n",
       "      <th>floors</th>\n",
       "      <th>sqft_above</th>\n",
       "      <th>sqft_basement</th>\n",
       "      <th>condition</th>\n",
       "      <th>area</th>\n",
       "    </tr>\n",
       "  </thead>\n",
       "  <tbody>\n",
       "    <tr>\n",
       "      <th>0</th>\n",
       "      <td>313000.0</td>\n",
       "      <td>0</td>\n",
       "      <td>3.0</td>\n",
       "      <td>2.0</td>\n",
       "      <td>1340</td>\n",
       "      <td>2.0</td>\n",
       "      <td>1340</td>\n",
       "      <td>0</td>\n",
       "      <td>3</td>\n",
       "      <td>1</td>\n",
       "    </tr>\n",
       "    <tr>\n",
       "      <th>1</th>\n",
       "      <td>2384000.0</td>\n",
       "      <td>4</td>\n",
       "      <td>5.0</td>\n",
       "      <td>2.0</td>\n",
       "      <td>3650</td>\n",
       "      <td>2.0</td>\n",
       "      <td>3370</td>\n",
       "      <td>280</td>\n",
       "      <td>5</td>\n",
       "      <td>2</td>\n",
       "    </tr>\n",
       "    <tr>\n",
       "      <th>2</th>\n",
       "      <td>342000.0</td>\n",
       "      <td>0</td>\n",
       "      <td>3.0</td>\n",
       "      <td>2.0</td>\n",
       "      <td>1930</td>\n",
       "      <td>1.0</td>\n",
       "      <td>1930</td>\n",
       "      <td>0</td>\n",
       "      <td>4</td>\n",
       "      <td>4</td>\n",
       "    </tr>\n",
       "    <tr>\n",
       "      <th>3</th>\n",
       "      <td>420000.0</td>\n",
       "      <td>0</td>\n",
       "      <td>3.0</td>\n",
       "      <td>2.0</td>\n",
       "      <td>2000</td>\n",
       "      <td>1.0</td>\n",
       "      <td>1000</td>\n",
       "      <td>1000</td>\n",
       "      <td>4</td>\n",
       "      <td>3</td>\n",
       "    </tr>\n",
       "    <tr>\n",
       "      <th>4</th>\n",
       "      <td>550000.0</td>\n",
       "      <td>0</td>\n",
       "      <td>4.0</td>\n",
       "      <td>2.0</td>\n",
       "      <td>1940</td>\n",
       "      <td>1.0</td>\n",
       "      <td>1140</td>\n",
       "      <td>800</td>\n",
       "      <td>4</td>\n",
       "      <td>3</td>\n",
       "    </tr>\n",
       "  </tbody>\n",
       "</table>\n",
       "</div>"
      ],
      "text/plain": [
       "       price  view  bedrooms  bathrooms  sqft_living  floors  sqft_above  \\\n",
       "0   313000.0     0       3.0        2.0         1340     2.0        1340   \n",
       "1  2384000.0     4       5.0        2.0         3650     2.0        3370   \n",
       "2   342000.0     0       3.0        2.0         1930     1.0        1930   \n",
       "3   420000.0     0       3.0        2.0         2000     1.0        1000   \n",
       "4   550000.0     0       4.0        2.0         1940     1.0        1140   \n",
       "\n",
       "   sqft_basement  condition  area  \n",
       "0              0          3     1  \n",
       "1            280          5     2  \n",
       "2              0          4     4  \n",
       "3           1000          4     3  \n",
       "4            800          4     3  "
      ]
     },
     "execution_count": 36,
     "metadata": {},
     "output_type": "execute_result"
    }
   ],
   "source": [
    "# Memasukan feature selected kedalam dataframe baru\n",
    "ftr_selected = df_duplicate[['price','view','bedrooms','bathrooms','sqft_living','floors','sqft_above','sqft_basement','condition']]\n",
    "ftr_selected['area'] = cat_cols['area']\n",
    "ftr_selected.head()"
   ]
  },
  {
   "cell_type": "markdown",
   "metadata": {},
   "source": [
    "*Kesimpulan:*\n",
    "\n",
    "Saya membuat dataframe baru yang bernama \"ftr_selected\" dan di dalam dataframe ini berisi feature-feature yang sudah dipilih berdasarkan nilai korelasi dengan column \"price\"."
   ]
  },
  {
   "cell_type": "markdown",
   "metadata": {},
   "source": [
    "### ***4.Split Data***"
   ]
  },
  {
   "cell_type": "code",
   "execution_count": 37,
   "metadata": {},
   "outputs": [],
   "source": [
    "# Membagi data hasil pemilihan feature kedalam X(feature) dan y(target)\n",
    "X = ftr_selected.drop(['price'], axis=1)\n",
    "y = ftr_selected['price']"
   ]
  },
  {
   "cell_type": "code",
   "execution_count": 38,
   "metadata": {},
   "outputs": [
    {
     "name": "stdout",
     "output_type": "stream",
     "text": [
      "Train size (3640, 9)\n",
      "Test size (911, 9)\n"
     ]
    },
    {
     "data": {
      "text/html": [
       "<div>\n",
       "<style scoped>\n",
       "    .dataframe tbody tr th:only-of-type {\n",
       "        vertical-align: middle;\n",
       "    }\n",
       "\n",
       "    .dataframe tbody tr th {\n",
       "        vertical-align: top;\n",
       "    }\n",
       "\n",
       "    .dataframe thead th {\n",
       "        text-align: right;\n",
       "    }\n",
       "</style>\n",
       "<table border=\"1\" class=\"dataframe\">\n",
       "  <thead>\n",
       "    <tr style=\"text-align: right;\">\n",
       "      <th></th>\n",
       "      <th>view</th>\n",
       "      <th>bedrooms</th>\n",
       "      <th>bathrooms</th>\n",
       "      <th>sqft_living</th>\n",
       "      <th>floors</th>\n",
       "      <th>sqft_above</th>\n",
       "      <th>sqft_basement</th>\n",
       "      <th>condition</th>\n",
       "      <th>area</th>\n",
       "    </tr>\n",
       "  </thead>\n",
       "  <tbody>\n",
       "    <tr>\n",
       "      <th>799</th>\n",
       "      <td>0</td>\n",
       "      <td>3.0</td>\n",
       "      <td>2.0</td>\n",
       "      <td>1180</td>\n",
       "      <td>1.0</td>\n",
       "      <td>940</td>\n",
       "      <td>240</td>\n",
       "      <td>4</td>\n",
       "      <td>3</td>\n",
       "    </tr>\n",
       "    <tr>\n",
       "      <th>3547</th>\n",
       "      <td>0</td>\n",
       "      <td>3.0</td>\n",
       "      <td>2.0</td>\n",
       "      <td>2410</td>\n",
       "      <td>1.0</td>\n",
       "      <td>1860</td>\n",
       "      <td>550</td>\n",
       "      <td>4</td>\n",
       "      <td>4</td>\n",
       "    </tr>\n",
       "    <tr>\n",
       "      <th>2982</th>\n",
       "      <td>0</td>\n",
       "      <td>3.0</td>\n",
       "      <td>2.0</td>\n",
       "      <td>1860</td>\n",
       "      <td>2.0</td>\n",
       "      <td>1860</td>\n",
       "      <td>0</td>\n",
       "      <td>3</td>\n",
       "      <td>7</td>\n",
       "    </tr>\n",
       "    <tr>\n",
       "      <th>287</th>\n",
       "      <td>0</td>\n",
       "      <td>3.0</td>\n",
       "      <td>2.0</td>\n",
       "      <td>1410</td>\n",
       "      <td>1.0</td>\n",
       "      <td>1410</td>\n",
       "      <td>0</td>\n",
       "      <td>3</td>\n",
       "      <td>4</td>\n",
       "    </tr>\n",
       "    <tr>\n",
       "      <th>2634</th>\n",
       "      <td>3</td>\n",
       "      <td>4.0</td>\n",
       "      <td>4.0</td>\n",
       "      <td>3010</td>\n",
       "      <td>2.0</td>\n",
       "      <td>1940</td>\n",
       "      <td>1070</td>\n",
       "      <td>4</td>\n",
       "      <td>2</td>\n",
       "    </tr>\n",
       "  </tbody>\n",
       "</table>\n",
       "</div>"
      ],
      "text/plain": [
       "      view  bedrooms  bathrooms  sqft_living  floors  sqft_above  \\\n",
       "799      0       3.0        2.0         1180     1.0         940   \n",
       "3547     0       3.0        2.0         2410     1.0        1860   \n",
       "2982     0       3.0        2.0         1860     2.0        1860   \n",
       "287      0       3.0        2.0         1410     1.0        1410   \n",
       "2634     3       4.0        4.0         3010     2.0        1940   \n",
       "\n",
       "      sqft_basement  condition  area  \n",
       "799             240          4     3  \n",
       "3547            550          4     4  \n",
       "2982              0          3     7  \n",
       "287               0          3     4  \n",
       "2634           1070          4     2  "
      ]
     },
     "execution_count": 38,
     "metadata": {},
     "output_type": "execute_result"
    }
   ],
   "source": [
    "# Splitting antara Train and Test\n",
    "X_train, X_test, y_train, y_test = train_test_split(\n",
    "    X, y, test_size=0.2, random_state=20)\n",
    "\n",
    "print('Train size', X_train.shape)\n",
    "print('Test size', X_test.shape)\n",
    "X_train.head()"
   ]
  },
  {
   "cell_type": "code",
   "execution_count": 39,
   "metadata": {},
   "outputs": [
    {
     "data": {
      "text/html": [
       "<div>\n",
       "<style scoped>\n",
       "    .dataframe tbody tr th:only-of-type {\n",
       "        vertical-align: middle;\n",
       "    }\n",
       "\n",
       "    .dataframe tbody tr th {\n",
       "        vertical-align: top;\n",
       "    }\n",
       "\n",
       "    .dataframe thead th {\n",
       "        text-align: right;\n",
       "    }\n",
       "</style>\n",
       "<table border=\"1\" class=\"dataframe\">\n",
       "  <thead>\n",
       "    <tr style=\"text-align: right;\">\n",
       "      <th></th>\n",
       "      <th>bedrooms</th>\n",
       "      <th>bathrooms</th>\n",
       "      <th>sqft_living</th>\n",
       "      <th>floors</th>\n",
       "      <th>sqft_above</th>\n",
       "      <th>sqft_basement</th>\n",
       "    </tr>\n",
       "  </thead>\n",
       "  <tbody>\n",
       "    <tr>\n",
       "      <th>3286</th>\n",
       "      <td>4.0</td>\n",
       "      <td>4.0</td>\n",
       "      <td>3770</td>\n",
       "      <td>2.0</td>\n",
       "      <td>2830</td>\n",
       "      <td>940</td>\n",
       "    </tr>\n",
       "    <tr>\n",
       "      <th>2352</th>\n",
       "      <td>2.0</td>\n",
       "      <td>2.0</td>\n",
       "      <td>982</td>\n",
       "      <td>2.0</td>\n",
       "      <td>806</td>\n",
       "      <td>176</td>\n",
       "    </tr>\n",
       "    <tr>\n",
       "      <th>3395</th>\n",
       "      <td>3.0</td>\n",
       "      <td>2.0</td>\n",
       "      <td>2320</td>\n",
       "      <td>3.0</td>\n",
       "      <td>2320</td>\n",
       "      <td>0</td>\n",
       "    </tr>\n",
       "    <tr>\n",
       "      <th>2938</th>\n",
       "      <td>3.0</td>\n",
       "      <td>3.0</td>\n",
       "      <td>3240</td>\n",
       "      <td>2.0</td>\n",
       "      <td>3240</td>\n",
       "      <td>0</td>\n",
       "    </tr>\n",
       "    <tr>\n",
       "      <th>648</th>\n",
       "      <td>3.0</td>\n",
       "      <td>1.0</td>\n",
       "      <td>1050</td>\n",
       "      <td>1.0</td>\n",
       "      <td>1050</td>\n",
       "      <td>0</td>\n",
       "    </tr>\n",
       "  </tbody>\n",
       "</table>\n",
       "</div>"
      ],
      "text/plain": [
       "      bedrooms  bathrooms  sqft_living  floors  sqft_above  sqft_basement\n",
       "3286       4.0        4.0         3770     2.0        2830            940\n",
       "2352       2.0        2.0          982     2.0         806            176\n",
       "3395       3.0        2.0         2320     3.0        2320              0\n",
       "2938       3.0        3.0         3240     2.0        3240              0\n",
       "648        3.0        1.0         1050     1.0        1050              0"
      ]
     },
     "execution_count": 39,
     "metadata": {},
     "output_type": "execute_result"
    }
   ],
   "source": [
    "# Membagi lagi data test dan train ke data kategorikal dan data numerikal\n",
    "# Data train numerikal\n",
    "X_train_num = X_train[['bedrooms','bathrooms','sqft_living','floors','sqft_above','sqft_basement']]\n",
    "# Data test numerikal\n",
    "X_test_num = X_test[['bedrooms','bathrooms','sqft_living','floors','sqft_above','sqft_basement']]\n",
    "X_test_num.head()"
   ]
  },
  {
   "cell_type": "code",
   "execution_count": 40,
   "metadata": {},
   "outputs": [
    {
     "data": {
      "text/html": [
       "<div>\n",
       "<style scoped>\n",
       "    .dataframe tbody tr th:only-of-type {\n",
       "        vertical-align: middle;\n",
       "    }\n",
       "\n",
       "    .dataframe tbody tr th {\n",
       "        vertical-align: top;\n",
       "    }\n",
       "\n",
       "    .dataframe thead th {\n",
       "        text-align: right;\n",
       "    }\n",
       "</style>\n",
       "<table border=\"1\" class=\"dataframe\">\n",
       "  <thead>\n",
       "    <tr style=\"text-align: right;\">\n",
       "      <th></th>\n",
       "      <th>area</th>\n",
       "      <th>view</th>\n",
       "      <th>condition</th>\n",
       "    </tr>\n",
       "  </thead>\n",
       "  <tbody>\n",
       "    <tr>\n",
       "      <th>799</th>\n",
       "      <td>3</td>\n",
       "      <td>0</td>\n",
       "      <td>4</td>\n",
       "    </tr>\n",
       "    <tr>\n",
       "      <th>3547</th>\n",
       "      <td>4</td>\n",
       "      <td>0</td>\n",
       "      <td>4</td>\n",
       "    </tr>\n",
       "    <tr>\n",
       "      <th>2982</th>\n",
       "      <td>7</td>\n",
       "      <td>0</td>\n",
       "      <td>3</td>\n",
       "    </tr>\n",
       "    <tr>\n",
       "      <th>287</th>\n",
       "      <td>4</td>\n",
       "      <td>0</td>\n",
       "      <td>3</td>\n",
       "    </tr>\n",
       "    <tr>\n",
       "      <th>2634</th>\n",
       "      <td>2</td>\n",
       "      <td>3</td>\n",
       "      <td>4</td>\n",
       "    </tr>\n",
       "  </tbody>\n",
       "</table>\n",
       "</div>"
      ],
      "text/plain": [
       "      area  view  condition\n",
       "799      3     0          4\n",
       "3547     4     0          4\n",
       "2982     7     0          3\n",
       "287      4     0          3\n",
       "2634     2     3          4"
      ]
     },
     "execution_count": 40,
     "metadata": {},
     "output_type": "execute_result"
    }
   ],
   "source": [
    "# Data train categorical\n",
    "X_train_cat = X_train[['area','view','condition']]\n",
    "# Data test categorical\n",
    "X_test_cat = X_test[['area','view','condition']]\n",
    "X_train_cat.head()"
   ]
  },
  {
   "cell_type": "markdown",
   "metadata": {},
   "source": [
    "### ***5.Cek Skewness Data Numerical***"
   ]
  },
  {
   "cell_type": "code",
   "execution_count": 41,
   "metadata": {},
   "outputs": [
    {
     "name": "stdout",
     "output_type": "stream",
     "text": [
      "Skewness of column bedrooms is 0.4533580005797982\n",
      "Skewness of column bathrooms is 1.1908781083649216\n",
      "Skewness of column sqft_living is 1.878710429288805\n",
      "Skewness of column floors is 0.31432645360950207\n",
      "Skewness of column sqft_above is 1.4947947591577937\n",
      "Skewness of column sqft_basement is 1.733253552015664\n"
     ]
    }
   ],
   "source": [
    "# Melihat Skewness dari column X_train_num\n",
    "for i in X_train_num:\n",
    "    skew = X_train_num[i].skew()\n",
    "    print('Skewness of column', i, 'is', skew)"
   ]
  },
  {
   "cell_type": "code",
   "execution_count": 43,
   "metadata": {},
   "outputs": [],
   "source": [
    "# Melihat nialai mana yang terdistribusi normal dan skewed\n",
    "# Untuk menampung kolom yang masuk dalam skewness normal\n",
    "normal = []\n",
    "# Untuk menampung kolom yang masuk dalam skewness skewed  \n",
    "skewed = []  \n",
    "\n",
    "# Untuk mencari kolom mana yang skewed atau normal\n",
    "for column in X_train_num.columns:  \n",
    "    skewness = X_train_num[column].skew()\n",
    "# Syarat\n",
    "    if skewness < -0.5 or skewness > 0.5:  \n",
    "# Memasukan ke variabel penampung skewed\n",
    "        skewed.append(column)\n",
    "# Syarat  \n",
    "    elif skewness >= -0.5 or skewness <= 0.5:  \n",
    "# Memasukan ke variabel penampung normal\n",
    "        normal.append(column)  "
   ]
  },
  {
   "cell_type": "code",
   "execution_count": 44,
   "metadata": {},
   "outputs": [
    {
     "name": "stdout",
     "output_type": "stream",
     "text": [
      "Kolom yang termasuk distribusi normal adalah ['bedrooms', 'floors']\n",
      "Kolom yang termasuk distribusi skewed adalah ['bathrooms', 'sqft_living', 'sqft_above', 'sqft_basement']\n"
     ]
    }
   ],
   "source": [
    "print (f'Kolom yang termasuk distribusi normal adalah {normal}')\n",
    "print (f'Kolom yang termasuk distribusi skewed adalah {skewed}')"
   ]
  },
  {
   "cell_type": "code",
   "execution_count": null,
   "metadata": {},
   "outputs": [],
   "source": [
    "# Melihat jumlah outlier pada setiap column di X_train_num\n",
    "threshold = 3\n",
    "outlier_counts = {}\n",
    "\n",
    "for col in X_train_num.columns:\n",
    "    data_skew = X_train_num[col]\n",
    "    mean = np.mean(data_skew)\n",
    "    std_dev = np.std(data_skew)\n",
    "\n",
    "    upper_bound = mean + threshold * std_dev\n",
    "    lower_bound = mean - threshold * std_dev\n",
    "\n",
    "    outliers = np.where((data_skew > upper_bound) | (data_skew < lower_bound))\n",
    "    \n",
    "    outlier_counts[col] = len(outliers[0])\n",
    "\n",
    "for col, count in outlier_counts.items():\n",
    "    print(f\"Jumlah outlier dalam kolom {col}: {count} outlier\")"
   ]
  },
  {
   "cell_type": "code",
   "execution_count": 45,
   "metadata": {},
   "outputs": [
    {
     "name": "stdout",
     "output_type": "stream",
     "text": [
      "Percentage of outliers in column bedrooms: 0.36%\n",
      "Percentage of outliers in column bathrooms: 0.55%\n",
      "Percentage of outliers in column sqft_living: 1.10%\n",
      "Percentage of outliers in column floors: 0.03%\n",
      "Percentage of outliers in column sqft_above: 1.24%\n",
      "Percentage of outliers in column sqft_basement: 1.04%\n"
     ]
    }
   ],
   "source": [
    "# Melihat presentase outlier pada column X_train_num\n",
    "# Menetapkan batas untuk mengidentifikasi Outlier\n",
    "threshold = 3\n",
    "\n",
    "# Menginisialkan untuk menyimpan percentages outlier untuk setiap column numerik\n",
    "outlier_percentages = {}\n",
    "\n",
    "# Lakukan perulangan melalui setiap column dalam X_train_num\n",
    "for col in X_train_num.columns:\n",
    "    data_skew = X_train_num[col]\n",
    "    mean = np.mean(data_skew)\n",
    "    std_dev = np.std(data_skew)\n",
    "\n",
    "    upper_bound = mean + threshold * std_dev\n",
    "    lower_bound = mean - threshold * std_dev\n",
    "\n",
    "    # Mengidentifikasikan Outlier berdasarkan ambang batas\n",
    "    outliers = np.where((data_skew > upper_bound) | (data_skew < lower_bound))\n",
    "    \n",
    "    # Menghitung persentase outliers\n",
    "    total_data_points = len(data_skew)\n",
    "    percentage = (len(outliers[0]) / total_data_points) * 100\n",
    "    \n",
    "    # Menyimpan persentase Outlier dalam dictionary\n",
    "    outlier_percentages[col] = percentage\n",
    "\n",
    "# Print percentage Outlier untuk setiap column\n",
    "for col, percentage in outlier_percentages.items():\n",
    "    print(f\"Percentage of outliers in column {col}: {percentage:.2f}%\")"
   ]
  },
  {
   "cell_type": "markdown",
   "metadata": {},
   "source": [
    "*Kesimpulan:*\n",
    "- Semua outlier menunjukan akngka di bawah 5%.\n",
    "- Karena dataset saya berjumlah kira-kira 4600 data, saya tidak melakukan trimming karena akan membuat model saya kekurangan data.\n",
    "- Saya akan melakukan capping dengan metode gussian untuk column **\"bedrooms\"**, dan **\"floors\"**.\n",
    "- Dan saya akan menggunakan metode IQR untuk column **\"bathrooms\"**, **\"sqft_living\"**, **\"sqft_above\"**, dan **\"sqft_basement\"**."
   ]
  },
  {
   "cell_type": "markdown",
   "metadata": {},
   "source": [
    "### ***6.Cek Missing Value Pada X_train Dan X_test***"
   ]
  },
  {
   "cell_type": "code",
   "execution_count": 46,
   "metadata": {},
   "outputs": [
    {
     "data": {
      "text/plain": [
       "view             0\n",
       "bedrooms         0\n",
       "bathrooms        0\n",
       "sqft_living      0\n",
       "floors           0\n",
       "sqft_above       0\n",
       "sqft_basement    0\n",
       "condition        0\n",
       "area             0\n",
       "dtype: int64"
      ]
     },
     "execution_count": 46,
     "metadata": {},
     "output_type": "execute_result"
    }
   ],
   "source": [
    "# Mengecek Missing value pada X_train\n",
    "X_train.isna().sum()"
   ]
  },
  {
   "cell_type": "markdown",
   "metadata": {},
   "source": [
    "*Kesimpulan:*\n",
    "- Tidak terdapat Missing value pada X_train, jadi tidak perlu di handling."
   ]
  },
  {
   "cell_type": "code",
   "execution_count": 47,
   "metadata": {},
   "outputs": [
    {
     "data": {
      "text/plain": [
       "view             0\n",
       "bedrooms         0\n",
       "bathrooms        0\n",
       "sqft_living      0\n",
       "floors           0\n",
       "sqft_above       0\n",
       "sqft_basement    0\n",
       "condition        0\n",
       "area             0\n",
       "dtype: int64"
      ]
     },
     "execution_count": 47,
     "metadata": {},
     "output_type": "execute_result"
    }
   ],
   "source": [
    "# Mengecek Missing value pada X_test\n",
    "X_test.isna().sum()"
   ]
  },
  {
   "cell_type": "markdown",
   "metadata": {},
   "source": [
    "*Kesimpulan:*\n",
    "- Tidak terdapat Missing value pada X_test, jadi tidak perlu di handling."
   ]
  },
  {
   "cell_type": "markdown",
   "metadata": {},
   "source": [
    "### ***7.Membuat Pipeline Untuk Preprocessing***"
   ]
  },
  {
   "cell_type": "markdown",
   "metadata": {},
   "source": [
    "- Pipeline preprocessing berguna untuk menyatukan semua proses pada preprocessing menjadi 1.\n",
    "- Pipeline memastikan bahwa tiap langkah preprocessing hanya diterapkan pada data pelatihan dan validasi secara terpisah, mengurangi resiko kebocoran data."
   ]
  },
  {
   "cell_type": "markdown",
   "metadata": {},
   "source": [
    "##### **A.Langkah-langkah Yang Akan Digunakan Pada Preprocessing Menggunakan Pipeline**"
   ]
  },
  {
   "cell_type": "code",
   "execution_count": 48,
   "metadata": {},
   "outputs": [],
   "source": [
    "# Define column numerik yang akan di proses pada features numerik \n",
    "num_features = ['bedrooms','bathrooms','sqft_living','floors','sqft_above','sqft_basement']\n",
    "\n",
    "# Membuat numeric transformer pipeline\n",
    "num_transformer = Pipeline(\n",
    "    steps=[\n",
    "        ('winsorizer Gaussian', Winsorizer(capping_method='gaussian', tail='both', fold=3, variables=['bedrooms', 'floors'])),\n",
    "        ('winsorizer iqr', Winsorizer(capping_method='iqr', tail='both', fold=3, variables=['sqft_living', 'sqft_above', 'sqft_basement'])), \n",
    "        ('scaler', StandardScaler())\n",
    "    ]\n",
    ")\n",
    "\n",
    "# Define categorical features\n",
    "cat_features = ['view','condition','area']\n",
    "\n",
    "# Ordinal transformer pipeline\n",
    "cat_transformer = Pipeline([\n",
    "        ('passthrough', None)\n",
    "    ]\n",
    ")"
   ]
  },
  {
   "cell_type": "markdown",
   "metadata": {},
   "source": [
    "##### **B.Menyatukan semua transformer menjadi column transformer dan dimasukan ke variabel bernama preprocessor**"
   ]
  },
  {
   "cell_type": "code",
   "execution_count": 49,
   "metadata": {},
   "outputs": [
    {
     "data": {
      "text/html": [
       "<style>#sk-container-id-1 {color: black;}#sk-container-id-1 pre{padding: 0;}#sk-container-id-1 div.sk-toggleable {background-color: white;}#sk-container-id-1 label.sk-toggleable__label {cursor: pointer;display: block;width: 100%;margin-bottom: 0;padding: 0.3em;box-sizing: border-box;text-align: center;}#sk-container-id-1 label.sk-toggleable__label-arrow:before {content: \"▸\";float: left;margin-right: 0.25em;color: #696969;}#sk-container-id-1 label.sk-toggleable__label-arrow:hover:before {color: black;}#sk-container-id-1 div.sk-estimator:hover label.sk-toggleable__label-arrow:before {color: black;}#sk-container-id-1 div.sk-toggleable__content {max-height: 0;max-width: 0;overflow: hidden;text-align: left;background-color: #f0f8ff;}#sk-container-id-1 div.sk-toggleable__content pre {margin: 0.2em;color: black;border-radius: 0.25em;background-color: #f0f8ff;}#sk-container-id-1 input.sk-toggleable__control:checked~div.sk-toggleable__content {max-height: 200px;max-width: 100%;overflow: auto;}#sk-container-id-1 input.sk-toggleable__control:checked~label.sk-toggleable__label-arrow:before {content: \"▾\";}#sk-container-id-1 div.sk-estimator input.sk-toggleable__control:checked~label.sk-toggleable__label {background-color: #d4ebff;}#sk-container-id-1 div.sk-label input.sk-toggleable__control:checked~label.sk-toggleable__label {background-color: #d4ebff;}#sk-container-id-1 input.sk-hidden--visually {border: 0;clip: rect(1px 1px 1px 1px);clip: rect(1px, 1px, 1px, 1px);height: 1px;margin: -1px;overflow: hidden;padding: 0;position: absolute;width: 1px;}#sk-container-id-1 div.sk-estimator {font-family: monospace;background-color: #f0f8ff;border: 1px dotted black;border-radius: 0.25em;box-sizing: border-box;margin-bottom: 0.5em;}#sk-container-id-1 div.sk-estimator:hover {background-color: #d4ebff;}#sk-container-id-1 div.sk-parallel-item::after {content: \"\";width: 100%;border-bottom: 1px solid gray;flex-grow: 1;}#sk-container-id-1 div.sk-label:hover label.sk-toggleable__label {background-color: #d4ebff;}#sk-container-id-1 div.sk-serial::before {content: \"\";position: absolute;border-left: 1px solid gray;box-sizing: border-box;top: 0;bottom: 0;left: 50%;z-index: 0;}#sk-container-id-1 div.sk-serial {display: flex;flex-direction: column;align-items: center;background-color: white;padding-right: 0.2em;padding-left: 0.2em;position: relative;}#sk-container-id-1 div.sk-item {position: relative;z-index: 1;}#sk-container-id-1 div.sk-parallel {display: flex;align-items: stretch;justify-content: center;background-color: white;position: relative;}#sk-container-id-1 div.sk-item::before, #sk-container-id-1 div.sk-parallel-item::before {content: \"\";position: absolute;border-left: 1px solid gray;box-sizing: border-box;top: 0;bottom: 0;left: 50%;z-index: -1;}#sk-container-id-1 div.sk-parallel-item {display: flex;flex-direction: column;z-index: 1;position: relative;background-color: white;}#sk-container-id-1 div.sk-parallel-item:first-child::after {align-self: flex-end;width: 50%;}#sk-container-id-1 div.sk-parallel-item:last-child::after {align-self: flex-start;width: 50%;}#sk-container-id-1 div.sk-parallel-item:only-child::after {width: 0;}#sk-container-id-1 div.sk-dashed-wrapped {border: 1px dashed gray;margin: 0 0.4em 0.5em 0.4em;box-sizing: border-box;padding-bottom: 0.4em;background-color: white;}#sk-container-id-1 div.sk-label label {font-family: monospace;font-weight: bold;display: inline-block;line-height: 1.2em;}#sk-container-id-1 div.sk-label-container {text-align: center;}#sk-container-id-1 div.sk-container {/* jupyter's `normalize.less` sets `[hidden] { display: none; }` but bootstrap.min.css set `[hidden] { display: none !important; }` so we also need the `!important` here to be able to override the default hidden behavior on the sphinx rendered scikit-learn.org. See: https://github.com/scikit-learn/scikit-learn/issues/21755 */display: inline-block !important;position: relative;}#sk-container-id-1 div.sk-text-repr-fallback {display: none;}</style><div id=\"sk-container-id-1\" class=\"sk-top-container\"><div class=\"sk-text-repr-fallback\"><pre>ColumnTransformer(transformers=[(&#x27;Numerical&#x27;,\n",
       "                                 Pipeline(steps=[(&#x27;winsorizer Gaussian&#x27;,\n",
       "                                                  Winsorizer(tail=&#x27;both&#x27;,\n",
       "                                                             variables=[&#x27;bedrooms&#x27;,\n",
       "                                                                        &#x27;floors&#x27;])),\n",
       "                                                 (&#x27;winsorizer iqr&#x27;,\n",
       "                                                  Winsorizer(capping_method=&#x27;iqr&#x27;,\n",
       "                                                             tail=&#x27;both&#x27;,\n",
       "                                                             variables=[&#x27;sqft_living&#x27;,\n",
       "                                                                        &#x27;sqft_above&#x27;,\n",
       "                                                                        &#x27;sqft_basement&#x27;])),\n",
       "                                                 (&#x27;scaler&#x27;, StandardScaler())]),\n",
       "                                 [&#x27;bedrooms&#x27;, &#x27;bathrooms&#x27;, &#x27;sqft_living&#x27;,\n",
       "                                  &#x27;floors&#x27;, &#x27;sqft_above&#x27;, &#x27;sqft_basement&#x27;]),\n",
       "                                (&#x27;Categorical&#x27;, &#x27;passthrough&#x27;,\n",
       "                                 [&#x27;view&#x27;, &#x27;condition&#x27;, &#x27;area&#x27;])])</pre><b>In a Jupyter environment, please rerun this cell to show the HTML representation or trust the notebook. <br />On GitHub, the HTML representation is unable to render, please try loading this page with nbviewer.org.</b></div><div class=\"sk-container\" hidden><div class=\"sk-item sk-dashed-wrapped\"><div class=\"sk-label-container\"><div class=\"sk-label sk-toggleable\"><input class=\"sk-toggleable__control sk-hidden--visually\" id=\"sk-estimator-id-1\" type=\"checkbox\" ><label for=\"sk-estimator-id-1\" class=\"sk-toggleable__label sk-toggleable__label-arrow\">ColumnTransformer</label><div class=\"sk-toggleable__content\"><pre>ColumnTransformer(transformers=[(&#x27;Numerical&#x27;,\n",
       "                                 Pipeline(steps=[(&#x27;winsorizer Gaussian&#x27;,\n",
       "                                                  Winsorizer(tail=&#x27;both&#x27;,\n",
       "                                                             variables=[&#x27;bedrooms&#x27;,\n",
       "                                                                        &#x27;floors&#x27;])),\n",
       "                                                 (&#x27;winsorizer iqr&#x27;,\n",
       "                                                  Winsorizer(capping_method=&#x27;iqr&#x27;,\n",
       "                                                             tail=&#x27;both&#x27;,\n",
       "                                                             variables=[&#x27;sqft_living&#x27;,\n",
       "                                                                        &#x27;sqft_above&#x27;,\n",
       "                                                                        &#x27;sqft_basement&#x27;])),\n",
       "                                                 (&#x27;scaler&#x27;, StandardScaler())]),\n",
       "                                 [&#x27;bedrooms&#x27;, &#x27;bathrooms&#x27;, &#x27;sqft_living&#x27;,\n",
       "                                  &#x27;floors&#x27;, &#x27;sqft_above&#x27;, &#x27;sqft_basement&#x27;]),\n",
       "                                (&#x27;Categorical&#x27;, &#x27;passthrough&#x27;,\n",
       "                                 [&#x27;view&#x27;, &#x27;condition&#x27;, &#x27;area&#x27;])])</pre></div></div></div><div class=\"sk-parallel\"><div class=\"sk-parallel-item\"><div class=\"sk-item\"><div class=\"sk-label-container\"><div class=\"sk-label sk-toggleable\"><input class=\"sk-toggleable__control sk-hidden--visually\" id=\"sk-estimator-id-2\" type=\"checkbox\" ><label for=\"sk-estimator-id-2\" class=\"sk-toggleable__label sk-toggleable__label-arrow\">Numerical</label><div class=\"sk-toggleable__content\"><pre>[&#x27;bedrooms&#x27;, &#x27;bathrooms&#x27;, &#x27;sqft_living&#x27;, &#x27;floors&#x27;, &#x27;sqft_above&#x27;, &#x27;sqft_basement&#x27;]</pre></div></div></div><div class=\"sk-serial\"><div class=\"sk-item\"><div class=\"sk-serial\"><div class=\"sk-item\"><div class=\"sk-estimator sk-toggleable\"><input class=\"sk-toggleable__control sk-hidden--visually\" id=\"sk-estimator-id-3\" type=\"checkbox\" ><label for=\"sk-estimator-id-3\" class=\"sk-toggleable__label sk-toggleable__label-arrow\">Winsorizer</label><div class=\"sk-toggleable__content\"><pre>Winsorizer(tail=&#x27;both&#x27;, variables=[&#x27;bedrooms&#x27;, &#x27;floors&#x27;])</pre></div></div></div><div class=\"sk-item\"><div class=\"sk-estimator sk-toggleable\"><input class=\"sk-toggleable__control sk-hidden--visually\" id=\"sk-estimator-id-4\" type=\"checkbox\" ><label for=\"sk-estimator-id-4\" class=\"sk-toggleable__label sk-toggleable__label-arrow\">Winsorizer</label><div class=\"sk-toggleable__content\"><pre>Winsorizer(capping_method=&#x27;iqr&#x27;, tail=&#x27;both&#x27;,\n",
       "           variables=[&#x27;sqft_living&#x27;, &#x27;sqft_above&#x27;, &#x27;sqft_basement&#x27;])</pre></div></div></div><div class=\"sk-item\"><div class=\"sk-estimator sk-toggleable\"><input class=\"sk-toggleable__control sk-hidden--visually\" id=\"sk-estimator-id-5\" type=\"checkbox\" ><label for=\"sk-estimator-id-5\" class=\"sk-toggleable__label sk-toggleable__label-arrow\">StandardScaler</label><div class=\"sk-toggleable__content\"><pre>StandardScaler()</pre></div></div></div></div></div></div></div></div><div class=\"sk-parallel-item\"><div class=\"sk-item\"><div class=\"sk-label-container\"><div class=\"sk-label sk-toggleable\"><input class=\"sk-toggleable__control sk-hidden--visually\" id=\"sk-estimator-id-6\" type=\"checkbox\" ><label for=\"sk-estimator-id-6\" class=\"sk-toggleable__label sk-toggleable__label-arrow\">Categorical</label><div class=\"sk-toggleable__content\"><pre>[&#x27;view&#x27;, &#x27;condition&#x27;, &#x27;area&#x27;]</pre></div></div></div><div class=\"sk-serial\"><div class=\"sk-item\"><div class=\"sk-estimator sk-toggleable\"><input class=\"sk-toggleable__control sk-hidden--visually\" id=\"sk-estimator-id-7\" type=\"checkbox\" ><label for=\"sk-estimator-id-7\" class=\"sk-toggleable__label sk-toggleable__label-arrow\">passthrough</label><div class=\"sk-toggleable__content\"><pre>passthrough</pre></div></div></div></div></div></div></div></div></div></div>"
      ],
      "text/plain": [
       "ColumnTransformer(transformers=[('Numerical',\n",
       "                                 Pipeline(steps=[('winsorizer Gaussian',\n",
       "                                                  Winsorizer(tail='both',\n",
       "                                                             variables=['bedrooms',\n",
       "                                                                        'floors'])),\n",
       "                                                 ('winsorizer iqr',\n",
       "                                                  Winsorizer(capping_method='iqr',\n",
       "                                                             tail='both',\n",
       "                                                             variables=['sqft_living',\n",
       "                                                                        'sqft_above',\n",
       "                                                                        'sqft_basement'])),\n",
       "                                                 ('scaler', StandardScaler())]),\n",
       "                                 ['bedrooms', 'bathrooms', 'sqft_living',\n",
       "                                  'floors', 'sqft_above', 'sqft_basement']),\n",
       "                                ('Categorical', 'passthrough',\n",
       "                                 ['view', 'condition', 'area'])])"
      ]
     },
     "execution_count": 49,
     "metadata": {},
     "output_type": "execute_result"
    }
   ],
   "source": [
    "# Column Transformer untuk preprocessing\n",
    "preprocessor = ColumnTransformer([\n",
    "        ('Numerical', num_transformer, num_features),\n",
    "        ('Categorical', 'passthrough', cat_features)\n",
    "    ])\n",
    "\n",
    "preprocessor"
   ]
  },
  {
   "cell_type": "markdown",
   "metadata": {},
   "source": [
    "*Kesimpulan:*\n",
    "- Berhasil membuat Pipeline column Transformer untuk preprocessing.\n",
    "- Proses yang dilakukan adalah:\n",
    "    - Untuk data numerical, menggunakan capping gaussian dan IQR. Lalu, saya melakukan scaling menggunakan StandardScaler\n",
    "    - Untuk data categorical, tidak ada proses encoding karena datanya sudah berbentuk angka."
   ]
  },
  {
   "cell_type": "markdown",
   "metadata": {},
   "source": [
    "# Vi.Model Definition"
   ]
  },
  {
   "cell_type": "markdown",
   "metadata": {},
   "source": [
    "> Bagian ini berisi cell untuk mendefinisikan model. Jelaskan alasan menggunakan suatu algoritma/model, hyperparameter yang dipakai, jenis penggunaan metrics yang dipakai, dan hal lain yang terkait dengan model."
   ]
  },
  {
   "cell_type": "markdown",
   "metadata": {},
   "source": [
    "*Saya akan menggunakan 6 model pada point ini, yaitu:*\n",
    "- KNN Regressor\n",
    "- SVR (Support Vector Reggresor)\n",
    "- DecisionTree Regressor\n",
    "- RandomForest Regressor\n",
    "- AdaBoost Regressor\n",
    "- Linear Regressor\n",
    "- SGD regressor"
   ]
  },
  {
   "cell_type": "markdown",
   "metadata": {},
   "source": [
    "### ***1.Membuat Pipeline Untuk Masing-masing Model***"
   ]
  },
  {
   "cell_type": "code",
   "execution_count": 50,
   "metadata": {},
   "outputs": [],
   "source": [
    "# Pipeline untuk KNN\n",
    "pipe_knn = Pipeline([\n",
    "    ('transormer', preprocessor),\n",
    "    ('regressor', KNeighborsRegressor())\n",
    "])\n",
    "\n",
    "# Pipeline untuk support vectore regressor\n",
    "pipe_svr = Pipeline([\n",
    "    ('transormer', preprocessor),\n",
    "    ('regressor', SVR() )\n",
    "])\n",
    "\n",
    "# Pipeline untuk decision tree regressor\n",
    "pipe_dtr = Pipeline([\n",
    "    ('transormer', preprocessor),\n",
    "    ('regressor', DecisionTreeRegressor())\n",
    "])\n",
    "\n",
    "# Pipeline untuk random forest regressor\n",
    "pipe_rfr = Pipeline([\n",
    "    ('transormer', preprocessor),\n",
    "    ('regressor', RandomForestRegressor())\n",
    "])\n",
    "\n",
    "# Pipeline untuk adaboost regressor\n",
    "pipe_abr = Pipeline([\n",
    "    ('transormer', preprocessor),\n",
    "    ('regressor', AdaBoostRegressor())\n",
    "])\n",
    "\n",
    "# Pipeline untuk linear regression\n",
    "pipe_linreg = Pipeline([\n",
    "    ('transormer', preprocessor),\n",
    "    ('regressor', LinearRegression())\n",
    "])\n",
    "\n",
    "# Pipeline untuk SGD Regressor\n",
    "pipe_sgd = Pipeline([\n",
    "    ('transormer', preprocessor),\n",
    "    ('regressor', SGDRegressor() )\n",
    "])"
   ]
  },
  {
   "cell_type": "code",
   "execution_count": 51,
   "metadata": {},
   "outputs": [
    {
     "data": {
      "text/html": [
       "<style>#sk-container-id-2 {color: black;}#sk-container-id-2 pre{padding: 0;}#sk-container-id-2 div.sk-toggleable {background-color: white;}#sk-container-id-2 label.sk-toggleable__label {cursor: pointer;display: block;width: 100%;margin-bottom: 0;padding: 0.3em;box-sizing: border-box;text-align: center;}#sk-container-id-2 label.sk-toggleable__label-arrow:before {content: \"▸\";float: left;margin-right: 0.25em;color: #696969;}#sk-container-id-2 label.sk-toggleable__label-arrow:hover:before {color: black;}#sk-container-id-2 div.sk-estimator:hover label.sk-toggleable__label-arrow:before {color: black;}#sk-container-id-2 div.sk-toggleable__content {max-height: 0;max-width: 0;overflow: hidden;text-align: left;background-color: #f0f8ff;}#sk-container-id-2 div.sk-toggleable__content pre {margin: 0.2em;color: black;border-radius: 0.25em;background-color: #f0f8ff;}#sk-container-id-2 input.sk-toggleable__control:checked~div.sk-toggleable__content {max-height: 200px;max-width: 100%;overflow: auto;}#sk-container-id-2 input.sk-toggleable__control:checked~label.sk-toggleable__label-arrow:before {content: \"▾\";}#sk-container-id-2 div.sk-estimator input.sk-toggleable__control:checked~label.sk-toggleable__label {background-color: #d4ebff;}#sk-container-id-2 div.sk-label input.sk-toggleable__control:checked~label.sk-toggleable__label {background-color: #d4ebff;}#sk-container-id-2 input.sk-hidden--visually {border: 0;clip: rect(1px 1px 1px 1px);clip: rect(1px, 1px, 1px, 1px);height: 1px;margin: -1px;overflow: hidden;padding: 0;position: absolute;width: 1px;}#sk-container-id-2 div.sk-estimator {font-family: monospace;background-color: #f0f8ff;border: 1px dotted black;border-radius: 0.25em;box-sizing: border-box;margin-bottom: 0.5em;}#sk-container-id-2 div.sk-estimator:hover {background-color: #d4ebff;}#sk-container-id-2 div.sk-parallel-item::after {content: \"\";width: 100%;border-bottom: 1px solid gray;flex-grow: 1;}#sk-container-id-2 div.sk-label:hover label.sk-toggleable__label {background-color: #d4ebff;}#sk-container-id-2 div.sk-serial::before {content: \"\";position: absolute;border-left: 1px solid gray;box-sizing: border-box;top: 0;bottom: 0;left: 50%;z-index: 0;}#sk-container-id-2 div.sk-serial {display: flex;flex-direction: column;align-items: center;background-color: white;padding-right: 0.2em;padding-left: 0.2em;position: relative;}#sk-container-id-2 div.sk-item {position: relative;z-index: 1;}#sk-container-id-2 div.sk-parallel {display: flex;align-items: stretch;justify-content: center;background-color: white;position: relative;}#sk-container-id-2 div.sk-item::before, #sk-container-id-2 div.sk-parallel-item::before {content: \"\";position: absolute;border-left: 1px solid gray;box-sizing: border-box;top: 0;bottom: 0;left: 50%;z-index: -1;}#sk-container-id-2 div.sk-parallel-item {display: flex;flex-direction: column;z-index: 1;position: relative;background-color: white;}#sk-container-id-2 div.sk-parallel-item:first-child::after {align-self: flex-end;width: 50%;}#sk-container-id-2 div.sk-parallel-item:last-child::after {align-self: flex-start;width: 50%;}#sk-container-id-2 div.sk-parallel-item:only-child::after {width: 0;}#sk-container-id-2 div.sk-dashed-wrapped {border: 1px dashed gray;margin: 0 0.4em 0.5em 0.4em;box-sizing: border-box;padding-bottom: 0.4em;background-color: white;}#sk-container-id-2 div.sk-label label {font-family: monospace;font-weight: bold;display: inline-block;line-height: 1.2em;}#sk-container-id-2 div.sk-label-container {text-align: center;}#sk-container-id-2 div.sk-container {/* jupyter's `normalize.less` sets `[hidden] { display: none; }` but bootstrap.min.css set `[hidden] { display: none !important; }` so we also need the `!important` here to be able to override the default hidden behavior on the sphinx rendered scikit-learn.org. See: https://github.com/scikit-learn/scikit-learn/issues/21755 */display: inline-block !important;position: relative;}#sk-container-id-2 div.sk-text-repr-fallback {display: none;}</style><div id=\"sk-container-id-2\" class=\"sk-top-container\"><div class=\"sk-text-repr-fallback\"><pre>Pipeline(steps=[(&#x27;transormer&#x27;,\n",
       "                 ColumnTransformer(transformers=[(&#x27;Numerical&#x27;,\n",
       "                                                  Pipeline(steps=[(&#x27;winsorizer &#x27;\n",
       "                                                                   &#x27;Gaussian&#x27;,\n",
       "                                                                   Winsorizer(tail=&#x27;both&#x27;,\n",
       "                                                                              variables=[&#x27;bedrooms&#x27;,\n",
       "                                                                                         &#x27;floors&#x27;])),\n",
       "                                                                  (&#x27;winsorizer &#x27;\n",
       "                                                                   &#x27;iqr&#x27;,\n",
       "                                                                   Winsorizer(capping_method=&#x27;iqr&#x27;,\n",
       "                                                                              tail=&#x27;both&#x27;,\n",
       "                                                                              variables=[&#x27;sqft_living&#x27;,\n",
       "                                                                                         &#x27;sqft_above&#x27;,\n",
       "                                                                                         &#x27;sqft_basement&#x27;])),\n",
       "                                                                  (&#x27;scaler&#x27;,\n",
       "                                                                   StandardScaler())]),\n",
       "                                                  [&#x27;bedrooms&#x27;, &#x27;bathrooms&#x27;,\n",
       "                                                   &#x27;sqft_living&#x27;, &#x27;floors&#x27;,\n",
       "                                                   &#x27;sqft_above&#x27;,\n",
       "                                                   &#x27;sqft_basement&#x27;]),\n",
       "                                                 (&#x27;Categorical&#x27;, &#x27;passthrough&#x27;,\n",
       "                                                  [&#x27;view&#x27;, &#x27;condition&#x27;,\n",
       "                                                   &#x27;area&#x27;])])),\n",
       "                (&#x27;regressor&#x27;, LinearRegression())])</pre><b>In a Jupyter environment, please rerun this cell to show the HTML representation or trust the notebook. <br />On GitHub, the HTML representation is unable to render, please try loading this page with nbviewer.org.</b></div><div class=\"sk-container\" hidden><div class=\"sk-item sk-dashed-wrapped\"><div class=\"sk-label-container\"><div class=\"sk-label sk-toggleable\"><input class=\"sk-toggleable__control sk-hidden--visually\" id=\"sk-estimator-id-8\" type=\"checkbox\" ><label for=\"sk-estimator-id-8\" class=\"sk-toggleable__label sk-toggleable__label-arrow\">Pipeline</label><div class=\"sk-toggleable__content\"><pre>Pipeline(steps=[(&#x27;transormer&#x27;,\n",
       "                 ColumnTransformer(transformers=[(&#x27;Numerical&#x27;,\n",
       "                                                  Pipeline(steps=[(&#x27;winsorizer &#x27;\n",
       "                                                                   &#x27;Gaussian&#x27;,\n",
       "                                                                   Winsorizer(tail=&#x27;both&#x27;,\n",
       "                                                                              variables=[&#x27;bedrooms&#x27;,\n",
       "                                                                                         &#x27;floors&#x27;])),\n",
       "                                                                  (&#x27;winsorizer &#x27;\n",
       "                                                                   &#x27;iqr&#x27;,\n",
       "                                                                   Winsorizer(capping_method=&#x27;iqr&#x27;,\n",
       "                                                                              tail=&#x27;both&#x27;,\n",
       "                                                                              variables=[&#x27;sqft_living&#x27;,\n",
       "                                                                                         &#x27;sqft_above&#x27;,\n",
       "                                                                                         &#x27;sqft_basement&#x27;])),\n",
       "                                                                  (&#x27;scaler&#x27;,\n",
       "                                                                   StandardScaler())]),\n",
       "                                                  [&#x27;bedrooms&#x27;, &#x27;bathrooms&#x27;,\n",
       "                                                   &#x27;sqft_living&#x27;, &#x27;floors&#x27;,\n",
       "                                                   &#x27;sqft_above&#x27;,\n",
       "                                                   &#x27;sqft_basement&#x27;]),\n",
       "                                                 (&#x27;Categorical&#x27;, &#x27;passthrough&#x27;,\n",
       "                                                  [&#x27;view&#x27;, &#x27;condition&#x27;,\n",
       "                                                   &#x27;area&#x27;])])),\n",
       "                (&#x27;regressor&#x27;, LinearRegression())])</pre></div></div></div><div class=\"sk-serial\"><div class=\"sk-item sk-dashed-wrapped\"><div class=\"sk-label-container\"><div class=\"sk-label sk-toggleable\"><input class=\"sk-toggleable__control sk-hidden--visually\" id=\"sk-estimator-id-9\" type=\"checkbox\" ><label for=\"sk-estimator-id-9\" class=\"sk-toggleable__label sk-toggleable__label-arrow\">transormer: ColumnTransformer</label><div class=\"sk-toggleable__content\"><pre>ColumnTransformer(transformers=[(&#x27;Numerical&#x27;,\n",
       "                                 Pipeline(steps=[(&#x27;winsorizer Gaussian&#x27;,\n",
       "                                                  Winsorizer(tail=&#x27;both&#x27;,\n",
       "                                                             variables=[&#x27;bedrooms&#x27;,\n",
       "                                                                        &#x27;floors&#x27;])),\n",
       "                                                 (&#x27;winsorizer iqr&#x27;,\n",
       "                                                  Winsorizer(capping_method=&#x27;iqr&#x27;,\n",
       "                                                             tail=&#x27;both&#x27;,\n",
       "                                                             variables=[&#x27;sqft_living&#x27;,\n",
       "                                                                        &#x27;sqft_above&#x27;,\n",
       "                                                                        &#x27;sqft_basement&#x27;])),\n",
       "                                                 (&#x27;scaler&#x27;, StandardScaler())]),\n",
       "                                 [&#x27;bedrooms&#x27;, &#x27;bathrooms&#x27;, &#x27;sqft_living&#x27;,\n",
       "                                  &#x27;floors&#x27;, &#x27;sqft_above&#x27;, &#x27;sqft_basement&#x27;]),\n",
       "                                (&#x27;Categorical&#x27;, &#x27;passthrough&#x27;,\n",
       "                                 [&#x27;view&#x27;, &#x27;condition&#x27;, &#x27;area&#x27;])])</pre></div></div></div><div class=\"sk-parallel\"><div class=\"sk-parallel-item\"><div class=\"sk-item\"><div class=\"sk-label-container\"><div class=\"sk-label sk-toggleable\"><input class=\"sk-toggleable__control sk-hidden--visually\" id=\"sk-estimator-id-10\" type=\"checkbox\" ><label for=\"sk-estimator-id-10\" class=\"sk-toggleable__label sk-toggleable__label-arrow\">Numerical</label><div class=\"sk-toggleable__content\"><pre>[&#x27;bedrooms&#x27;, &#x27;bathrooms&#x27;, &#x27;sqft_living&#x27;, &#x27;floors&#x27;, &#x27;sqft_above&#x27;, &#x27;sqft_basement&#x27;]</pre></div></div></div><div class=\"sk-serial\"><div class=\"sk-item\"><div class=\"sk-serial\"><div class=\"sk-item\"><div class=\"sk-estimator sk-toggleable\"><input class=\"sk-toggleable__control sk-hidden--visually\" id=\"sk-estimator-id-11\" type=\"checkbox\" ><label for=\"sk-estimator-id-11\" class=\"sk-toggleable__label sk-toggleable__label-arrow\">Winsorizer</label><div class=\"sk-toggleable__content\"><pre>Winsorizer(tail=&#x27;both&#x27;, variables=[&#x27;bedrooms&#x27;, &#x27;floors&#x27;])</pre></div></div></div><div class=\"sk-item\"><div class=\"sk-estimator sk-toggleable\"><input class=\"sk-toggleable__control sk-hidden--visually\" id=\"sk-estimator-id-12\" type=\"checkbox\" ><label for=\"sk-estimator-id-12\" class=\"sk-toggleable__label sk-toggleable__label-arrow\">Winsorizer</label><div class=\"sk-toggleable__content\"><pre>Winsorizer(capping_method=&#x27;iqr&#x27;, tail=&#x27;both&#x27;,\n",
       "           variables=[&#x27;sqft_living&#x27;, &#x27;sqft_above&#x27;, &#x27;sqft_basement&#x27;])</pre></div></div></div><div class=\"sk-item\"><div class=\"sk-estimator sk-toggleable\"><input class=\"sk-toggleable__control sk-hidden--visually\" id=\"sk-estimator-id-13\" type=\"checkbox\" ><label for=\"sk-estimator-id-13\" class=\"sk-toggleable__label sk-toggleable__label-arrow\">StandardScaler</label><div class=\"sk-toggleable__content\"><pre>StandardScaler()</pre></div></div></div></div></div></div></div></div><div class=\"sk-parallel-item\"><div class=\"sk-item\"><div class=\"sk-label-container\"><div class=\"sk-label sk-toggleable\"><input class=\"sk-toggleable__control sk-hidden--visually\" id=\"sk-estimator-id-14\" type=\"checkbox\" ><label for=\"sk-estimator-id-14\" class=\"sk-toggleable__label sk-toggleable__label-arrow\">Categorical</label><div class=\"sk-toggleable__content\"><pre>[&#x27;view&#x27;, &#x27;condition&#x27;, &#x27;area&#x27;]</pre></div></div></div><div class=\"sk-serial\"><div class=\"sk-item\"><div class=\"sk-estimator sk-toggleable\"><input class=\"sk-toggleable__control sk-hidden--visually\" id=\"sk-estimator-id-15\" type=\"checkbox\" ><label for=\"sk-estimator-id-15\" class=\"sk-toggleable__label sk-toggleable__label-arrow\">passthrough</label><div class=\"sk-toggleable__content\"><pre>passthrough</pre></div></div></div></div></div></div></div></div><div class=\"sk-item\"><div class=\"sk-estimator sk-toggleable\"><input class=\"sk-toggleable__control sk-hidden--visually\" id=\"sk-estimator-id-16\" type=\"checkbox\" ><label for=\"sk-estimator-id-16\" class=\"sk-toggleable__label sk-toggleable__label-arrow\">LinearRegression</label><div class=\"sk-toggleable__content\"><pre>LinearRegression()</pre></div></div></div></div></div></div></div>"
      ],
      "text/plain": [
       "Pipeline(steps=[('transormer',\n",
       "                 ColumnTransformer(transformers=[('Numerical',\n",
       "                                                  Pipeline(steps=[('winsorizer '\n",
       "                                                                   'Gaussian',\n",
       "                                                                   Winsorizer(tail='both',\n",
       "                                                                              variables=['bedrooms',\n",
       "                                                                                         'floors'])),\n",
       "                                                                  ('winsorizer '\n",
       "                                                                   'iqr',\n",
       "                                                                   Winsorizer(capping_method='iqr',\n",
       "                                                                              tail='both',\n",
       "                                                                              variables=['sqft_living',\n",
       "                                                                                         'sqft_above',\n",
       "                                                                                         'sqft_basement'])),\n",
       "                                                                  ('scaler',\n",
       "                                                                   StandardScaler())]),\n",
       "                                                  ['bedrooms', 'bathrooms',\n",
       "                                                   'sqft_living', 'floors',\n",
       "                                                   'sqft_above',\n",
       "                                                   'sqft_basement']),\n",
       "                                                 ('Categorical', 'passthrough',\n",
       "                                                  ['view', 'condition',\n",
       "                                                   'area'])])),\n",
       "                ('regressor', LinearRegression())])"
      ]
     },
     "execution_count": 51,
     "metadata": {},
     "output_type": "execute_result"
    }
   ],
   "source": [
    "# Melihat Pipeline linear reqression\n",
    "pipe_linreg"
   ]
  },
  {
   "cell_type": "code",
   "execution_count": 52,
   "metadata": {},
   "outputs": [
    {
     "data": {
      "text/html": [
       "<style>#sk-container-id-3 {color: black;}#sk-container-id-3 pre{padding: 0;}#sk-container-id-3 div.sk-toggleable {background-color: white;}#sk-container-id-3 label.sk-toggleable__label {cursor: pointer;display: block;width: 100%;margin-bottom: 0;padding: 0.3em;box-sizing: border-box;text-align: center;}#sk-container-id-3 label.sk-toggleable__label-arrow:before {content: \"▸\";float: left;margin-right: 0.25em;color: #696969;}#sk-container-id-3 label.sk-toggleable__label-arrow:hover:before {color: black;}#sk-container-id-3 div.sk-estimator:hover label.sk-toggleable__label-arrow:before {color: black;}#sk-container-id-3 div.sk-toggleable__content {max-height: 0;max-width: 0;overflow: hidden;text-align: left;background-color: #f0f8ff;}#sk-container-id-3 div.sk-toggleable__content pre {margin: 0.2em;color: black;border-radius: 0.25em;background-color: #f0f8ff;}#sk-container-id-3 input.sk-toggleable__control:checked~div.sk-toggleable__content {max-height: 200px;max-width: 100%;overflow: auto;}#sk-container-id-3 input.sk-toggleable__control:checked~label.sk-toggleable__label-arrow:before {content: \"▾\";}#sk-container-id-3 div.sk-estimator input.sk-toggleable__control:checked~label.sk-toggleable__label {background-color: #d4ebff;}#sk-container-id-3 div.sk-label input.sk-toggleable__control:checked~label.sk-toggleable__label {background-color: #d4ebff;}#sk-container-id-3 input.sk-hidden--visually {border: 0;clip: rect(1px 1px 1px 1px);clip: rect(1px, 1px, 1px, 1px);height: 1px;margin: -1px;overflow: hidden;padding: 0;position: absolute;width: 1px;}#sk-container-id-3 div.sk-estimator {font-family: monospace;background-color: #f0f8ff;border: 1px dotted black;border-radius: 0.25em;box-sizing: border-box;margin-bottom: 0.5em;}#sk-container-id-3 div.sk-estimator:hover {background-color: #d4ebff;}#sk-container-id-3 div.sk-parallel-item::after {content: \"\";width: 100%;border-bottom: 1px solid gray;flex-grow: 1;}#sk-container-id-3 div.sk-label:hover label.sk-toggleable__label {background-color: #d4ebff;}#sk-container-id-3 div.sk-serial::before {content: \"\";position: absolute;border-left: 1px solid gray;box-sizing: border-box;top: 0;bottom: 0;left: 50%;z-index: 0;}#sk-container-id-3 div.sk-serial {display: flex;flex-direction: column;align-items: center;background-color: white;padding-right: 0.2em;padding-left: 0.2em;position: relative;}#sk-container-id-3 div.sk-item {position: relative;z-index: 1;}#sk-container-id-3 div.sk-parallel {display: flex;align-items: stretch;justify-content: center;background-color: white;position: relative;}#sk-container-id-3 div.sk-item::before, #sk-container-id-3 div.sk-parallel-item::before {content: \"\";position: absolute;border-left: 1px solid gray;box-sizing: border-box;top: 0;bottom: 0;left: 50%;z-index: -1;}#sk-container-id-3 div.sk-parallel-item {display: flex;flex-direction: column;z-index: 1;position: relative;background-color: white;}#sk-container-id-3 div.sk-parallel-item:first-child::after {align-self: flex-end;width: 50%;}#sk-container-id-3 div.sk-parallel-item:last-child::after {align-self: flex-start;width: 50%;}#sk-container-id-3 div.sk-parallel-item:only-child::after {width: 0;}#sk-container-id-3 div.sk-dashed-wrapped {border: 1px dashed gray;margin: 0 0.4em 0.5em 0.4em;box-sizing: border-box;padding-bottom: 0.4em;background-color: white;}#sk-container-id-3 div.sk-label label {font-family: monospace;font-weight: bold;display: inline-block;line-height: 1.2em;}#sk-container-id-3 div.sk-label-container {text-align: center;}#sk-container-id-3 div.sk-container {/* jupyter's `normalize.less` sets `[hidden] { display: none; }` but bootstrap.min.css set `[hidden] { display: none !important; }` so we also need the `!important` here to be able to override the default hidden behavior on the sphinx rendered scikit-learn.org. See: https://github.com/scikit-learn/scikit-learn/issues/21755 */display: inline-block !important;position: relative;}#sk-container-id-3 div.sk-text-repr-fallback {display: none;}</style><div id=\"sk-container-id-3\" class=\"sk-top-container\"><div class=\"sk-text-repr-fallback\"><pre>Pipeline(steps=[(&#x27;transormer&#x27;,\n",
       "                 ColumnTransformer(transformers=[(&#x27;Numerical&#x27;,\n",
       "                                                  Pipeline(steps=[(&#x27;winsorizer &#x27;\n",
       "                                                                   &#x27;Gaussian&#x27;,\n",
       "                                                                   Winsorizer(tail=&#x27;both&#x27;,\n",
       "                                                                              variables=[&#x27;bedrooms&#x27;,\n",
       "                                                                                         &#x27;floors&#x27;])),\n",
       "                                                                  (&#x27;winsorizer &#x27;\n",
       "                                                                   &#x27;iqr&#x27;,\n",
       "                                                                   Winsorizer(capping_method=&#x27;iqr&#x27;,\n",
       "                                                                              tail=&#x27;both&#x27;,\n",
       "                                                                              variables=[&#x27;sqft_living&#x27;,\n",
       "                                                                                         &#x27;sqft_above&#x27;,\n",
       "                                                                                         &#x27;sqft_basement&#x27;])),\n",
       "                                                                  (&#x27;scaler&#x27;,\n",
       "                                                                   StandardScaler())]),\n",
       "                                                  [&#x27;bedrooms&#x27;, &#x27;bathrooms&#x27;,\n",
       "                                                   &#x27;sqft_living&#x27;, &#x27;floors&#x27;,\n",
       "                                                   &#x27;sqft_above&#x27;,\n",
       "                                                   &#x27;sqft_basement&#x27;]),\n",
       "                                                 (&#x27;Categorical&#x27;, &#x27;passthrough&#x27;,\n",
       "                                                  [&#x27;view&#x27;, &#x27;condition&#x27;,\n",
       "                                                   &#x27;area&#x27;])])),\n",
       "                (&#x27;regressor&#x27;, SGDRegressor())])</pre><b>In a Jupyter environment, please rerun this cell to show the HTML representation or trust the notebook. <br />On GitHub, the HTML representation is unable to render, please try loading this page with nbviewer.org.</b></div><div class=\"sk-container\" hidden><div class=\"sk-item sk-dashed-wrapped\"><div class=\"sk-label-container\"><div class=\"sk-label sk-toggleable\"><input class=\"sk-toggleable__control sk-hidden--visually\" id=\"sk-estimator-id-17\" type=\"checkbox\" ><label for=\"sk-estimator-id-17\" class=\"sk-toggleable__label sk-toggleable__label-arrow\">Pipeline</label><div class=\"sk-toggleable__content\"><pre>Pipeline(steps=[(&#x27;transormer&#x27;,\n",
       "                 ColumnTransformer(transformers=[(&#x27;Numerical&#x27;,\n",
       "                                                  Pipeline(steps=[(&#x27;winsorizer &#x27;\n",
       "                                                                   &#x27;Gaussian&#x27;,\n",
       "                                                                   Winsorizer(tail=&#x27;both&#x27;,\n",
       "                                                                              variables=[&#x27;bedrooms&#x27;,\n",
       "                                                                                         &#x27;floors&#x27;])),\n",
       "                                                                  (&#x27;winsorizer &#x27;\n",
       "                                                                   &#x27;iqr&#x27;,\n",
       "                                                                   Winsorizer(capping_method=&#x27;iqr&#x27;,\n",
       "                                                                              tail=&#x27;both&#x27;,\n",
       "                                                                              variables=[&#x27;sqft_living&#x27;,\n",
       "                                                                                         &#x27;sqft_above&#x27;,\n",
       "                                                                                         &#x27;sqft_basement&#x27;])),\n",
       "                                                                  (&#x27;scaler&#x27;,\n",
       "                                                                   StandardScaler())]),\n",
       "                                                  [&#x27;bedrooms&#x27;, &#x27;bathrooms&#x27;,\n",
       "                                                   &#x27;sqft_living&#x27;, &#x27;floors&#x27;,\n",
       "                                                   &#x27;sqft_above&#x27;,\n",
       "                                                   &#x27;sqft_basement&#x27;]),\n",
       "                                                 (&#x27;Categorical&#x27;, &#x27;passthrough&#x27;,\n",
       "                                                  [&#x27;view&#x27;, &#x27;condition&#x27;,\n",
       "                                                   &#x27;area&#x27;])])),\n",
       "                (&#x27;regressor&#x27;, SGDRegressor())])</pre></div></div></div><div class=\"sk-serial\"><div class=\"sk-item sk-dashed-wrapped\"><div class=\"sk-label-container\"><div class=\"sk-label sk-toggleable\"><input class=\"sk-toggleable__control sk-hidden--visually\" id=\"sk-estimator-id-18\" type=\"checkbox\" ><label for=\"sk-estimator-id-18\" class=\"sk-toggleable__label sk-toggleable__label-arrow\">transormer: ColumnTransformer</label><div class=\"sk-toggleable__content\"><pre>ColumnTransformer(transformers=[(&#x27;Numerical&#x27;,\n",
       "                                 Pipeline(steps=[(&#x27;winsorizer Gaussian&#x27;,\n",
       "                                                  Winsorizer(tail=&#x27;both&#x27;,\n",
       "                                                             variables=[&#x27;bedrooms&#x27;,\n",
       "                                                                        &#x27;floors&#x27;])),\n",
       "                                                 (&#x27;winsorizer iqr&#x27;,\n",
       "                                                  Winsorizer(capping_method=&#x27;iqr&#x27;,\n",
       "                                                             tail=&#x27;both&#x27;,\n",
       "                                                             variables=[&#x27;sqft_living&#x27;,\n",
       "                                                                        &#x27;sqft_above&#x27;,\n",
       "                                                                        &#x27;sqft_basement&#x27;])),\n",
       "                                                 (&#x27;scaler&#x27;, StandardScaler())]),\n",
       "                                 [&#x27;bedrooms&#x27;, &#x27;bathrooms&#x27;, &#x27;sqft_living&#x27;,\n",
       "                                  &#x27;floors&#x27;, &#x27;sqft_above&#x27;, &#x27;sqft_basement&#x27;]),\n",
       "                                (&#x27;Categorical&#x27;, &#x27;passthrough&#x27;,\n",
       "                                 [&#x27;view&#x27;, &#x27;condition&#x27;, &#x27;area&#x27;])])</pre></div></div></div><div class=\"sk-parallel\"><div class=\"sk-parallel-item\"><div class=\"sk-item\"><div class=\"sk-label-container\"><div class=\"sk-label sk-toggleable\"><input class=\"sk-toggleable__control sk-hidden--visually\" id=\"sk-estimator-id-19\" type=\"checkbox\" ><label for=\"sk-estimator-id-19\" class=\"sk-toggleable__label sk-toggleable__label-arrow\">Numerical</label><div class=\"sk-toggleable__content\"><pre>[&#x27;bedrooms&#x27;, &#x27;bathrooms&#x27;, &#x27;sqft_living&#x27;, &#x27;floors&#x27;, &#x27;sqft_above&#x27;, &#x27;sqft_basement&#x27;]</pre></div></div></div><div class=\"sk-serial\"><div class=\"sk-item\"><div class=\"sk-serial\"><div class=\"sk-item\"><div class=\"sk-estimator sk-toggleable\"><input class=\"sk-toggleable__control sk-hidden--visually\" id=\"sk-estimator-id-20\" type=\"checkbox\" ><label for=\"sk-estimator-id-20\" class=\"sk-toggleable__label sk-toggleable__label-arrow\">Winsorizer</label><div class=\"sk-toggleable__content\"><pre>Winsorizer(tail=&#x27;both&#x27;, variables=[&#x27;bedrooms&#x27;, &#x27;floors&#x27;])</pre></div></div></div><div class=\"sk-item\"><div class=\"sk-estimator sk-toggleable\"><input class=\"sk-toggleable__control sk-hidden--visually\" id=\"sk-estimator-id-21\" type=\"checkbox\" ><label for=\"sk-estimator-id-21\" class=\"sk-toggleable__label sk-toggleable__label-arrow\">Winsorizer</label><div class=\"sk-toggleable__content\"><pre>Winsorizer(capping_method=&#x27;iqr&#x27;, tail=&#x27;both&#x27;,\n",
       "           variables=[&#x27;sqft_living&#x27;, &#x27;sqft_above&#x27;, &#x27;sqft_basement&#x27;])</pre></div></div></div><div class=\"sk-item\"><div class=\"sk-estimator sk-toggleable\"><input class=\"sk-toggleable__control sk-hidden--visually\" id=\"sk-estimator-id-22\" type=\"checkbox\" ><label for=\"sk-estimator-id-22\" class=\"sk-toggleable__label sk-toggleable__label-arrow\">StandardScaler</label><div class=\"sk-toggleable__content\"><pre>StandardScaler()</pre></div></div></div></div></div></div></div></div><div class=\"sk-parallel-item\"><div class=\"sk-item\"><div class=\"sk-label-container\"><div class=\"sk-label sk-toggleable\"><input class=\"sk-toggleable__control sk-hidden--visually\" id=\"sk-estimator-id-23\" type=\"checkbox\" ><label for=\"sk-estimator-id-23\" class=\"sk-toggleable__label sk-toggleable__label-arrow\">Categorical</label><div class=\"sk-toggleable__content\"><pre>[&#x27;view&#x27;, &#x27;condition&#x27;, &#x27;area&#x27;]</pre></div></div></div><div class=\"sk-serial\"><div class=\"sk-item\"><div class=\"sk-estimator sk-toggleable\"><input class=\"sk-toggleable__control sk-hidden--visually\" id=\"sk-estimator-id-24\" type=\"checkbox\" ><label for=\"sk-estimator-id-24\" class=\"sk-toggleable__label sk-toggleable__label-arrow\">passthrough</label><div class=\"sk-toggleable__content\"><pre>passthrough</pre></div></div></div></div></div></div></div></div><div class=\"sk-item\"><div class=\"sk-estimator sk-toggleable\"><input class=\"sk-toggleable__control sk-hidden--visually\" id=\"sk-estimator-id-25\" type=\"checkbox\" ><label for=\"sk-estimator-id-25\" class=\"sk-toggleable__label sk-toggleable__label-arrow\">SGDRegressor</label><div class=\"sk-toggleable__content\"><pre>SGDRegressor()</pre></div></div></div></div></div></div></div>"
      ],
      "text/plain": [
       "Pipeline(steps=[('transormer',\n",
       "                 ColumnTransformer(transformers=[('Numerical',\n",
       "                                                  Pipeline(steps=[('winsorizer '\n",
       "                                                                   'Gaussian',\n",
       "                                                                   Winsorizer(tail='both',\n",
       "                                                                              variables=['bedrooms',\n",
       "                                                                                         'floors'])),\n",
       "                                                                  ('winsorizer '\n",
       "                                                                   'iqr',\n",
       "                                                                   Winsorizer(capping_method='iqr',\n",
       "                                                                              tail='both',\n",
       "                                                                              variables=['sqft_living',\n",
       "                                                                                         'sqft_above',\n",
       "                                                                                         'sqft_basement'])),\n",
       "                                                                  ('scaler',\n",
       "                                                                   StandardScaler())]),\n",
       "                                                  ['bedrooms', 'bathrooms',\n",
       "                                                   'sqft_living', 'floors',\n",
       "                                                   'sqft_above',\n",
       "                                                   'sqft_basement']),\n",
       "                                                 ('Categorical', 'passthrough',\n",
       "                                                  ['view', 'condition',\n",
       "                                                   'area'])])),\n",
       "                ('regressor', SGDRegressor())])"
      ]
     },
     "execution_count": 52,
     "metadata": {},
     "output_type": "execute_result"
    }
   ],
   "source": [
    "# Melihat Pipeline SGD regressor\n",
    "pipe_sgd"
   ]
  },
  {
   "cell_type": "markdown",
   "metadata": {},
   "source": [
    "### ***2.Base Model Evaluation***"
   ]
  },
  {
   "cell_type": "markdown",
   "metadata": {},
   "source": [
    "##### **A.KNN**"
   ]
  },
  {
   "cell_type": "code",
   "execution_count": 53,
   "metadata": {},
   "outputs": [
    {
     "name": "stdout",
     "output_type": "stream",
     "text": [
      "0.28551601535249627\n",
      "0.3884955966692657\n"
     ]
    }
   ],
   "source": [
    "pipe_knn.fit(X_train,y_train)\n",
    "\n",
    "print (pipe_knn.score(X_train,y_train))\n",
    "print(pipe_knn.score(X_test,y_test))"
   ]
  },
  {
   "cell_type": "markdown",
   "metadata": {},
   "source": [
    "##### **B.SVR**"
   ]
  },
  {
   "cell_type": "code",
   "execution_count": 54,
   "metadata": {},
   "outputs": [
    {
     "name": "stdout",
     "output_type": "stream",
     "text": [
      "-0.02589862271972798\n",
      "-0.08851814726045393\n"
     ]
    }
   ],
   "source": [
    "pipe_svr.fit(X_train,y_train)\n",
    "\n",
    "print (pipe_svr.score(X_train,y_train))\n",
    "print(pipe_svr.score(X_test,y_test))"
   ]
  },
  {
   "cell_type": "markdown",
   "metadata": {},
   "source": [
    "##### **C.DecisionTree**"
   ]
  },
  {
   "cell_type": "code",
   "execution_count": 55,
   "metadata": {},
   "outputs": [
    {
     "name": "stdout",
     "output_type": "stream",
     "text": [
      "0.6515254951629268\n",
      "0.2493330299144706\n"
     ]
    }
   ],
   "source": [
    "pipe_dtr.fit(X_train,y_train)\n",
    "\n",
    "print (pipe_dtr.score(X_train,y_train))\n",
    "print(pipe_dtr.score(X_test,y_test))"
   ]
  },
  {
   "cell_type": "markdown",
   "metadata": {},
   "source": [
    "##### **D.RandomForest**"
   ]
  },
  {
   "cell_type": "code",
   "execution_count": 56,
   "metadata": {},
   "outputs": [
    {
     "name": "stdout",
     "output_type": "stream",
     "text": [
      "0.6037269429353986\n",
      "0.5190675415775753\n"
     ]
    }
   ],
   "source": [
    "pipe_rfr.fit(X_train,y_train)\n",
    "\n",
    "print (pipe_rfr.score(X_train,y_train))\n",
    "print(pipe_rfr.score(X_test,y_test))"
   ]
  },
  {
   "cell_type": "markdown",
   "metadata": {},
   "source": [
    "##### **E.AdaBoost**"
   ]
  },
  {
   "cell_type": "code",
   "execution_count": 57,
   "metadata": {},
   "outputs": [
    {
     "name": "stdout",
     "output_type": "stream",
     "text": [
      "0.13770477630510458\n",
      "-0.4158517822765355\n"
     ]
    }
   ],
   "source": [
    "pipe_abr.fit(X_train,y_train)\n",
    "\n",
    "print (pipe_abr.score(X_train,y_train))\n",
    "print(pipe_abr.score(X_test,y_test))"
   ]
  },
  {
   "cell_type": "markdown",
   "metadata": {},
   "source": [
    "##### **F.LinearRegression**"
   ]
  },
  {
   "cell_type": "code",
   "execution_count": 58,
   "metadata": {},
   "outputs": [
    {
     "name": "stdout",
     "output_type": "stream",
     "text": [
      "0.21681588740644486\n",
      "0.4775084313233383\n"
     ]
    }
   ],
   "source": [
    "pipe_linreg.fit(X_train,y_train)\n",
    "\n",
    "print (pipe_linreg.score(X_train,y_train))\n",
    "print(pipe_linreg.score(X_test,y_test))"
   ]
  },
  {
   "cell_type": "markdown",
   "metadata": {},
   "source": [
    "##### **G.SGD**"
   ]
  },
  {
   "cell_type": "code",
   "execution_count": 59,
   "metadata": {},
   "outputs": [
    {
     "name": "stdout",
     "output_type": "stream",
     "text": [
      "0.20854524552224918\n",
      "0.48615045939985424\n"
     ]
    }
   ],
   "source": [
    "pipe_sgd.fit(X_train,y_train)\n",
    "\n",
    "y_train_sgd = pipe_sgd.predict(X_train)\n",
    "y_test_sgd = pipe_sgd.predict(X_test)\n",
    "\n",
    "print (pipe_sgd.score(X_train,y_train))\n",
    "print(pipe_sgd.score(X_test,y_test))\n"
   ]
  },
  {
   "cell_type": "markdown",
   "metadata": {},
   "source": [
    "### ***3.Menggunakan Cross Validation***"
   ]
  },
  {
   "cell_type": "markdown",
   "metadata": {},
   "source": [
    "Cross validation adalah metode evaluasi kinerja model yang digunakan untuk mengukur seberapa baik model tersebut akan bekerja pada data yang belum pernah dilihat sebelumnya.\n",
    "\n",
    "Tujuan utamanya adalah untuk mendapatkan estimasi yang lebih stabil dan dapat diandalkan tentang seberapa baik model dapat di generalisasi ke data baru."
   ]
  },
  {
   "cell_type": "markdown",
   "metadata": {},
   "source": [
    "##### **A.KNN**"
   ]
  },
  {
   "cell_type": "code",
   "execution_count": 62,
   "metadata": {},
   "outputs": [
    {
     "name": "stdout",
     "output_type": "stream",
     "text": [
      "----Cross Validation KNN ---- \n",
      "r2 Score - All - Cross Validation  :  [ 0.29816298  0.04568595  0.60961041  0.09036718 -1.17636778]\n",
      "r2 Score - Mean - Cross Validation :  -0.02650825312093428\n",
      "r2 Score - Std - Cross Validation  :  0.6084582433363115\n",
      "r2 Score - Range of Test-Set       :  -0.6349664964572458 - 0.5819499902153772\n"
     ]
    }
   ],
   "source": [
    "r2_train_cross_val_knn = cross_val_score(pipe_knn,\n",
    "                                        X_train,\n",
    "                                        y_train,\n",
    "                                        cv=5,\n",
    "                                        scoring=\"r2\")\n",
    "\n",
    "print('----Cross Validation KNN ---- ')\n",
    "print('r2 Score - All - Cross Validation  : ', r2_train_cross_val_knn)\n",
    "print('r2 Score - Mean - Cross Validation : ', r2_train_cross_val_knn.mean())\n",
    "print('r2 Score - Std - Cross Validation  : ', r2_train_cross_val_knn.std())\n",
    "print('r2 Score - Range of Test-Set       : ', (r2_train_cross_val_knn.mean()-r2_train_cross_val_knn.std()) , '-', (r2_train_cross_val_knn.mean()+r2_train_cross_val_knn.std()))"
   ]
  },
  {
   "cell_type": "markdown",
   "metadata": {},
   "source": [
    "##### **B.SVR**"
   ]
  },
  {
   "cell_type": "code",
   "execution_count": 63,
   "metadata": {},
   "outputs": [
    {
     "name": "stdout",
     "output_type": "stream",
     "text": [
      "----Cross Validation SVR ---- \n",
      "r2 Score - All - Cross Validation  :  [-0.07725362 -0.0103152  -0.06731918 -0.02491511 -0.05568261]\n",
      "r2 Score - Mean - Cross Validation :  -0.04709714190268275\n",
      "r2 Score - Std - Cross Validation  :  0.025444088713257967\n",
      "r2 Score - Range of Test-Set       :  -0.07254123061594071 - -0.021653053189424783\n"
     ]
    }
   ],
   "source": [
    "r2_train_cross_val_svr = cross_val_score(pipe_svr,\n",
    "                                        X_train,\n",
    "                                        y_train,\n",
    "                                        cv=5,\n",
    "                                        scoring=\"r2\")\n",
    "\n",
    "print('----Cross Validation SVR ---- ')\n",
    "print('r2 Score - All - Cross Validation  : ', r2_train_cross_val_svr)\n",
    "print('r2 Score - Mean - Cross Validation : ', r2_train_cross_val_svr.mean())\n",
    "print('r2 Score - Std - Cross Validation  : ', r2_train_cross_val_svr.std())\n",
    "print('r2 Score - Range of Test-Set       : ', (r2_train_cross_val_svr.mean()-r2_train_cross_val_svr.std()) , '-', (r2_train_cross_val_svr.mean()+r2_train_cross_val_svr.std()))"
   ]
  },
  {
   "cell_type": "markdown",
   "metadata": {},
   "source": [
    "##### **C.DecisionTree**"
   ]
  },
  {
   "cell_type": "code",
   "execution_count": 64,
   "metadata": {},
   "outputs": [
    {
     "name": "stdout",
     "output_type": "stream",
     "text": [
      "----Cross Validation Decission Tree ---- \n",
      "r2 Score - All - Cross Validation  :  [-0.76649436 -0.0260004   0.4075184  -1.34927002 -1.92110315]\n",
      "r2 Score - Mean - Cross Validation :  -0.7310699053048696\n",
      "r2 Score - Std - Cross Validation  :  0.8477159569774861\n",
      "r2 Score - Range of Test-Set       :  -1.5787858622823556 - 0.11664605167261655\n"
     ]
    }
   ],
   "source": [
    "r2_train_cross_val_dtr = cross_val_score(pipe_dtr,\n",
    "                                        X_train,\n",
    "                                        y_train,\n",
    "                                        cv=5,\n",
    "                                        scoring=\"r2\")\n",
    "\n",
    "print('----Cross Validation Decission Tree ---- ')\n",
    "print('r2 Score - All - Cross Validation  : ', r2_train_cross_val_dtr)\n",
    "print('r2 Score - Mean - Cross Validation : ', r2_train_cross_val_dtr.mean())\n",
    "print('r2 Score - Std - Cross Validation  : ', r2_train_cross_val_dtr.std())\n",
    "print('r2 Score - Range of Test-Set       : ', (r2_train_cross_val_dtr.mean()-r2_train_cross_val_dtr.std()) , '-', (r2_train_cross_val_dtr.mean()+r2_train_cross_val_dtr.std()))"
   ]
  },
  {
   "cell_type": "markdown",
   "metadata": {},
   "source": [
    "##### **D.RandomForest**"
   ]
  },
  {
   "cell_type": "code",
   "execution_count": 65,
   "metadata": {},
   "outputs": [
    {
     "name": "stdout",
     "output_type": "stream",
     "text": [
      "----Cross Validation Random Forest Regressor ---- \n",
      "r2 Score - All - Cross Validation  :  [ 0.51587948  0.02875864  0.50958685 -0.39005539 -0.59955624]\n",
      "r2 Score - Mean - Cross Validation :  0.012922668466502163\n",
      "r2 Score - Std - Cross Validation  :  0.4555026604327253\n",
      "r2 Score - Range of Test-Set       :  -0.44257999196622316 - 0.46842532889922744\n"
     ]
    }
   ],
   "source": [
    "r2_train_cross_val_rfr = cross_val_score(pipe_rfr,\n",
    "                                        X_train,\n",
    "                                        y_train,\n",
    "                                        cv=5,\n",
    "                                        scoring=\"r2\")\n",
    "\n",
    "print('----Cross Validation Random Forest Regressor ---- ')\n",
    "print('r2 Score - All - Cross Validation  : ', r2_train_cross_val_rfr)\n",
    "print('r2 Score - Mean - Cross Validation : ', r2_train_cross_val_rfr.mean())\n",
    "print('r2 Score - Std - Cross Validation  : ', r2_train_cross_val_rfr.std())\n",
    "print('r2 Score - Range of Test-Set       : ', (r2_train_cross_val_rfr.mean()-r2_train_cross_val_rfr.std()) , '-', (r2_train_cross_val_rfr.mean()+r2_train_cross_val_rfr.std()))"
   ]
  },
  {
   "cell_type": "markdown",
   "metadata": {},
   "source": [
    "##### **E.AdaBoost**"
   ]
  },
  {
   "cell_type": "code",
   "execution_count": 66,
   "metadata": {},
   "outputs": [
    {
     "name": "stdout",
     "output_type": "stream",
     "text": [
      "----Cross Validation Ada Boost Regressor ---- \n",
      "r2 Score - All - Cross Validation  :  [ 0.32398721  0.03828318 -0.8153621  -1.09317002 -4.72392449]\n",
      "r2 Score - Mean - Cross Validation :  -1.2540372425751654\n",
      "r2 Score - Std - Cross Validation  :  1.812108435355761\n",
      "r2 Score - Range of Test-Set       :  -3.066145677930926 - 0.5580711927805957\n"
     ]
    }
   ],
   "source": [
    "r2_train_cross_val_abr = cross_val_score(pipe_abr,\n",
    "                                        X_train,\n",
    "                                        y_train,\n",
    "                                        cv=5,\n",
    "                                        scoring=\"r2\")\n",
    "\n",
    "print('----Cross Validation Ada Boost Regressor ---- ')\n",
    "print('r2 Score - All - Cross Validation  : ', r2_train_cross_val_abr)\n",
    "print('r2 Score - Mean - Cross Validation : ', r2_train_cross_val_abr.mean())\n",
    "print('r2 Score - Std - Cross Validation  : ', r2_train_cross_val_abr.std())\n",
    "print('r2 Score - Range of Test-Set       : ', (r2_train_cross_val_abr.mean()-r2_train_cross_val_abr.std()) , '-', (r2_train_cross_val_abr.mean()+r2_train_cross_val_abr.std()))"
   ]
  },
  {
   "cell_type": "markdown",
   "metadata": {},
   "source": [
    "##### **F.LinearRegressor**"
   ]
  },
  {
   "cell_type": "code",
   "execution_count": 67,
   "metadata": {},
   "outputs": [
    {
     "name": "stdout",
     "output_type": "stream",
     "text": [
      "----Cross Validation Linear Regression ---- \n",
      "r2 Score - All - Cross Validation  :  [0.60003973 0.06098728 0.58421499 0.20870677 0.53656879]\n",
      "r2 Score - Mean - Cross Validation :  0.3981035121427746\n",
      "r2 Score - Std - Cross Validation  :  0.22095557689779521\n",
      "r2 Score - Range of Test-Set       :  0.1771479352449794 - 0.6190590890405698\n"
     ]
    }
   ],
   "source": [
    "r2_train_cross_val_linreg = cross_val_score(pipe_linreg,\n",
    "                                        X_train,\n",
    "                                        y_train,\n",
    "                                        cv=5,\n",
    "                                        scoring=\"r2\")\n",
    "\n",
    "print('----Cross Validation Linear Regression ---- ')\n",
    "print('r2 Score - All - Cross Validation  : ', r2_train_cross_val_linreg)\n",
    "print('r2 Score - Mean - Cross Validation : ', r2_train_cross_val_linreg.mean())\n",
    "print('r2 Score - Std - Cross Validation  : ', r2_train_cross_val_linreg.std())\n",
    "print('r2 Score - Range of Test-Set       : ', (r2_train_cross_val_linreg.mean()-r2_train_cross_val_linreg.std()) , '-', (r2_train_cross_val_linreg.mean()+r2_train_cross_val_linreg.std()))"
   ]
  },
  {
   "cell_type": "markdown",
   "metadata": {},
   "source": [
    "##### **G.SGD**"
   ]
  },
  {
   "cell_type": "code",
   "execution_count": 68,
   "metadata": {},
   "outputs": [
    {
     "name": "stdout",
     "output_type": "stream",
     "text": [
      "----Cross Validation SGD Regressor ---- \n",
      "r2 Score - All - Cross Validation  :  [0.50681012 0.0567124  0.63905513 0.19663075 0.54037121]\n",
      "r2 Score - Mean - Cross Validation :  0.3879159224700044\n",
      "r2 Score - Std - Cross Validation  :  0.2221419080380588\n",
      "r2 Score - Range of Test-Set       :  0.1657740144319456 - 0.6100578305080632\n"
     ]
    }
   ],
   "source": [
    "r2_train_cross_val_sgd = cross_val_score(pipe_sgd,\n",
    "                                        X_train,\n",
    "                                        y_train,\n",
    "                                        cv=5,\n",
    "                                        scoring=\"r2\")\n",
    "\n",
    "print('----Cross Validation SGD Regressor ---- ')\n",
    "print('r2 Score - All - Cross Validation  : ', r2_train_cross_val_sgd)\n",
    "print('r2 Score - Mean - Cross Validation : ', r2_train_cross_val_sgd.mean())\n",
    "print('r2 Score - Std - Cross Validation  : ', r2_train_cross_val_sgd.std())\n",
    "print('r2 Score - Range of Test-Set       : ', (r2_train_cross_val_sgd.mean()-r2_train_cross_val_sgd.std()) , '-', (r2_train_cross_val_sgd.mean()+r2_train_cross_val_sgd.std()))"
   ]
  },
  {
   "cell_type": "markdown",
   "metadata": {},
   "source": [
    "*Kesimpulan:*\n",
    "\n",
    "Setelah dilihat dari R2 score dan standard deviasinya, saya memutuskan model paling baik yang tersedia untuk digunakan dalam model adalah menggunakan SGDRegressor. SGDRegressor memiliki rata-rata R2 Score sebesar 38% dari 5 jenis pembagian data."
   ]
  },
  {
   "cell_type": "markdown",
   "metadata": {},
   "source": [
    "# Vii.Model Training"
   ]
  },
  {
   "cell_type": "markdown",
   "metadata": {},
   "source": [
    "> Cell pada bagian ini hanya berisi code untuk melatih model dan output yang dihasilkan. Lakukan beberapa kali proses training dengan hyperparameter yang berbeda untuk melihat hasil yang didapatkan. Analisis dan narasikan hasil ini pada bagian Model Evaluation."
   ]
  },
  {
   "cell_type": "markdown",
   "metadata": {},
   "source": [
    "### ***1.Hyperparameter Tunning***"
   ]
  },
  {
   "cell_type": "markdown",
   "metadata": {},
   "source": [
    "*Hyperparameter tunning adalah  proses mencari kombinasi hyperparameter yang optimal untuk model machine learning guna meningkatkan performa model pada data uji atau data yang belum pernah dilihat sebelumnya.*\n",
    "\n",
    "- *Menggunakan GridSearchCV untuk melakukan Hyperparameter Tunning.*\n",
    "- *Untuk parameter yang akan dilakukan tunning meliputi:*\n",
    "    - *alpha*\n",
    "    - *Learning Rate*\n",
    "    - *Max_iter*"
   ]
  },
  {
   "cell_type": "code",
   "execution_count": 71,
   "metadata": {},
   "outputs": [],
   "source": [
    "# Memasukan parameter apa saja yang akan dilakukan tunning\n",
    "parameter_sgd = {\n",
    "    'regressor__alpha': [0.0001, 0.001, 0.01, 0.1],  # Parameter regularisasi\n",
    "    'regressor__learning_rate': ['constant', 'optimal', 'invscaling', 'adaptive'],  # Metode pembelajaran\n",
    "    'regressor__max_iter': [1000, 2000, 3000]  # Jumlah iterasi maksimum\n",
    "}\n",
    "\n",
    "# Mencari parameter terbaik dari Linear regressor, dan memasukan parameter yang sudah dibuat sebelumnya\n",
    "model_sgd = GridSearchCV(pipe_sgd, parameter_sgd, cv=3, verbose=1)"
   ]
  },
  {
   "cell_type": "code",
   "execution_count": 72,
   "metadata": {},
   "outputs": [
    {
     "name": "stdout",
     "output_type": "stream",
     "text": [
      "Fitting 3 folds for each of 48 candidates, totalling 144 fits\n"
     ]
    },
    {
     "data": {
      "text/html": [
       "<style>#sk-container-id-4 {color: black;}#sk-container-id-4 pre{padding: 0;}#sk-container-id-4 div.sk-toggleable {background-color: white;}#sk-container-id-4 label.sk-toggleable__label {cursor: pointer;display: block;width: 100%;margin-bottom: 0;padding: 0.3em;box-sizing: border-box;text-align: center;}#sk-container-id-4 label.sk-toggleable__label-arrow:before {content: \"▸\";float: left;margin-right: 0.25em;color: #696969;}#sk-container-id-4 label.sk-toggleable__label-arrow:hover:before {color: black;}#sk-container-id-4 div.sk-estimator:hover label.sk-toggleable__label-arrow:before {color: black;}#sk-container-id-4 div.sk-toggleable__content {max-height: 0;max-width: 0;overflow: hidden;text-align: left;background-color: #f0f8ff;}#sk-container-id-4 div.sk-toggleable__content pre {margin: 0.2em;color: black;border-radius: 0.25em;background-color: #f0f8ff;}#sk-container-id-4 input.sk-toggleable__control:checked~div.sk-toggleable__content {max-height: 200px;max-width: 100%;overflow: auto;}#sk-container-id-4 input.sk-toggleable__control:checked~label.sk-toggleable__label-arrow:before {content: \"▾\";}#sk-container-id-4 div.sk-estimator input.sk-toggleable__control:checked~label.sk-toggleable__label {background-color: #d4ebff;}#sk-container-id-4 div.sk-label input.sk-toggleable__control:checked~label.sk-toggleable__label {background-color: #d4ebff;}#sk-container-id-4 input.sk-hidden--visually {border: 0;clip: rect(1px 1px 1px 1px);clip: rect(1px, 1px, 1px, 1px);height: 1px;margin: -1px;overflow: hidden;padding: 0;position: absolute;width: 1px;}#sk-container-id-4 div.sk-estimator {font-family: monospace;background-color: #f0f8ff;border: 1px dotted black;border-radius: 0.25em;box-sizing: border-box;margin-bottom: 0.5em;}#sk-container-id-4 div.sk-estimator:hover {background-color: #d4ebff;}#sk-container-id-4 div.sk-parallel-item::after {content: \"\";width: 100%;border-bottom: 1px solid gray;flex-grow: 1;}#sk-container-id-4 div.sk-label:hover label.sk-toggleable__label {background-color: #d4ebff;}#sk-container-id-4 div.sk-serial::before {content: \"\";position: absolute;border-left: 1px solid gray;box-sizing: border-box;top: 0;bottom: 0;left: 50%;z-index: 0;}#sk-container-id-4 div.sk-serial {display: flex;flex-direction: column;align-items: center;background-color: white;padding-right: 0.2em;padding-left: 0.2em;position: relative;}#sk-container-id-4 div.sk-item {position: relative;z-index: 1;}#sk-container-id-4 div.sk-parallel {display: flex;align-items: stretch;justify-content: center;background-color: white;position: relative;}#sk-container-id-4 div.sk-item::before, #sk-container-id-4 div.sk-parallel-item::before {content: \"\";position: absolute;border-left: 1px solid gray;box-sizing: border-box;top: 0;bottom: 0;left: 50%;z-index: -1;}#sk-container-id-4 div.sk-parallel-item {display: flex;flex-direction: column;z-index: 1;position: relative;background-color: white;}#sk-container-id-4 div.sk-parallel-item:first-child::after {align-self: flex-end;width: 50%;}#sk-container-id-4 div.sk-parallel-item:last-child::after {align-self: flex-start;width: 50%;}#sk-container-id-4 div.sk-parallel-item:only-child::after {width: 0;}#sk-container-id-4 div.sk-dashed-wrapped {border: 1px dashed gray;margin: 0 0.4em 0.5em 0.4em;box-sizing: border-box;padding-bottom: 0.4em;background-color: white;}#sk-container-id-4 div.sk-label label {font-family: monospace;font-weight: bold;display: inline-block;line-height: 1.2em;}#sk-container-id-4 div.sk-label-container {text-align: center;}#sk-container-id-4 div.sk-container {/* jupyter's `normalize.less` sets `[hidden] { display: none; }` but bootstrap.min.css set `[hidden] { display: none !important; }` so we also need the `!important` here to be able to override the default hidden behavior on the sphinx rendered scikit-learn.org. See: https://github.com/scikit-learn/scikit-learn/issues/21755 */display: inline-block !important;position: relative;}#sk-container-id-4 div.sk-text-repr-fallback {display: none;}</style><div id=\"sk-container-id-4\" class=\"sk-top-container\"><div class=\"sk-text-repr-fallback\"><pre>GridSearchCV(cv=3,\n",
       "             estimator=Pipeline(steps=[(&#x27;transormer&#x27;,\n",
       "                                        ColumnTransformer(transformers=[(&#x27;Numerical&#x27;,\n",
       "                                                                         Pipeline(steps=[(&#x27;winsorizer &#x27;\n",
       "                                                                                          &#x27;Gaussian&#x27;,\n",
       "                                                                                          Winsorizer(tail=&#x27;both&#x27;,\n",
       "                                                                                                     variables=[&#x27;bedrooms&#x27;,\n",
       "                                                                                                                &#x27;floors&#x27;])),\n",
       "                                                                                         (&#x27;winsorizer &#x27;\n",
       "                                                                                          &#x27;iqr&#x27;,\n",
       "                                                                                          Winsorizer(capping_method=&#x27;iqr&#x27;,\n",
       "                                                                                                     tail=&#x27;both&#x27;,\n",
       "                                                                                                     variables=[&#x27;sqft_living&#x27;,\n",
       "                                                                                                                &#x27;sqft_above&#x27;,\n",
       "                                                                                                                &#x27;sqft_basement&#x27;])),\n",
       "                                                                                         (&#x27;scaler&#x27;,\n",
       "                                                                                          StandardScaler())]),\n",
       "                                                                         [&#x27;bedrooms&#x27;,\n",
       "                                                                          &#x27;bathrooms&#x27;,\n",
       "                                                                          &#x27;sqft_living&#x27;,\n",
       "                                                                          &#x27;floors&#x27;,\n",
       "                                                                          &#x27;sqft_above&#x27;,\n",
       "                                                                          &#x27;sqft_basement&#x27;]),\n",
       "                                                                        (&#x27;Categorical&#x27;,\n",
       "                                                                         &#x27;passthrough&#x27;,\n",
       "                                                                         [&#x27;view&#x27;,\n",
       "                                                                          &#x27;condition&#x27;,\n",
       "                                                                          &#x27;area&#x27;])])),\n",
       "                                       (&#x27;regressor&#x27;, SGDRegressor())]),\n",
       "             param_grid={&#x27;regressor__alpha&#x27;: [0.0001, 0.001, 0.01, 0.1],\n",
       "                         &#x27;regressor__learning_rate&#x27;: [&#x27;constant&#x27;, &#x27;optimal&#x27;,\n",
       "                                                      &#x27;invscaling&#x27;,\n",
       "                                                      &#x27;adaptive&#x27;],\n",
       "                         &#x27;regressor__max_iter&#x27;: [1000, 2000, 3000]},\n",
       "             verbose=1)</pre><b>In a Jupyter environment, please rerun this cell to show the HTML representation or trust the notebook. <br />On GitHub, the HTML representation is unable to render, please try loading this page with nbviewer.org.</b></div><div class=\"sk-container\" hidden><div class=\"sk-item sk-dashed-wrapped\"><div class=\"sk-label-container\"><div class=\"sk-label sk-toggleable\"><input class=\"sk-toggleable__control sk-hidden--visually\" id=\"sk-estimator-id-26\" type=\"checkbox\" ><label for=\"sk-estimator-id-26\" class=\"sk-toggleable__label sk-toggleable__label-arrow\">GridSearchCV</label><div class=\"sk-toggleable__content\"><pre>GridSearchCV(cv=3,\n",
       "             estimator=Pipeline(steps=[(&#x27;transormer&#x27;,\n",
       "                                        ColumnTransformer(transformers=[(&#x27;Numerical&#x27;,\n",
       "                                                                         Pipeline(steps=[(&#x27;winsorizer &#x27;\n",
       "                                                                                          &#x27;Gaussian&#x27;,\n",
       "                                                                                          Winsorizer(tail=&#x27;both&#x27;,\n",
       "                                                                                                     variables=[&#x27;bedrooms&#x27;,\n",
       "                                                                                                                &#x27;floors&#x27;])),\n",
       "                                                                                         (&#x27;winsorizer &#x27;\n",
       "                                                                                          &#x27;iqr&#x27;,\n",
       "                                                                                          Winsorizer(capping_method=&#x27;iqr&#x27;,\n",
       "                                                                                                     tail=&#x27;both&#x27;,\n",
       "                                                                                                     variables=[&#x27;sqft_living&#x27;,\n",
       "                                                                                                                &#x27;sqft_above&#x27;,\n",
       "                                                                                                                &#x27;sqft_basement&#x27;])),\n",
       "                                                                                         (&#x27;scaler&#x27;,\n",
       "                                                                                          StandardScaler())]),\n",
       "                                                                         [&#x27;bedrooms&#x27;,\n",
       "                                                                          &#x27;bathrooms&#x27;,\n",
       "                                                                          &#x27;sqft_living&#x27;,\n",
       "                                                                          &#x27;floors&#x27;,\n",
       "                                                                          &#x27;sqft_above&#x27;,\n",
       "                                                                          &#x27;sqft_basement&#x27;]),\n",
       "                                                                        (&#x27;Categorical&#x27;,\n",
       "                                                                         &#x27;passthrough&#x27;,\n",
       "                                                                         [&#x27;view&#x27;,\n",
       "                                                                          &#x27;condition&#x27;,\n",
       "                                                                          &#x27;area&#x27;])])),\n",
       "                                       (&#x27;regressor&#x27;, SGDRegressor())]),\n",
       "             param_grid={&#x27;regressor__alpha&#x27;: [0.0001, 0.001, 0.01, 0.1],\n",
       "                         &#x27;regressor__learning_rate&#x27;: [&#x27;constant&#x27;, &#x27;optimal&#x27;,\n",
       "                                                      &#x27;invscaling&#x27;,\n",
       "                                                      &#x27;adaptive&#x27;],\n",
       "                         &#x27;regressor__max_iter&#x27;: [1000, 2000, 3000]},\n",
       "             verbose=1)</pre></div></div></div><div class=\"sk-parallel\"><div class=\"sk-parallel-item\"><div class=\"sk-item\"><div class=\"sk-label-container\"><div class=\"sk-label sk-toggleable\"><input class=\"sk-toggleable__control sk-hidden--visually\" id=\"sk-estimator-id-27\" type=\"checkbox\" ><label for=\"sk-estimator-id-27\" class=\"sk-toggleable__label sk-toggleable__label-arrow\">estimator: Pipeline</label><div class=\"sk-toggleable__content\"><pre>Pipeline(steps=[(&#x27;transormer&#x27;,\n",
       "                 ColumnTransformer(transformers=[(&#x27;Numerical&#x27;,\n",
       "                                                  Pipeline(steps=[(&#x27;winsorizer &#x27;\n",
       "                                                                   &#x27;Gaussian&#x27;,\n",
       "                                                                   Winsorizer(tail=&#x27;both&#x27;,\n",
       "                                                                              variables=[&#x27;bedrooms&#x27;,\n",
       "                                                                                         &#x27;floors&#x27;])),\n",
       "                                                                  (&#x27;winsorizer &#x27;\n",
       "                                                                   &#x27;iqr&#x27;,\n",
       "                                                                   Winsorizer(capping_method=&#x27;iqr&#x27;,\n",
       "                                                                              tail=&#x27;both&#x27;,\n",
       "                                                                              variables=[&#x27;sqft_living&#x27;,\n",
       "                                                                                         &#x27;sqft_above&#x27;,\n",
       "                                                                                         &#x27;sqft_basement&#x27;])),\n",
       "                                                                  (&#x27;scaler&#x27;,\n",
       "                                                                   StandardScaler())]),\n",
       "                                                  [&#x27;bedrooms&#x27;, &#x27;bathrooms&#x27;,\n",
       "                                                   &#x27;sqft_living&#x27;, &#x27;floors&#x27;,\n",
       "                                                   &#x27;sqft_above&#x27;,\n",
       "                                                   &#x27;sqft_basement&#x27;]),\n",
       "                                                 (&#x27;Categorical&#x27;, &#x27;passthrough&#x27;,\n",
       "                                                  [&#x27;view&#x27;, &#x27;condition&#x27;,\n",
       "                                                   &#x27;area&#x27;])])),\n",
       "                (&#x27;regressor&#x27;, SGDRegressor())])</pre></div></div></div><div class=\"sk-serial\"><div class=\"sk-item\"><div class=\"sk-serial\"><div class=\"sk-item sk-dashed-wrapped\"><div class=\"sk-label-container\"><div class=\"sk-label sk-toggleable\"><input class=\"sk-toggleable__control sk-hidden--visually\" id=\"sk-estimator-id-28\" type=\"checkbox\" ><label for=\"sk-estimator-id-28\" class=\"sk-toggleable__label sk-toggleable__label-arrow\">transormer: ColumnTransformer</label><div class=\"sk-toggleable__content\"><pre>ColumnTransformer(transformers=[(&#x27;Numerical&#x27;,\n",
       "                                 Pipeline(steps=[(&#x27;winsorizer Gaussian&#x27;,\n",
       "                                                  Winsorizer(tail=&#x27;both&#x27;,\n",
       "                                                             variables=[&#x27;bedrooms&#x27;,\n",
       "                                                                        &#x27;floors&#x27;])),\n",
       "                                                 (&#x27;winsorizer iqr&#x27;,\n",
       "                                                  Winsorizer(capping_method=&#x27;iqr&#x27;,\n",
       "                                                             tail=&#x27;both&#x27;,\n",
       "                                                             variables=[&#x27;sqft_living&#x27;,\n",
       "                                                                        &#x27;sqft_above&#x27;,\n",
       "                                                                        &#x27;sqft_basement&#x27;])),\n",
       "                                                 (&#x27;scaler&#x27;, StandardScaler())]),\n",
       "                                 [&#x27;bedrooms&#x27;, &#x27;bathrooms&#x27;, &#x27;sqft_living&#x27;,\n",
       "                                  &#x27;floors&#x27;, &#x27;sqft_above&#x27;, &#x27;sqft_basement&#x27;]),\n",
       "                                (&#x27;Categorical&#x27;, &#x27;passthrough&#x27;,\n",
       "                                 [&#x27;view&#x27;, &#x27;condition&#x27;, &#x27;area&#x27;])])</pre></div></div></div><div class=\"sk-parallel\"><div class=\"sk-parallel-item\"><div class=\"sk-item\"><div class=\"sk-label-container\"><div class=\"sk-label sk-toggleable\"><input class=\"sk-toggleable__control sk-hidden--visually\" id=\"sk-estimator-id-29\" type=\"checkbox\" ><label for=\"sk-estimator-id-29\" class=\"sk-toggleable__label sk-toggleable__label-arrow\">Numerical</label><div class=\"sk-toggleable__content\"><pre>[&#x27;bedrooms&#x27;, &#x27;bathrooms&#x27;, &#x27;sqft_living&#x27;, &#x27;floors&#x27;, &#x27;sqft_above&#x27;, &#x27;sqft_basement&#x27;]</pre></div></div></div><div class=\"sk-serial\"><div class=\"sk-item\"><div class=\"sk-serial\"><div class=\"sk-item\"><div class=\"sk-estimator sk-toggleable\"><input class=\"sk-toggleable__control sk-hidden--visually\" id=\"sk-estimator-id-30\" type=\"checkbox\" ><label for=\"sk-estimator-id-30\" class=\"sk-toggleable__label sk-toggleable__label-arrow\">Winsorizer</label><div class=\"sk-toggleable__content\"><pre>Winsorizer(tail=&#x27;both&#x27;, variables=[&#x27;bedrooms&#x27;, &#x27;floors&#x27;])</pre></div></div></div><div class=\"sk-item\"><div class=\"sk-estimator sk-toggleable\"><input class=\"sk-toggleable__control sk-hidden--visually\" id=\"sk-estimator-id-31\" type=\"checkbox\" ><label for=\"sk-estimator-id-31\" class=\"sk-toggleable__label sk-toggleable__label-arrow\">Winsorizer</label><div class=\"sk-toggleable__content\"><pre>Winsorizer(capping_method=&#x27;iqr&#x27;, tail=&#x27;both&#x27;,\n",
       "           variables=[&#x27;sqft_living&#x27;, &#x27;sqft_above&#x27;, &#x27;sqft_basement&#x27;])</pre></div></div></div><div class=\"sk-item\"><div class=\"sk-estimator sk-toggleable\"><input class=\"sk-toggleable__control sk-hidden--visually\" id=\"sk-estimator-id-32\" type=\"checkbox\" ><label for=\"sk-estimator-id-32\" class=\"sk-toggleable__label sk-toggleable__label-arrow\">StandardScaler</label><div class=\"sk-toggleable__content\"><pre>StandardScaler()</pre></div></div></div></div></div></div></div></div><div class=\"sk-parallel-item\"><div class=\"sk-item\"><div class=\"sk-label-container\"><div class=\"sk-label sk-toggleable\"><input class=\"sk-toggleable__control sk-hidden--visually\" id=\"sk-estimator-id-33\" type=\"checkbox\" ><label for=\"sk-estimator-id-33\" class=\"sk-toggleable__label sk-toggleable__label-arrow\">Categorical</label><div class=\"sk-toggleable__content\"><pre>[&#x27;view&#x27;, &#x27;condition&#x27;, &#x27;area&#x27;]</pre></div></div></div><div class=\"sk-serial\"><div class=\"sk-item\"><div class=\"sk-estimator sk-toggleable\"><input class=\"sk-toggleable__control sk-hidden--visually\" id=\"sk-estimator-id-34\" type=\"checkbox\" ><label for=\"sk-estimator-id-34\" class=\"sk-toggleable__label sk-toggleable__label-arrow\">passthrough</label><div class=\"sk-toggleable__content\"><pre>passthrough</pre></div></div></div></div></div></div></div></div><div class=\"sk-item\"><div class=\"sk-estimator sk-toggleable\"><input class=\"sk-toggleable__control sk-hidden--visually\" id=\"sk-estimator-id-35\" type=\"checkbox\" ><label for=\"sk-estimator-id-35\" class=\"sk-toggleable__label sk-toggleable__label-arrow\">SGDRegressor</label><div class=\"sk-toggleable__content\"><pre>SGDRegressor()</pre></div></div></div></div></div></div></div></div></div></div></div></div>"
      ],
      "text/plain": [
       "GridSearchCV(cv=3,\n",
       "             estimator=Pipeline(steps=[('transormer',\n",
       "                                        ColumnTransformer(transformers=[('Numerical',\n",
       "                                                                         Pipeline(steps=[('winsorizer '\n",
       "                                                                                          'Gaussian',\n",
       "                                                                                          Winsorizer(tail='both',\n",
       "                                                                                                     variables=['bedrooms',\n",
       "                                                                                                                'floors'])),\n",
       "                                                                                         ('winsorizer '\n",
       "                                                                                          'iqr',\n",
       "                                                                                          Winsorizer(capping_method='iqr',\n",
       "                                                                                                     tail='both',\n",
       "                                                                                                     variables=['sqft_living',\n",
       "                                                                                                                'sqft_above',\n",
       "                                                                                                                'sqft_basement'])),\n",
       "                                                                                         ('scaler',\n",
       "                                                                                          StandardScaler())]),\n",
       "                                                                         ['bedrooms',\n",
       "                                                                          'bathrooms',\n",
       "                                                                          'sqft_living',\n",
       "                                                                          'floors',\n",
       "                                                                          'sqft_above',\n",
       "                                                                          'sqft_basement']),\n",
       "                                                                        ('Categorical',\n",
       "                                                                         'passthrough',\n",
       "                                                                         ['view',\n",
       "                                                                          'condition',\n",
       "                                                                          'area'])])),\n",
       "                                       ('regressor', SGDRegressor())]),\n",
       "             param_grid={'regressor__alpha': [0.0001, 0.001, 0.01, 0.1],\n",
       "                         'regressor__learning_rate': ['constant', 'optimal',\n",
       "                                                      'invscaling',\n",
       "                                                      'adaptive'],\n",
       "                         'regressor__max_iter': [1000, 2000, 3000]},\n",
       "             verbose=1)"
      ]
     },
     "execution_count": 72,
     "metadata": {},
     "output_type": "execute_result"
    }
   ],
   "source": [
    "# Melakukan Train kepada model Linear Regressor\n",
    "model_sgd.fit(X_train,y_train)"
   ]
  },
  {
   "cell_type": "code",
   "execution_count": 73,
   "metadata": {},
   "outputs": [
    {
     "name": "stdout",
     "output_type": "stream",
     "text": [
      "Nilai mean dari hasil Hyperparameter adalah: 0.3228\n"
     ]
    }
   ],
   "source": [
    "# Nilai rata-rata dari hasil pencarian Hyperparameter\n",
    "mean_score = model_sgd.best_score_\n",
    "print(f\"Nilai mean dari hasil Hyperparameter adalah: {mean_score:.4f}\")"
   ]
  },
  {
   "cell_type": "code",
   "execution_count": 74,
   "metadata": {},
   "outputs": [
    {
     "name": "stdout",
     "output_type": "stream",
     "text": [
      "Nilai standar deviasi dari hasil hyperparameter adalah: 0.1778\n"
     ]
    }
   ],
   "source": [
    "# Standard deviasi dari pencarian Hyperparameter\n",
    "std_score = model_sgd.cv_results_['std_test_score'][model_sgd.best_index_]\n",
    "print(f\"Nilai standar deviasi dari hasil hyperparameter adalah: {std_score:.4f}\")"
   ]
  },
  {
   "cell_type": "code",
   "execution_count": 75,
   "metadata": {},
   "outputs": [
    {
     "name": "stdout",
     "output_type": "stream",
     "text": [
      "Parameter Terbaik: {'regressor__alpha': 0.0001, 'regressor__learning_rate': 'adaptive', 'regressor__max_iter': 1000}\n"
     ]
    }
   ],
   "source": [
    "# Parameter terbaik yang didapatkan\n",
    "print(\"Parameter Terbaik:\", model_sgd.best_params_)"
   ]
  },
  {
   "cell_type": "markdown",
   "metadata": {},
   "source": [
    "*Kesimpulan:*\n",
    "- Alpha_regressor mandapatkan nilai terbaik sebesar \"0.0001\"\n",
    "- Laerning_rate_regressor mendapatkan nilai terbaik \"Adaptive\"\n",
    "- Max_iter_regressor mendapatkan nilai terbaik sebesar \"1000\""
   ]
  },
  {
   "cell_type": "code",
   "execution_count": 76,
   "metadata": {},
   "outputs": [],
   "source": [
    "# Membuat variabel baru untuk menyimpan hasil parameter terbaik\n",
    "model_sgd_best = model_sgd.best_estimator_"
   ]
  },
  {
   "cell_type": "markdown",
   "metadata": {},
   "source": [
    "### ***2.Train SGD Regressor Menggunakan Parameter Terbaik***"
   ]
  },
  {
   "cell_type": "code",
   "execution_count": 77,
   "metadata": {},
   "outputs": [
    {
     "name": "stdout",
     "output_type": "stream",
     "text": [
      "R2 Score Pada data Train: 0.2167593043434608\n"
     ]
    }
   ],
   "source": [
    "# Menggunakan model SVM terbaik untuk membuat prediksi\n",
    "y_train_pred = model_sgd_best.predict(X_train)\n",
    "# Evaluasi model SVM terbaik\n",
    "r2_train_pred = r2_score(y_train, y_train_pred)\n",
    "# Cetak hasil evaluasi\n",
    "print(\"R2 Score Pada data Train:\", r2_train_pred)"
   ]
  },
  {
   "cell_type": "code",
   "execution_count": 78,
   "metadata": {},
   "outputs": [
    {
     "name": "stdout",
     "output_type": "stream",
     "text": [
      "R2 Score pada Test  :  0.47906220433593183 \n",
      "\n"
     ]
    }
   ],
   "source": [
    "# Menampilkan hasil data test dengan metode random search\n",
    "y_test_pred = model_sgd.predict(X_test)\n",
    "\n",
    "print('R2 Score pada Test  : ', r2_score(y_test, y_test_pred), '\\n')\n"
   ]
  },
  {
   "cell_type": "markdown",
   "metadata": {},
   "source": [
    "# Viii.Model Evaluation"
   ]
  },
  {
   "cell_type": "markdown",
   "metadata": {},
   "source": [
    "> Pada bagian ini, dilakukan evaluasi model yang harus menunjukkan bagaimana performa model berdasarkan metrics yang dipilih. Hal ini harus dibuktikan dengan visualisasi tren performa dan/atau tingkat kesalahan model. Lakukan analisis terkait dengan hasil pada model dan tuliskan hasil analisisnya.\n"
   ]
  },
  {
   "cell_type": "markdown",
   "metadata": {},
   "source": [
    "### ***1.Report SGD Regressor Sebelum Hyperparameter***"
   ]
  },
  {
   "cell_type": "code",
   "execution_count": 79,
   "metadata": {},
   "outputs": [
    {
     "data": {
      "text/html": [
       "<div>\n",
       "<style scoped>\n",
       "    .dataframe tbody tr th:only-of-type {\n",
       "        vertical-align: middle;\n",
       "    }\n",
       "\n",
       "    .dataframe tbody tr th {\n",
       "        vertical-align: top;\n",
       "    }\n",
       "\n",
       "    .dataframe thead th {\n",
       "        text-align: right;\n",
       "    }\n",
       "</style>\n",
       "<table border=\"1\" class=\"dataframe\">\n",
       "  <thead>\n",
       "    <tr style=\"text-align: right;\">\n",
       "      <th></th>\n",
       "      <th>Model Default SGD Regressor</th>\n",
       "    </tr>\n",
       "  </thead>\n",
       "  <tbody>\n",
       "    <tr>\n",
       "      <th>test - MAE</th>\n",
       "      <td>1.611005e+05</td>\n",
       "    </tr>\n",
       "    <tr>\n",
       "      <th>test - MSE</th>\n",
       "      <td>6.196088e+10</td>\n",
       "    </tr>\n",
       "    <tr>\n",
       "      <th>test - RMSE</th>\n",
       "      <td>2.489194e+05</td>\n",
       "    </tr>\n",
       "    <tr>\n",
       "      <th>test - r2</th>\n",
       "      <td>4.861505e-01</td>\n",
       "    </tr>\n",
       "    <tr>\n",
       "      <th>train - MAE</th>\n",
       "      <td>1.647730e+05</td>\n",
       "    </tr>\n",
       "    <tr>\n",
       "      <th>train - MSE</th>\n",
       "      <td>2.907298e+11</td>\n",
       "    </tr>\n",
       "    <tr>\n",
       "      <th>train - RMSE</th>\n",
       "      <td>5.391936e+05</td>\n",
       "    </tr>\n",
       "    <tr>\n",
       "      <th>train - r2</th>\n",
       "      <td>2.085452e-01</td>\n",
       "    </tr>\n",
       "  </tbody>\n",
       "</table>\n",
       "</div>"
      ],
      "text/plain": [
       "              Model Default SGD Regressor\n",
       "test - MAE                   1.611005e+05\n",
       "test - MSE                   6.196088e+10\n",
       "test - RMSE                  2.489194e+05\n",
       "test - r2                    4.861505e-01\n",
       "train - MAE                  1.647730e+05\n",
       "train - MSE                  2.907298e+11\n",
       "train - RMSE                 5.391936e+05\n",
       "train - r2                   2.085452e-01"
      ]
     },
     "execution_count": 79,
     "metadata": {},
     "output_type": "execute_result"
    }
   ],
   "source": [
    "# Dictionary untuk menyimpan laporan kinerja\n",
    "all_reports = {}  \n",
    "# Fungsi untuk membuat laporan kinerja\n",
    "def performance_report(all_reports, y_test, y_test_sgd, y_train, y_train_sgd, name):\n",
    "    score_reports = {\n",
    "        'test - r2': r2_score(y_test, y_test_sgd),\n",
    "        'test - MAE': mean_absolute_error(y_test, y_test_sgd),\n",
    "        'test - MSE': mean_squared_error(y_test, y_test_sgd),\n",
    "        'test - RMSE': np.sqrt(mean_squared_error(y_test, y_test_sgd)),\n",
    "        'train - r2': r2_score(y_train,y_train_sgd),\n",
    "        'train - MAE': mean_absolute_error(y_train,y_train_sgd),\n",
    "        'train - MSE': mean_squared_error(y_train,y_train_sgd),\n",
    "        'train - RMSE': np.sqrt(mean_squared_error(y_train,y_train_sgd))\n",
    "    }\n",
    "    all_reports[name] = score_reports\n",
    "    return all_reports\n",
    "# Memanggil fungsi \n",
    "reports_default = performance_report(all_reports,y_test, y_test_sgd,y_train,y_train_sgd, 'Model Default SGD Regressor')\n",
    "# Menampilkan laporan kinerja dalam bentuk DataFrame\n",
    "pd.DataFrame(reports_default)"
   ]
  },
  {
   "cell_type": "markdown",
   "metadata": {},
   "source": [
    "### ***2.Report setelah Hyperparameter Tunning***"
   ]
  },
  {
   "cell_type": "code",
   "execution_count": null,
   "metadata": {},
   "outputs": [],
   "source": [
    "# Memanggil fungsi \n",
    "reports_default = performance_report(all_reports,y_test, y_test_pred,y_train,y_train_pred, 'Model SGD Regressor Hasil Hyper Parameter Tuning')\n",
    "# Menampilkan laporan kinerja dalam bentuk DataFrame\n",
    "pd.DataFrame(reports_default)"
   ]
  },
  {
   "cell_type": "code",
   "execution_count": 80,
   "metadata": {},
   "outputs": [
    {
     "data": {
      "image/png": "[encoded data removed]",
      "text/plain": [
       "<Figure size 640x480 with 1 Axes>"
      ]
     },
     "metadata": {},
     "output_type": "display_data"
    }
   ],
   "source": [
    "# Grafik plot data hasil dan data prediksi\n",
    "x_ax = range(len(y_test))\n",
    "plt.plot(x_ax, y_test, linewidth=1, label=\"original\")\n",
    "plt.plot(x_ax, y_test_pred, linewidth=1.1, label=\"predicted\")\n",
    "plt.title(\"y-test and y-predicted data\")\n",
    "plt.xlabel('X-axis')\n",
    "plt.ylabel('Y-axis')\n",
    "plt.legend(loc='best',fancybox=True, shadow=True)\n",
    "plt.grid(True)\n",
    "plt.show() "
   ]
  },
  {
   "cell_type": "markdown",
   "metadata": {},
   "source": [
    "# iX.Model Saving"
   ]
  },
  {
   "cell_type": "markdown",
   "metadata": {},
   "source": [
    "> Pada bagian ini, dilakukan proses penyimpanan model dan file-file lain yang terkait dengan hasil proses pembuatan model."
   ]
  },
  {
   "cell_type": "code",
   "execution_count": 81,
   "metadata": {},
   "outputs": [
    {
     "data": {
      "text/html": [
       "<style>#sk-container-id-5 {color: black;}#sk-container-id-5 pre{padding: 0;}#sk-container-id-5 div.sk-toggleable {background-color: white;}#sk-container-id-5 label.sk-toggleable__label {cursor: pointer;display: block;width: 100%;margin-bottom: 0;padding: 0.3em;box-sizing: border-box;text-align: center;}#sk-container-id-5 label.sk-toggleable__label-arrow:before {content: \"▸\";float: left;margin-right: 0.25em;color: #696969;}#sk-container-id-5 label.sk-toggleable__label-arrow:hover:before {color: black;}#sk-container-id-5 div.sk-estimator:hover label.sk-toggleable__label-arrow:before {color: black;}#sk-container-id-5 div.sk-toggleable__content {max-height: 0;max-width: 0;overflow: hidden;text-align: left;background-color: #f0f8ff;}#sk-container-id-5 div.sk-toggleable__content pre {margin: 0.2em;color: black;border-radius: 0.25em;background-color: #f0f8ff;}#sk-container-id-5 input.sk-toggleable__control:checked~div.sk-toggleable__content {max-height: 200px;max-width: 100%;overflow: auto;}#sk-container-id-5 input.sk-toggleable__control:checked~label.sk-toggleable__label-arrow:before {content: \"▾\";}#sk-container-id-5 div.sk-estimator input.sk-toggleable__control:checked~label.sk-toggleable__label {background-color: #d4ebff;}#sk-container-id-5 div.sk-label input.sk-toggleable__control:checked~label.sk-toggleable__label {background-color: #d4ebff;}#sk-container-id-5 input.sk-hidden--visually {border: 0;clip: rect(1px 1px 1px 1px);clip: rect(1px, 1px, 1px, 1px);height: 1px;margin: -1px;overflow: hidden;padding: 0;position: absolute;width: 1px;}#sk-container-id-5 div.sk-estimator {font-family: monospace;background-color: #f0f8ff;border: 1px dotted black;border-radius: 0.25em;box-sizing: border-box;margin-bottom: 0.5em;}#sk-container-id-5 div.sk-estimator:hover {background-color: #d4ebff;}#sk-container-id-5 div.sk-parallel-item::after {content: \"\";width: 100%;border-bottom: 1px solid gray;flex-grow: 1;}#sk-container-id-5 div.sk-label:hover label.sk-toggleable__label {background-color: #d4ebff;}#sk-container-id-5 div.sk-serial::before {content: \"\";position: absolute;border-left: 1px solid gray;box-sizing: border-box;top: 0;bottom: 0;left: 50%;z-index: 0;}#sk-container-id-5 div.sk-serial {display: flex;flex-direction: column;align-items: center;background-color: white;padding-right: 0.2em;padding-left: 0.2em;position: relative;}#sk-container-id-5 div.sk-item {position: relative;z-index: 1;}#sk-container-id-5 div.sk-parallel {display: flex;align-items: stretch;justify-content: center;background-color: white;position: relative;}#sk-container-id-5 div.sk-item::before, #sk-container-id-5 div.sk-parallel-item::before {content: \"\";position: absolute;border-left: 1px solid gray;box-sizing: border-box;top: 0;bottom: 0;left: 50%;z-index: -1;}#sk-container-id-5 div.sk-parallel-item {display: flex;flex-direction: column;z-index: 1;position: relative;background-color: white;}#sk-container-id-5 div.sk-parallel-item:first-child::after {align-self: flex-end;width: 50%;}#sk-container-id-5 div.sk-parallel-item:last-child::after {align-self: flex-start;width: 50%;}#sk-container-id-5 div.sk-parallel-item:only-child::after {width: 0;}#sk-container-id-5 div.sk-dashed-wrapped {border: 1px dashed gray;margin: 0 0.4em 0.5em 0.4em;box-sizing: border-box;padding-bottom: 0.4em;background-color: white;}#sk-container-id-5 div.sk-label label {font-family: monospace;font-weight: bold;display: inline-block;line-height: 1.2em;}#sk-container-id-5 div.sk-label-container {text-align: center;}#sk-container-id-5 div.sk-container {/* jupyter's `normalize.less` sets `[hidden] { display: none; }` but bootstrap.min.css set `[hidden] { display: none !important; }` so we also need the `!important` here to be able to override the default hidden behavior on the sphinx rendered scikit-learn.org. See: https://github.com/scikit-learn/scikit-learn/issues/21755 */display: inline-block !important;position: relative;}#sk-container-id-5 div.sk-text-repr-fallback {display: none;}</style><div id=\"sk-container-id-5\" class=\"sk-top-container\"><div class=\"sk-text-repr-fallback\"><pre>Pipeline(steps=[(&#x27;transormer&#x27;,\n",
       "                 ColumnTransformer(transformers=[(&#x27;Numerical&#x27;,\n",
       "                                                  Pipeline(steps=[(&#x27;winsorizer &#x27;\n",
       "                                                                   &#x27;Gaussian&#x27;,\n",
       "                                                                   Winsorizer(tail=&#x27;both&#x27;,\n",
       "                                                                              variables=[&#x27;bedrooms&#x27;,\n",
       "                                                                                         &#x27;floors&#x27;])),\n",
       "                                                                  (&#x27;winsorizer &#x27;\n",
       "                                                                   &#x27;iqr&#x27;,\n",
       "                                                                   Winsorizer(capping_method=&#x27;iqr&#x27;,\n",
       "                                                                              tail=&#x27;both&#x27;,\n",
       "                                                                              variables=[&#x27;sqft_living&#x27;,\n",
       "                                                                                         &#x27;sqft_above&#x27;,\n",
       "                                                                                         &#x27;sqft_basement&#x27;])),\n",
       "                                                                  (&#x27;scaler&#x27;,\n",
       "                                                                   StandardScaler())]),\n",
       "                                                  [&#x27;bedrooms&#x27;, &#x27;bathrooms&#x27;,\n",
       "                                                   &#x27;sqft_living&#x27;, &#x27;floors&#x27;,\n",
       "                                                   &#x27;sqft_above&#x27;,\n",
       "                                                   &#x27;sqft_basement&#x27;]),\n",
       "                                                 (&#x27;Categorical&#x27;, &#x27;passthrough&#x27;,\n",
       "                                                  [&#x27;view&#x27;, &#x27;condition&#x27;,\n",
       "                                                   &#x27;area&#x27;])])),\n",
       "                (&#x27;regressor&#x27;, SGDRegressor())])</pre><b>In a Jupyter environment, please rerun this cell to show the HTML representation or trust the notebook. <br />On GitHub, the HTML representation is unable to render, please try loading this page with nbviewer.org.</b></div><div class=\"sk-container\" hidden><div class=\"sk-item sk-dashed-wrapped\"><div class=\"sk-label-container\"><div class=\"sk-label sk-toggleable\"><input class=\"sk-toggleable__control sk-hidden--visually\" id=\"sk-estimator-id-36\" type=\"checkbox\" ><label for=\"sk-estimator-id-36\" class=\"sk-toggleable__label sk-toggleable__label-arrow\">Pipeline</label><div class=\"sk-toggleable__content\"><pre>Pipeline(steps=[(&#x27;transormer&#x27;,\n",
       "                 ColumnTransformer(transformers=[(&#x27;Numerical&#x27;,\n",
       "                                                  Pipeline(steps=[(&#x27;winsorizer &#x27;\n",
       "                                                                   &#x27;Gaussian&#x27;,\n",
       "                                                                   Winsorizer(tail=&#x27;both&#x27;,\n",
       "                                                                              variables=[&#x27;bedrooms&#x27;,\n",
       "                                                                                         &#x27;floors&#x27;])),\n",
       "                                                                  (&#x27;winsorizer &#x27;\n",
       "                                                                   &#x27;iqr&#x27;,\n",
       "                                                                   Winsorizer(capping_method=&#x27;iqr&#x27;,\n",
       "                                                                              tail=&#x27;both&#x27;,\n",
       "                                                                              variables=[&#x27;sqft_living&#x27;,\n",
       "                                                                                         &#x27;sqft_above&#x27;,\n",
       "                                                                                         &#x27;sqft_basement&#x27;])),\n",
       "                                                                  (&#x27;scaler&#x27;,\n",
       "                                                                   StandardScaler())]),\n",
       "                                                  [&#x27;bedrooms&#x27;, &#x27;bathrooms&#x27;,\n",
       "                                                   &#x27;sqft_living&#x27;, &#x27;floors&#x27;,\n",
       "                                                   &#x27;sqft_above&#x27;,\n",
       "                                                   &#x27;sqft_basement&#x27;]),\n",
       "                                                 (&#x27;Categorical&#x27;, &#x27;passthrough&#x27;,\n",
       "                                                  [&#x27;view&#x27;, &#x27;condition&#x27;,\n",
       "                                                   &#x27;area&#x27;])])),\n",
       "                (&#x27;regressor&#x27;, SGDRegressor())])</pre></div></div></div><div class=\"sk-serial\"><div class=\"sk-item sk-dashed-wrapped\"><div class=\"sk-label-container\"><div class=\"sk-label sk-toggleable\"><input class=\"sk-toggleable__control sk-hidden--visually\" id=\"sk-estimator-id-37\" type=\"checkbox\" ><label for=\"sk-estimator-id-37\" class=\"sk-toggleable__label sk-toggleable__label-arrow\">transormer: ColumnTransformer</label><div class=\"sk-toggleable__content\"><pre>ColumnTransformer(transformers=[(&#x27;Numerical&#x27;,\n",
       "                                 Pipeline(steps=[(&#x27;winsorizer Gaussian&#x27;,\n",
       "                                                  Winsorizer(tail=&#x27;both&#x27;,\n",
       "                                                             variables=[&#x27;bedrooms&#x27;,\n",
       "                                                                        &#x27;floors&#x27;])),\n",
       "                                                 (&#x27;winsorizer iqr&#x27;,\n",
       "                                                  Winsorizer(capping_method=&#x27;iqr&#x27;,\n",
       "                                                             tail=&#x27;both&#x27;,\n",
       "                                                             variables=[&#x27;sqft_living&#x27;,\n",
       "                                                                        &#x27;sqft_above&#x27;,\n",
       "                                                                        &#x27;sqft_basement&#x27;])),\n",
       "                                                 (&#x27;scaler&#x27;, StandardScaler())]),\n",
       "                                 [&#x27;bedrooms&#x27;, &#x27;bathrooms&#x27;, &#x27;sqft_living&#x27;,\n",
       "                                  &#x27;floors&#x27;, &#x27;sqft_above&#x27;, &#x27;sqft_basement&#x27;]),\n",
       "                                (&#x27;Categorical&#x27;, &#x27;passthrough&#x27;,\n",
       "                                 [&#x27;view&#x27;, &#x27;condition&#x27;, &#x27;area&#x27;])])</pre></div></div></div><div class=\"sk-parallel\"><div class=\"sk-parallel-item\"><div class=\"sk-item\"><div class=\"sk-label-container\"><div class=\"sk-label sk-toggleable\"><input class=\"sk-toggleable__control sk-hidden--visually\" id=\"sk-estimator-id-38\" type=\"checkbox\" ><label for=\"sk-estimator-id-38\" class=\"sk-toggleable__label sk-toggleable__label-arrow\">Numerical</label><div class=\"sk-toggleable__content\"><pre>[&#x27;bedrooms&#x27;, &#x27;bathrooms&#x27;, &#x27;sqft_living&#x27;, &#x27;floors&#x27;, &#x27;sqft_above&#x27;, &#x27;sqft_basement&#x27;]</pre></div></div></div><div class=\"sk-serial\"><div class=\"sk-item\"><div class=\"sk-serial\"><div class=\"sk-item\"><div class=\"sk-estimator sk-toggleable\"><input class=\"sk-toggleable__control sk-hidden--visually\" id=\"sk-estimator-id-39\" type=\"checkbox\" ><label for=\"sk-estimator-id-39\" class=\"sk-toggleable__label sk-toggleable__label-arrow\">Winsorizer</label><div class=\"sk-toggleable__content\"><pre>Winsorizer(tail=&#x27;both&#x27;, variables=[&#x27;bedrooms&#x27;, &#x27;floors&#x27;])</pre></div></div></div><div class=\"sk-item\"><div class=\"sk-estimator sk-toggleable\"><input class=\"sk-toggleable__control sk-hidden--visually\" id=\"sk-estimator-id-40\" type=\"checkbox\" ><label for=\"sk-estimator-id-40\" class=\"sk-toggleable__label sk-toggleable__label-arrow\">Winsorizer</label><div class=\"sk-toggleable__content\"><pre>Winsorizer(capping_method=&#x27;iqr&#x27;, tail=&#x27;both&#x27;,\n",
       "           variables=[&#x27;sqft_living&#x27;, &#x27;sqft_above&#x27;, &#x27;sqft_basement&#x27;])</pre></div></div></div><div class=\"sk-item\"><div class=\"sk-estimator sk-toggleable\"><input class=\"sk-toggleable__control sk-hidden--visually\" id=\"sk-estimator-id-41\" type=\"checkbox\" ><label for=\"sk-estimator-id-41\" class=\"sk-toggleable__label sk-toggleable__label-arrow\">StandardScaler</label><div class=\"sk-toggleable__content\"><pre>StandardScaler()</pre></div></div></div></div></div></div></div></div><div class=\"sk-parallel-item\"><div class=\"sk-item\"><div class=\"sk-label-container\"><div class=\"sk-label sk-toggleable\"><input class=\"sk-toggleable__control sk-hidden--visually\" id=\"sk-estimator-id-42\" type=\"checkbox\" ><label for=\"sk-estimator-id-42\" class=\"sk-toggleable__label sk-toggleable__label-arrow\">Categorical</label><div class=\"sk-toggleable__content\"><pre>[&#x27;view&#x27;, &#x27;condition&#x27;, &#x27;area&#x27;]</pre></div></div></div><div class=\"sk-serial\"><div class=\"sk-item\"><div class=\"sk-estimator sk-toggleable\"><input class=\"sk-toggleable__control sk-hidden--visually\" id=\"sk-estimator-id-43\" type=\"checkbox\" ><label for=\"sk-estimator-id-43\" class=\"sk-toggleable__label sk-toggleable__label-arrow\">passthrough</label><div class=\"sk-toggleable__content\"><pre>passthrough</pre></div></div></div></div></div></div></div></div><div class=\"sk-item\"><div class=\"sk-estimator sk-toggleable\"><input class=\"sk-toggleable__control sk-hidden--visually\" id=\"sk-estimator-id-44\" type=\"checkbox\" ><label for=\"sk-estimator-id-44\" class=\"sk-toggleable__label sk-toggleable__label-arrow\">SGDRegressor</label><div class=\"sk-toggleable__content\"><pre>SGDRegressor()</pre></div></div></div></div></div></div></div>"
      ],
      "text/plain": [
       "Pipeline(steps=[('transormer',\n",
       "                 ColumnTransformer(transformers=[('Numerical',\n",
       "                                                  Pipeline(steps=[('winsorizer '\n",
       "                                                                   'Gaussian',\n",
       "                                                                   Winsorizer(tail='both',\n",
       "                                                                              variables=['bedrooms',\n",
       "                                                                                         'floors'])),\n",
       "                                                                  ('winsorizer '\n",
       "                                                                   'iqr',\n",
       "                                                                   Winsorizer(capping_method='iqr',\n",
       "                                                                              tail='both',\n",
       "                                                                              variables=['sqft_living',\n",
       "                                                                                         'sqft_above',\n",
       "                                                                                         'sqft_basement'])),\n",
       "                                                                  ('scaler',\n",
       "                                                                   StandardScaler())]),\n",
       "                                                  ['bedrooms', 'bathrooms',\n",
       "                                                   'sqft_living', 'floors',\n",
       "                                                   'sqft_above',\n",
       "                                                   'sqft_basement']),\n",
       "                                                 ('Categorical', 'passthrough',\n",
       "                                                  ['view', 'condition',\n",
       "                                                   'area'])])),\n",
       "                ('regressor', SGDRegressor())])"
      ]
     },
     "execution_count": 81,
     "metadata": {},
     "output_type": "execute_result"
    }
   ],
   "source": [
    "pipe_sgd"
   ]
  },
  {
   "cell_type": "code",
   "execution_count": 83,
   "metadata": {},
   "outputs": [],
   "source": [
    "# Menyimpan model menggunakan pickle\n",
    "with open('final_pipe1.pkl', 'wb') as file:\n",
    "    pickle.dump((pipe_sgd), file)"
   ]
  },
  {
   "cell_type": "markdown",
   "metadata": {},
   "source": [
    "# X.Model Inference"
   ]
  },
  {
   "cell_type": "markdown",
   "metadata": {},
   "source": [
    "> Model yang sudah dilatih akan dicoba pada data yang bukan termasuk ke dalam train-set. Data ini harus dalam format yang asli, bukan data yang sudah di-scaled."
   ]
  },
  {
   "cell_type": "markdown",
   "metadata": {},
   "source": [
    "##### ***SAYA MENGERJAKAN MODEL INFERENCE DI FILE .IPYNB YANG BERBEDA***"
   ]
  },
  {
   "cell_type": "markdown",
   "metadata": {},
   "source": [
    "# Xi.Pengambilan Kesimpulan"
   ]
  },
  {
   "cell_type": "markdown",
   "metadata": {},
   "source": [
    "> Pada bagian terakhir ini, harus berisi kesimpulan yang mencerminkan hasil yang didapat dengan objective yang sudah ditulis di bagian pengenalan."
   ]
  },
  {
   "cell_type": "markdown",
   "metadata": {},
   "source": [
    "- Setelah dilihat, hubungan antara harga rumah ternyata ada beberapa faktor yang secara signifikan berpengaruh terhadap harga rumah tersebut.\n",
    "- Rumah yang memiliki view pantai memiliki harga yang lebih tinggi daripada yang lain.\n",
    "- Usia rumah yang sudah tua bisa saja memiliki harga lebih tinggi dari rumah baru, apabila keaslian rumah nya tetap terjaga, biasanya target konsumen nya adalah orang-orang yang menyukai hal hal yang sudah berumur.\n",
    "- Dari semua model yang saya pakai, model SGD Regressor adalah model yang memiliki nilai R2 yang paling bagus dibandingkan model yanglainnya.\n",
    "- Hasil permodelan juga dapat dibilang Underfit, dengan nilai R2 hanya sebesar 0.47. hasil ini belum bisa digunakan untuk keperluan bisnis berskala besar."
   ]
  },
  {
   "cell_type": "markdown",
   "metadata": {},
   "source": [
    "# Conceptual Problems"
   ]
  },
  {
   "cell_type": "markdown",
   "metadata": {},
   "source": [
    "> Jelaskan latar belakang adanya bagging dan cara kerja bagging !"
   ]
  },
  {
   "cell_type": "markdown",
   "metadata": {},
   "source": [
    "**Latar belakang:**\n",
    "- Adalah teknik penggabungan model dalam machine learning yang bertujuan untuk meningkatkan akurasi dan ketahanan model terhadap overfitting. Metode ini melibatkan pembuatan sejumlah model prediktif yang independen, biasanya menggunakan algoritma yang sama, namun dilatih pada subset acak dari data pelatihan dengan mengggunakan teknik bootstrap sampling.\n",
    "\n",
    "**Cara kerja:** \n",
    "- **Bootstrap Sampling:**\n",
    "    - Membuat sejumlah dataset baru dengan melakukan bootstrap sampling dari dataset pelatihan. Bootstrap sampling melibatkan pengambilan sampel acak dengan penggantian dari dataset pelatihan.\n",
    "- **Model Independen:**\n",
    "    - Pada setiap dataset hasil bootstrap, model (seperti decision tree, logistic regression, atau random forest) dilatih secara independen.\n",
    "- **Prediksi Individual:**\n",
    "    - Masing-masing model digunakan untuk membuat prediksi pada dataset uji atau data baru yang belum pernah dilihat sebelumnya. Dalam kasus klasifikasi, ini bisa berupa pemilihan kelas mayoritas dari model-model tersebut. Dalam kasus regresi, ini bisa berupa rata-rata prediksi dari model-model tersebut.\n",
    "- **Aggregasi Prediksi:**\n",
    "    - Prediksi agregat dievaluasi menggunakan metrik-metrik kinerja seperti akurasi, MSE (Mean Squared Error), atau metrik lainnya sesuai dengan jenis masalah yang diselesaikan. Evaluasi ini memberikan gambaran tentang sejauh mana model Bagging berhasil meningkatkan akurasi dan ketahanan terhadap overfitting dibandingkan dengan model tunggal.\n",
    "- **Final Model(Opsional):**\n",
    "    - Terkadang, semua model individu yang dilatih dapat digabungkan menjadi satu model gabungan, tergantung pada jenis algoritma yang digunakan. Contohnya, dalam Random Forest, model-model individu digabungkan menjadi satu pohon keputusan yang kompleks untuk meningkatkan kinerja."
   ]
  },
  {
   "cell_type": "markdown",
   "metadata": {},
   "source": [
    "> Jelaskan perbedaan cara kerja algoritma Random Forest dengan algoritma boosting yang Anda pilih !"
   ]
  },
  {
   "cell_type": "markdown",
   "metadata": {},
   "source": [
    "**A.Random forest:**\n",
    "- Random Forest menggunakan teknik bagging dengan bootstrap sampling. Setiap pohon (model) dibangun pada subset acak dari data pelatihan dengan penggantian.\n",
    "- Keuntungannya adalah  membantu mengurangi overfitting dan variabilitas model dengan memastikan bahwa setiap pohon melihat variasi yang berbeda dari data.\n",
    "\n",
    "**B.AdaBoost Regression:**\n",
    "- Pada setiap iterasi, bobot diberikan pada data yang salah klasifikasi oleh model sebelumnya. Oleh karena itu, model berikutnya lebih fokus pada data yang sulit diklasifikasikan. Keuntungannya dapat memberikan perhatian lebih kepada data yang sulit, meningkatkan kinerja model pada kasus yang sulit."
   ]
  },
  {
   "cell_type": "markdown",
   "metadata": {},
   "source": [
    "> Jelaskan apa yang dimaksud dengan Cross Validation !"
   ]
  },
  {
   "cell_type": "markdown",
   "metadata": {},
   "source": [
    "Cross-validation adalah suatu teknik statistika yang digunakan untuk mengevaluasi kinerja suatu model atau algoritma dengan menggunakan data yang terbatas. Tujuan utamanya adalah mengukur sejauh mana model yang telah dibuat dapat memberikan prediksi yang akurat pada data baru yang belum pernah dilihat sebelumnya.\n",
    "\n",
    "Keuntungan : Menghindari Overfitting, Evaluasi yang Stabil, Pemilihan Model yang Optimal."
   ]
  }
 ],
 "metadata": {
  "kernelspec": {
   "display_name": "hacktiv",
   "language": "python",
   "name": "python3"
  },
  "language_info": {
   "codemirror_mode": {
    "name": "ipython",
    "version": 3
   },
   "file_extension": ".py",
   "mimetype": "text/x-python",
   "name": "python",
   "nbconvert_exporter": "python",
   "pygments_lexer": "ipython3",
   "version": "3.11.5"
  }
 },
 "nbformat": 4,
 "nbformat_minor": 2
}
